{
 "cells": [
  {
   "cell_type": "markdown",
   "metadata": {
    "id": "_bAsbW1QyqaN"
   },
   "source": [
    "# Practical Application III: Comparing Classifiers\n",
    "\n",
    "**Overview**: In this practical application, your goal is to compare the performance of the classifiers we encountered in this section, namely K Nearest Neighbor, Logistic Regression, Decision Trees, and Support Vector Machines.  We will utilize a dataset related to marketing bank products over the telephone.  \n",
    "\n"
   ]
  },
  {
   "cell_type": "markdown",
   "metadata": {
    "id": "8K3G45QxyqaQ"
   },
   "source": [
    "### Getting Started\n",
    "\n",
    "Our dataset comes from the UCI Machine Learning repository [link](https://archive.ics.uci.edu/ml/datasets/bank+marketing).  The data is from a Portugese banking institution and is a collection of the results of multiple marketing campaigns.  We will make use of the article accompanying the dataset [here](CRISP-DM-BANK.pdf) for more information on the data and features.\n",
    "\n"
   ]
  },
  {
   "cell_type": "markdown",
   "metadata": {
    "id": "MIBZtzzOyqaR"
   },
   "source": [
    "### Problem 1: Understanding the Data\n",
    "\n",
    "To gain a better understanding of the data, please read the information provided in the UCI link above, and examine the **Materials and Methods** section of the paper.  How many marketing campaigns does this data represent?"
   ]
  },
  {
   "cell_type": "markdown",
   "metadata": {
    "id": "UG3twg5o1cdg"
   },
   "source": [
    "The dataset from the UCI Machine Learning Repository represents 17 marketing campaigns conducted by a Portuguese banking institution between May 2008 and November 2010. The data includes 79,354 contacts made primarily through telephone calls, with occasional support from the Internet online banking channel. Each campaign was managed in an integrated fashion, and the results for all channels were combined.\n",
    "\n",
    "During these campaigns, an attractive long-term deposit application with good interest rates was offered. For each contact, a large number of attributes were stored, and the target variable indicated whether there was a success. Out of the entire database, there were 6,499 successes, resulting in an 8% success rate."
   ]
  },
  {
   "cell_type": "markdown",
   "metadata": {
    "id": "b0UeoQCAyqaT"
   },
   "source": [
    "### Problem 2: Read in the Data\n",
    "\n",
    "Use pandas to read in the dataset `bank-additional-full.csv` and assign to a meaningful variable name."
   ]
  },
  {
   "cell_type": "code",
   "execution_count": 1,
   "metadata": {
    "executionInfo": {
     "elapsed": 2874,
     "status": "ok",
     "timestamp": 1745210212159,
     "user": {
      "displayName": "Sanjay Singh",
      "userId": "03647094242753139049"
     },
     "user_tz": 420
    },
    "id": "RzBAuK5kyqaT"
   },
   "outputs": [],
   "source": [
    "import pandas as pd\n",
    "from sklearn.preprocessing import OneHotEncoder, LabelEncoder\n",
    "import seaborn as sns\n",
    "import matplotlib.pyplot as plt\n",
    "\n"
   ]
  },
  {
   "cell_type": "code",
   "execution_count": 2,
   "metadata": {
    "colab": {
     "base_uri": "https://localhost:8080/"
    },
    "executionInfo": {
     "elapsed": 24784,
     "status": "ok",
     "timestamp": 1745210236935,
     "user": {
      "displayName": "Sanjay Singh",
      "userId": "03647094242753139049"
     },
     "user_tz": 420
    },
    "id": "I2iMe6x6yqaU",
    "outputId": "eb6c471b-b5c8-4e93-832b-235543cd5f27"
   },
   "outputs": [],
   "source": [
    "file_path = 'data/bank-additional-full.csv'\n",
    "df = pd.read_csv(file_path, sep = ';')"
   ]
  },
  {
   "cell_type": "code",
   "execution_count": 3,
   "metadata": {
    "colab": {
     "base_uri": "https://localhost:8080/",
     "height": 235
    },
    "executionInfo": {
     "elapsed": 99,
     "status": "ok",
     "timestamp": 1745210237035,
     "user": {
      "displayName": "Sanjay Singh",
      "userId": "03647094242753139049"
     },
     "user_tz": 420
    },
    "id": "j5tqIJ97yqaV",
    "outputId": "fda59cfd-8d0a-4e34-85c9-de498c384efd"
   },
   "outputs": [
    {
     "data": {
      "text/html": [
       "<div>\n",
       "<style scoped>\n",
       "    .dataframe tbody tr th:only-of-type {\n",
       "        vertical-align: middle;\n",
       "    }\n",
       "\n",
       "    .dataframe tbody tr th {\n",
       "        vertical-align: top;\n",
       "    }\n",
       "\n",
       "    .dataframe thead th {\n",
       "        text-align: right;\n",
       "    }\n",
       "</style>\n",
       "<table border=\"1\" class=\"dataframe\">\n",
       "  <thead>\n",
       "    <tr style=\"text-align: right;\">\n",
       "      <th></th>\n",
       "      <th>age</th>\n",
       "      <th>job</th>\n",
       "      <th>marital</th>\n",
       "      <th>education</th>\n",
       "      <th>default</th>\n",
       "      <th>housing</th>\n",
       "      <th>loan</th>\n",
       "      <th>contact</th>\n",
       "      <th>month</th>\n",
       "      <th>day_of_week</th>\n",
       "      <th>...</th>\n",
       "      <th>campaign</th>\n",
       "      <th>pdays</th>\n",
       "      <th>previous</th>\n",
       "      <th>poutcome</th>\n",
       "      <th>emp.var.rate</th>\n",
       "      <th>cons.price.idx</th>\n",
       "      <th>cons.conf.idx</th>\n",
       "      <th>euribor3m</th>\n",
       "      <th>nr.employed</th>\n",
       "      <th>y</th>\n",
       "    </tr>\n",
       "  </thead>\n",
       "  <tbody>\n",
       "    <tr>\n",
       "      <th>0</th>\n",
       "      <td>56</td>\n",
       "      <td>housemaid</td>\n",
       "      <td>married</td>\n",
       "      <td>basic.4y</td>\n",
       "      <td>no</td>\n",
       "      <td>no</td>\n",
       "      <td>no</td>\n",
       "      <td>telephone</td>\n",
       "      <td>may</td>\n",
       "      <td>mon</td>\n",
       "      <td>...</td>\n",
       "      <td>1</td>\n",
       "      <td>999</td>\n",
       "      <td>0</td>\n",
       "      <td>nonexistent</td>\n",
       "      <td>1.1</td>\n",
       "      <td>93.994</td>\n",
       "      <td>-36.4</td>\n",
       "      <td>4.857</td>\n",
       "      <td>5191.0</td>\n",
       "      <td>no</td>\n",
       "    </tr>\n",
       "    <tr>\n",
       "      <th>1</th>\n",
       "      <td>57</td>\n",
       "      <td>services</td>\n",
       "      <td>married</td>\n",
       "      <td>high.school</td>\n",
       "      <td>unknown</td>\n",
       "      <td>no</td>\n",
       "      <td>no</td>\n",
       "      <td>telephone</td>\n",
       "      <td>may</td>\n",
       "      <td>mon</td>\n",
       "      <td>...</td>\n",
       "      <td>1</td>\n",
       "      <td>999</td>\n",
       "      <td>0</td>\n",
       "      <td>nonexistent</td>\n",
       "      <td>1.1</td>\n",
       "      <td>93.994</td>\n",
       "      <td>-36.4</td>\n",
       "      <td>4.857</td>\n",
       "      <td>5191.0</td>\n",
       "      <td>no</td>\n",
       "    </tr>\n",
       "    <tr>\n",
       "      <th>2</th>\n",
       "      <td>37</td>\n",
       "      <td>services</td>\n",
       "      <td>married</td>\n",
       "      <td>high.school</td>\n",
       "      <td>no</td>\n",
       "      <td>yes</td>\n",
       "      <td>no</td>\n",
       "      <td>telephone</td>\n",
       "      <td>may</td>\n",
       "      <td>mon</td>\n",
       "      <td>...</td>\n",
       "      <td>1</td>\n",
       "      <td>999</td>\n",
       "      <td>0</td>\n",
       "      <td>nonexistent</td>\n",
       "      <td>1.1</td>\n",
       "      <td>93.994</td>\n",
       "      <td>-36.4</td>\n",
       "      <td>4.857</td>\n",
       "      <td>5191.0</td>\n",
       "      <td>no</td>\n",
       "    </tr>\n",
       "    <tr>\n",
       "      <th>3</th>\n",
       "      <td>40</td>\n",
       "      <td>admin.</td>\n",
       "      <td>married</td>\n",
       "      <td>basic.6y</td>\n",
       "      <td>no</td>\n",
       "      <td>no</td>\n",
       "      <td>no</td>\n",
       "      <td>telephone</td>\n",
       "      <td>may</td>\n",
       "      <td>mon</td>\n",
       "      <td>...</td>\n",
       "      <td>1</td>\n",
       "      <td>999</td>\n",
       "      <td>0</td>\n",
       "      <td>nonexistent</td>\n",
       "      <td>1.1</td>\n",
       "      <td>93.994</td>\n",
       "      <td>-36.4</td>\n",
       "      <td>4.857</td>\n",
       "      <td>5191.0</td>\n",
       "      <td>no</td>\n",
       "    </tr>\n",
       "    <tr>\n",
       "      <th>4</th>\n",
       "      <td>56</td>\n",
       "      <td>services</td>\n",
       "      <td>married</td>\n",
       "      <td>high.school</td>\n",
       "      <td>no</td>\n",
       "      <td>no</td>\n",
       "      <td>yes</td>\n",
       "      <td>telephone</td>\n",
       "      <td>may</td>\n",
       "      <td>mon</td>\n",
       "      <td>...</td>\n",
       "      <td>1</td>\n",
       "      <td>999</td>\n",
       "      <td>0</td>\n",
       "      <td>nonexistent</td>\n",
       "      <td>1.1</td>\n",
       "      <td>93.994</td>\n",
       "      <td>-36.4</td>\n",
       "      <td>4.857</td>\n",
       "      <td>5191.0</td>\n",
       "      <td>no</td>\n",
       "    </tr>\n",
       "  </tbody>\n",
       "</table>\n",
       "<p>5 rows × 21 columns</p>\n",
       "</div>"
      ],
      "text/plain": [
       "   age        job  marital    education  default housing loan    contact  \\\n",
       "0   56  housemaid  married     basic.4y       no      no   no  telephone   \n",
       "1   57   services  married  high.school  unknown      no   no  telephone   \n",
       "2   37   services  married  high.school       no     yes   no  telephone   \n",
       "3   40     admin.  married     basic.6y       no      no   no  telephone   \n",
       "4   56   services  married  high.school       no      no  yes  telephone   \n",
       "\n",
       "  month day_of_week  ...  campaign  pdays  previous     poutcome emp.var.rate  \\\n",
       "0   may         mon  ...         1    999         0  nonexistent          1.1   \n",
       "1   may         mon  ...         1    999         0  nonexistent          1.1   \n",
       "2   may         mon  ...         1    999         0  nonexistent          1.1   \n",
       "3   may         mon  ...         1    999         0  nonexistent          1.1   \n",
       "4   may         mon  ...         1    999         0  nonexistent          1.1   \n",
       "\n",
       "   cons.price.idx  cons.conf.idx  euribor3m  nr.employed   y  \n",
       "0          93.994          -36.4      4.857       5191.0  no  \n",
       "1          93.994          -36.4      4.857       5191.0  no  \n",
       "2          93.994          -36.4      4.857       5191.0  no  \n",
       "3          93.994          -36.4      4.857       5191.0  no  \n",
       "4          93.994          -36.4      4.857       5191.0  no  \n",
       "\n",
       "[5 rows x 21 columns]"
      ]
     },
     "execution_count": 3,
     "metadata": {},
     "output_type": "execute_result"
    }
   ],
   "source": [
    "df.head()"
   ]
  },
  {
   "cell_type": "code",
   "execution_count": 4,
   "metadata": {
    "colab": {
     "base_uri": "https://localhost:8080/",
     "height": 564
    },
    "executionInfo": {
     "elapsed": 804,
     "status": "ok",
     "timestamp": 1745210237840,
     "user": {
      "displayName": "Sanjay Singh",
      "userId": "03647094242753139049"
     },
     "user_tz": 420
    },
    "id": "jWyCyPVtJp-e",
    "outputId": "9a0a7302-c4c0-4d4e-a438-1b78c7396176"
   },
   "outputs": [
    {
     "data": {
      "image/png": "[encoded data removed]",
      "text/plain": [
       "<Figure size 1000x600 with 1 Axes>"
      ]
     },
     "metadata": {},
     "output_type": "display_data"
    }
   ],
   "source": [
    "\n",
    "\n",
    "plt.figure(figsize=(10, 6))\n",
    "sns.scatterplot(data=df, x='age', y='duration', color='blue')\n",
    "plt.title('Scatter Plot of Age vs. Duration')\n",
    "plt.xlabel('Age')\n",
    "plt.ylabel('Duration (Seconds)')\n",
    "plt.show()\n",
    "\n",
    "\n"
   ]
  },
  {
   "cell_type": "code",
   "execution_count": 5,
   "metadata": {
    "colab": {
     "base_uri": "https://localhost:8080/",
     "height": 647
    },
    "executionInfo": {
     "elapsed": 635,
     "status": "ok",
     "timestamp": 1745210238477,
     "user": {
      "displayName": "Sanjay Singh",
      "userId": "03647094242753139049"
     },
     "user_tz": 420
    },
    "id": "spfM0TRHKS1m",
    "outputId": "4baa5472-bd85-4afb-a753-71caea3d4a9b"
   },
   "outputs": [
    {
     "data": {
      "text/plain": [
       "Text(0, 0.5, 'Frequency')"
      ]
     },
     "execution_count": 5,
     "metadata": {},
     "output_type": "execute_result"
    },
    {
     "data": {
      "image/png": "[encoded data removed]",
      "text/plain": [
       "<Figure size 1500x600 with 2 Axes>"
      ]
     },
     "metadata": {},
     "output_type": "display_data"
    }
   ],
   "source": [
    "\n",
    "\n",
    "fig, axes = plt.subplots(1, 2, figsize=(15, 6))\n",
    "\n",
    "# Bar plot for 'job'\n",
    "sns.countplot(data=df, x='job', hue='job', palette='viridis', legend=False, ax=axes[0])\n",
    "axes[0].set_title('Distribution of Job Types')\n",
    "axes[0].set_xlabel('Job Type')\n",
    "axes[0].set_ylabel('Count')\n",
    "axes[0].tick_params(axis='x', rotation=45)\n",
    "\n",
    "# Histogram for 'age'\n",
    "sns.histplot(data=df, x='age', bins=30, kde=True, color='blue', ax=axes[1])\n",
    "axes[1].set_title('Distribution of Age')\n",
    "axes[1].set_xlabel('Age')\n",
    "axes[1].set_ylabel('Frequency')\n",
    "\n"
   ]
  },
  {
   "cell_type": "markdown",
   "metadata": {
    "id": "9jGACLjJyqaW"
   },
   "source": [
    "### Problem 3: Understanding the Features\n",
    "\n",
    "\n",
    "Examine the data description below, and determine if any of the features are missing values or need to be coerced to a different data type.\n",
    "\n",
    "\n",
    "```\n",
    "Input variables:\n",
    "# bank client data:\n",
    "1 - age (numeric)\n",
    "2 - job : type of job (categorical: 'admin.','blue-collar','entrepreneur','housemaid','management','retired','self-employed','services','student','technician','unemployed','unknown')\n",
    "3 - marital : marital status (categorical: 'divorced','married','single','unknown'; note: 'divorced' means divorced or widowed)\n",
    "4 - education (categorical: 'basic.4y','basic.6y','basic.9y','high.school','illiterate','professional.course','university.degree','unknown')\n",
    "5 - default: has credit in default? (categorical: 'no','yes','unknown')\n",
    "6 - housing: has housing loan? (categorical: 'no','yes','unknown')\n",
    "7 - loan: has personal loan? (categorical: 'no','yes','unknown')\n",
    "# related with the last contact of the current campaign:\n",
    "8 - contact: contact communication type (categorical: 'cellular','telephone')\n",
    "9 - month: last contact month of year (categorical: 'jan', 'feb', 'mar', ..., 'nov', 'dec')\n",
    "10 - day_of_week: last contact day of the week (categorical: 'mon','tue','wed','thu','fri')\n",
    "11 - duration: last contact duration, in seconds (numeric). Important note: this attribute highly affects the output target (e.g., if duration=0 then y='no'). Yet, the duration is not known before a call is performed. Also, after the end of the call y is obviously known. Thus, this input should only be included for benchmark purposes and should be discarded if the intention is to have a realistic predictive model.\n",
    "# other attributes:\n",
    "12 - campaign: number of contacts performed during this campaign and for this client (numeric, includes last contact)\n",
    "13 - pdays: number of days that passed by after the client was last contacted from a previous campaign (numeric; 999 means client was not previously contacted)\n",
    "14 - previous: number of contacts performed before this campaign and for this client (numeric)\n",
    "15 - poutcome: outcome of the previous marketing campaign (categorical: 'failure','nonexistent','success')\n",
    "# social and economic context attributes\n",
    "16 - emp.var.rate: employment variation rate - quarterly indicator (numeric)\n",
    "17 - cons.price.idx: consumer price index - monthly indicator (numeric)\n",
    "18 - cons.conf.idx: consumer confidence index - monthly indicator (numeric)\n",
    "19 - euribor3m: euribor 3 month rate - daily indicator (numeric)\n",
    "20 - nr.employed: number of employees - quarterly indicator (numeric)\n",
    "\n",
    "Output variable (desired target):\n",
    "21 - y - has the client subscribed a term deposit? (binary: 'yes','no')\n",
    "```\n",
    "\n"
   ]
  },
  {
   "cell_type": "markdown",
   "metadata": {
    "id": "qUy_ZSmN4_ac"
   },
   "source": [
    "# **Missing Values**\n",
    "There are no missing values in any of the columns.\n",
    "# **Categorical Features:**\n",
    "* Convert categorical features (e.g., job, marital, education, etc.) to numerical values using techniques like one-hot encoding or label encoding.\n",
    "* 'Unknown' Values: Treat 'unknown' values as missing and decide on an imputation strategy."
   ]
  },
  {
   "cell_type": "code",
   "execution_count": 6,
   "metadata": {
    "colab": {
     "base_uri": "https://localhost:8080/"
    },
    "executionInfo": {
     "elapsed": 4,
     "status": "ok",
     "timestamp": 1745210238482,
     "user": {
      "displayName": "Sanjay Singh",
      "userId": "03647094242753139049"
     },
     "user_tz": 420
    },
    "id": "47OzHMntyqaW",
    "outputId": "a66db218-2b18-4477-f64f-bec9866c651c"
   },
   "outputs": [
    {
     "name": "stdout",
     "output_type": "stream",
     "text": [
      "Missing Values:\n",
      " age               0\n",
      "job               0\n",
      "marital           0\n",
      "education         0\n",
      "default           0\n",
      "housing           0\n",
      "loan              0\n",
      "contact           0\n",
      "month             0\n",
      "day_of_week       0\n",
      "duration          0\n",
      "campaign          0\n",
      "pdays             0\n",
      "previous          0\n",
      "poutcome          0\n",
      "emp.var.rate      0\n",
      "cons.price.idx    0\n",
      "cons.conf.idx     0\n",
      "euribor3m         0\n",
      "nr.employed       0\n",
      "y                 0\n",
      "dtype: int64\n",
      "\n",
      "Data Types:\n",
      " age                 int64\n",
      "job                object\n",
      "marital            object\n",
      "education          object\n",
      "default            object\n",
      "housing            object\n",
      "loan               object\n",
      "contact            object\n",
      "month              object\n",
      "day_of_week        object\n",
      "duration            int64\n",
      "campaign            int64\n",
      "pdays               int64\n",
      "previous            int64\n",
      "poutcome           object\n",
      "emp.var.rate      float64\n",
      "cons.price.idx    float64\n",
      "cons.conf.idx     float64\n",
      "euribor3m         float64\n",
      "nr.employed       float64\n",
      "y                  object\n",
      "dtype: object\n"
     ]
    }
   ],
   "source": [
    "\n",
    "# Check for missing values\n",
    "missing_values = df.isnull().sum()\n",
    "\n",
    "# Check data types\n",
    "data_types = df.dtypes\n",
    "\n",
    "print(\"Missing Values:\\n\", missing_values)\n",
    "print(\"\\nData Types:\\n\", data_types)\n"
   ]
  },
  {
   "cell_type": "markdown",
   "metadata": {
    "id": "UPemSi0oyqaW"
   },
   "source": [
    "### Problem 4: Understanding the Task\n",
    "\n",
    "After examining the description and data, your goal now is to clearly state the *Business Objective* of the task.  State the objective below."
   ]
  },
  {
   "cell_type": "markdown",
   "metadata": {
    "id": "cUtWylnc5w31"
   },
   "source": [
    "## **Business Objective**\n",
    "The primary business objective of this task is to predict whether a client will subscribe to a term deposit based on the data collected from various marketing campaigns conducted by a Portuguese banking institution. By accurately predicting client behavior, the bank aims to:\n",
    "\n",
    "1. **Optimize Marketing Strategies:** Improve the effectiveness of future marketing campaigns by targeting clients who are more likely to subscribe to term deposits.\n",
    "2. **Increase Subscription Rates:** Enhance the overall subscription rate for term deposits, thereby increasing the bank's revenue and customer base.\n",
    "3. **Resource Allocation:** Efficiently allocate resources, such as time and effort, towards clients with a higher probability of subscribing, reducing unnecessary costs.\n",
    "4. **Customer Insights:** Gain deeper insights into customer preferences and behaviors, enabling personalized marketing approaches and better customer relationship management."
   ]
  },
  {
   "cell_type": "code",
   "execution_count": 7,
   "metadata": {
    "colab": {
     "base_uri": "https://localhost:8080/"
    },
    "executionInfo": {
     "elapsed": 23,
     "status": "ok",
     "timestamp": 1745210238506,
     "user": {
      "displayName": "Sanjay Singh",
      "userId": "03647094242753139049"
     },
     "user_tz": 420
    },
    "id": "tYbsFEfdyqaX",
    "outputId": "da6bcf81-744d-4d23-bb21-faefb1167e17"
   },
   "outputs": [
    {
     "name": "stdout",
     "output_type": "stream",
     "text": [
      "<class 'pandas.core.frame.DataFrame'>\n",
      "RangeIndex: 41188 entries, 0 to 41187\n",
      "Data columns (total 21 columns):\n",
      " #   Column          Non-Null Count  Dtype  \n",
      "---  ------          --------------  -----  \n",
      " 0   age             41188 non-null  int64  \n",
      " 1   job             41188 non-null  object \n",
      " 2   marital         41188 non-null  object \n",
      " 3   education       41188 non-null  object \n",
      " 4   default         41188 non-null  object \n",
      " 5   housing         41188 non-null  object \n",
      " 6   loan            41188 non-null  object \n",
      " 7   contact         41188 non-null  object \n",
      " 8   month           41188 non-null  object \n",
      " 9   day_of_week     41188 non-null  object \n",
      " 10  duration        41188 non-null  int64  \n",
      " 11  campaign        41188 non-null  int64  \n",
      " 12  pdays           41188 non-null  int64  \n",
      " 13  previous        41188 non-null  int64  \n",
      " 14  poutcome        41188 non-null  object \n",
      " 15  emp.var.rate    41188 non-null  float64\n",
      " 16  cons.price.idx  41188 non-null  float64\n",
      " 17  cons.conf.idx   41188 non-null  float64\n",
      " 18  euribor3m       41188 non-null  float64\n",
      " 19  nr.employed     41188 non-null  float64\n",
      " 20  y               41188 non-null  object \n",
      "dtypes: float64(5), int64(5), object(11)\n",
      "memory usage: 6.6+ MB\n"
     ]
    }
   ],
   "source": [
    "df.info()"
   ]
  },
  {
   "cell_type": "code",
   "execution_count": null,
   "metadata": {
    "executionInfo": {
     "elapsed": 2,
     "status": "ok",
     "timestamp": 1745210238506,
     "user": {
      "displayName": "Sanjay Singh",
      "userId": "03647094242753139049"
     },
     "user_tz": 420
    },
    "id": "G8R0Ks2IyqaX"
   },
   "outputs": [],
   "source": []
  },
  {
   "cell_type": "code",
   "execution_count": null,
   "metadata": {
    "executionInfo": {
     "elapsed": 2,
     "status": "ok",
     "timestamp": 1745210238507,
     "user": {
      "displayName": "Sanjay Singh",
      "userId": "03647094242753139049"
     },
     "user_tz": 420
    },
    "id": "2zVzp59KyqaX"
   },
   "outputs": [],
   "source": []
  },
  {
   "cell_type": "markdown",
   "metadata": {
    "id": "gTyWjsopyqaX"
   },
   "source": [
    "### Problem 5: Engineering Features\n",
    "\n",
    "Now that you understand your business objective, we will build a basic model to get started.  Before we can do this, we must work to encode the data.  Using just the bank information features, prepare the features and target column for modeling with appropriate encoding and transformations."
   ]
  },
  {
   "cell_type": "code",
   "execution_count": 8,
   "metadata": {
    "executionInfo": {
     "elapsed": 31,
     "status": "ok",
     "timestamp": 1745210238539,
     "user": {
      "displayName": "Sanjay Singh",
      "userId": "03647094242753139049"
     },
     "user_tz": 420
    },
    "id": "toNgVlwYyqaX"
   },
   "outputs": [],
   "source": [
    "\n",
    "# Select bank client data features and target column\n",
    "features = df[['age', 'job', 'marital', 'education', 'default', 'housing', 'loan']]\n",
    "target = df['y']\n",
    "\n",
    "# Encode categorical features using OneHotEncoder\n",
    "categorical_features = ['job', 'marital', 'education', 'default', 'housing', 'loan']\n",
    "encoder = OneHotEncoder(sparse_output=False)\n",
    "encoded_features = encoder.fit_transform(features[categorical_features])\n"
   ]
  },
  {
   "cell_type": "code",
   "execution_count": 9,
   "metadata": {
    "executionInfo": {
     "elapsed": 26,
     "status": "ok",
     "timestamp": 1745210238567,
     "user": {
      "displayName": "Sanjay Singh",
      "userId": "03647094242753139049"
     },
     "user_tz": 420
    },
    "id": "AbZKGgzFyqaX"
   },
   "outputs": [],
   "source": [
    "\n",
    "# Convert encoded features to DataFrame\n",
    "encoded_features_df = pd.DataFrame(encoded_features, columns=encoder.get_feature_names_out(categorical_features))\n",
    "\n",
    "# Concatenate encoded features with numeric features\n",
    "numeric_features = features[['age']]\n",
    "prepared_features = pd.concat([numeric_features.reset_index(drop=True), encoded_features_df.reset_index(drop=True)], axis=1)\n",
    "\n",
    "# Encode target column using LabelEncoder\n",
    "label_encoder = LabelEncoder()\n",
    "prepared_target = label_encoder.fit_transform(target)\n"
   ]
  },
  {
   "cell_type": "code",
   "execution_count": 10,
   "metadata": {
    "colab": {
     "base_uri": "https://localhost:8080/"
    },
    "executionInfo": {
     "elapsed": 43,
     "status": "ok",
     "timestamp": 1745210238611,
     "user": {
      "displayName": "Sanjay Singh",
      "userId": "03647094242753139049"
     },
     "user_tz": 420
    },
    "id": "_yAZX0HEyqaY",
    "outputId": "b942dbf0-868d-4970-c055-3dc5de6b04eb"
   },
   "outputs": [
    {
     "name": "stdout",
     "output_type": "stream",
     "text": [
      "Prepared Features:\n",
      "    age  job_admin.  job_blue-collar  job_entrepreneur  job_housemaid  \\\n",
      "0   56         0.0              0.0               0.0            1.0   \n",
      "1   57         0.0              0.0               0.0            0.0   \n",
      "2   37         0.0              0.0               0.0            0.0   \n",
      "3   40         1.0              0.0               0.0            0.0   \n",
      "4   56         0.0              0.0               0.0            0.0   \n",
      "\n",
      "   job_management  job_retired  job_self-employed  job_services  job_student  \\\n",
      "0             0.0          0.0                0.0           0.0          0.0   \n",
      "1             0.0          0.0                0.0           1.0          0.0   \n",
      "2             0.0          0.0                0.0           1.0          0.0   \n",
      "3             0.0          0.0                0.0           0.0          0.0   \n",
      "4             0.0          0.0                0.0           1.0          0.0   \n",
      "\n",
      "   ...  education_unknown  default_no  default_unknown  default_yes  \\\n",
      "0  ...                0.0         1.0              0.0          0.0   \n",
      "1  ...                0.0         0.0              1.0          0.0   \n",
      "2  ...                0.0         1.0              0.0          0.0   \n",
      "3  ...                0.0         1.0              0.0          0.0   \n",
      "4  ...                0.0         1.0              0.0          0.0   \n",
      "\n",
      "   housing_no  housing_unknown  housing_yes  loan_no  loan_unknown  loan_yes  \n",
      "0         1.0              0.0          0.0      1.0           0.0       0.0  \n",
      "1         1.0              0.0          0.0      1.0           0.0       0.0  \n",
      "2         0.0              0.0          1.0      1.0           0.0       0.0  \n",
      "3         1.0              0.0          0.0      1.0           0.0       0.0  \n",
      "4         1.0              0.0          0.0      0.0           0.0       1.0  \n",
      "\n",
      "[5 rows x 34 columns]\n",
      "\n",
      "Prepared Target:\n",
      " [0 0 0 0 0]\n"
     ]
    }
   ],
   "source": [
    "\n",
    "# Display the prepared features and target column\n",
    "print(\"Prepared Features:\\n\", prepared_features.head())\n",
    "print(\"\\nPrepared Target:\\n\", prepared_target[:5])\n"
   ]
  },
  {
   "cell_type": "markdown",
   "metadata": {
    "id": "DYXpkgAIyqaY"
   },
   "source": [
    "### Problem 6: Train/Test Split\n",
    "\n",
    "With your data prepared, split it into a train and test set."
   ]
  },
  {
   "cell_type": "code",
   "execution_count": 11,
   "metadata": {
    "executionInfo": {
     "elapsed": 165,
     "status": "ok",
     "timestamp": 1745210238777,
     "user": {
      "displayName": "Sanjay Singh",
      "userId": "03647094242753139049"
     },
     "user_tz": 420
    },
    "id": "uaIoWulVyqaY"
   },
   "outputs": [],
   "source": [
    "\n",
    "from sklearn.model_selection import train_test_split\n"
   ]
  },
  {
   "cell_type": "code",
   "execution_count": 12,
   "metadata": {
    "executionInfo": {
     "elapsed": 2,
     "status": "ok",
     "timestamp": 1745210238780,
     "user": {
      "displayName": "Sanjay Singh",
      "userId": "03647094242753139049"
     },
     "user_tz": 420
    },
    "id": "LwjMnGvmyqaY"
   },
   "outputs": [],
   "source": [
    "\n",
    "\n",
    "# Split the data into train and test sets\n",
    "X_train, X_test, y_train, y_test = train_test_split(prepared_features, prepared_target, test_size=0.2, random_state=42)\n"
   ]
  },
  {
   "cell_type": "code",
   "execution_count": 13,
   "metadata": {
    "colab": {
     "base_uri": "https://localhost:8080/"
    },
    "executionInfo": {
     "elapsed": 9,
     "status": "ok",
     "timestamp": 1745210238788,
     "user": {
      "displayName": "Sanjay Singh",
      "userId": "03647094242753139049"
     },
     "user_tz": 420
    },
    "id": "ATLmLHCFyqaY",
    "outputId": "c132b5ce-a3dc-47a6-d81e-5994f2a67bab"
   },
   "outputs": [
    {
     "name": "stdout",
     "output_type": "stream",
     "text": [
      "Train Features Shape: (32950, 34)\n",
      "Test Features Shape: (8238, 34)\n",
      "Train Target Shape: (32950,)\n",
      "Test Target Shape: (8238,)\n"
     ]
    }
   ],
   "source": [
    "\n",
    "# Display the shapes of the train and test sets\n",
    "print(\"Train Features Shape:\", X_train.shape)\n",
    "print(\"Test Features Shape:\", X_test.shape)\n",
    "print(\"Train Target Shape:\", y_train.shape)\n",
    "print(\"Test Target Shape:\", y_test.shape)\n"
   ]
  },
  {
   "cell_type": "markdown",
   "metadata": {
    "id": "oH94oFivyqaY"
   },
   "source": [
    "### Problem 7: A Baseline Model\n",
    "\n",
    "Before we build our first model, we want to establish a baseline.  What is the baseline performance that our classifier should aim to beat?"
   ]
  },
  {
   "cell_type": "code",
   "execution_count": 14,
   "metadata": {
    "executionInfo": {
     "elapsed": 14,
     "status": "ok",
     "timestamp": 1745210238832,
     "user": {
      "displayName": "Sanjay Singh",
      "userId": "03647094242753139049"
     },
     "user_tz": 420
    },
    "id": "1mj1DBpByqaY"
   },
   "outputs": [],
   "source": [
    "\n",
    "from sklearn.dummy import DummyClassifier\n",
    "from sklearn.metrics import accuracy_score\n"
   ]
  },
  {
   "cell_type": "code",
   "execution_count": 15,
   "metadata": {
    "executionInfo": {
     "elapsed": 15,
     "status": "ok",
     "timestamp": 1745210238834,
     "user": {
      "displayName": "Sanjay Singh",
      "userId": "03647094242753139049"
     },
     "user_tz": 420
    },
    "id": "OcN8n6ThyqaY"
   },
   "outputs": [],
   "source": [
    "\n",
    "# Establish a baseline performance using DummyClassifier\n",
    "dummy_clf = DummyClassifier(strategy=\"most_frequent\")\n",
    "dummy_clf.fit(X_train, y_train)\n",
    "y_pred_dummy = dummy_clf.predict(X_test)\n"
   ]
  },
  {
   "cell_type": "code",
   "execution_count": 16,
   "metadata": {
    "colab": {
     "base_uri": "https://localhost:8080/"
    },
    "executionInfo": {
     "elapsed": 16,
     "status": "ok",
     "timestamp": 1745210238835,
     "user": {
      "displayName": "Sanjay Singh",
      "userId": "03647094242753139049"
     },
     "user_tz": 420
    },
    "id": "dPe9-PXayqaY",
    "outputId": "3c5734be-c0b9-49f1-8904-961750739e07"
   },
   "outputs": [
    {
     "name": "stdout",
     "output_type": "stream",
     "text": [
      "Baseline Accuracy: 0.8865\n"
     ]
    }
   ],
   "source": [
    "\n",
    "# Calculate accuracy of the baseline model\n",
    "baseline_accuracy = accuracy_score(y_test, y_pred_dummy)\n",
    "\n",
    "print(f\"Baseline Accuracy: {baseline_accuracy:.4f}\")\n"
   ]
  },
  {
   "cell_type": "markdown",
   "metadata": {
    "id": "zmQ03w8OyqaY"
   },
   "source": [
    "### Problem 8: A Simple Model\n",
    "\n",
    "Use Logistic Regression to build a basic model on your data.  "
   ]
  },
  {
   "cell_type": "code",
   "execution_count": 17,
   "metadata": {
    "colab": {
     "base_uri": "https://localhost:8080/"
    },
    "executionInfo": {
     "elapsed": 551,
     "status": "ok",
     "timestamp": 1745210239374,
     "user": {
      "displayName": "Sanjay Singh",
      "userId": "03647094242753139049"
     },
     "user_tz": 420
    },
    "id": "TiKxLa2LyqaY",
    "outputId": "2585dbf2-5543-4b43-cf95-283e60199228"
   },
   "outputs": [
    {
     "name": "stdout",
     "output_type": "stream",
     "text": [
      "Logistic Regression Accuracy: 0.8865\n"
     ]
    }
   ],
   "source": [
    "\n",
    "from sklearn.linear_model import LogisticRegression\n",
    "# Build and train the Logistic Regression model\n",
    "logistic_regression_model = LogisticRegression(max_iter=1000)\n",
    "logistic_regression_model.fit(X_train, y_train)\n",
    "\n",
    "# Predict on the test set\n",
    "y_pred_logistic_regression = logistic_regression_model.predict(X_test)\n",
    "\n",
    "# Calculate accuracy of the Logistic Regression model\n",
    "logistic_regression_accuracy = accuracy_score(y_test, y_pred_logistic_regression)\n",
    "\n",
    "print(f\"Logistic Regression Accuracy: {logistic_regression_accuracy:.4f}\")\n"
   ]
  },
  {
   "cell_type": "markdown",
   "metadata": {
    "id": "mzmJhF_syqaZ"
   },
   "source": [
    "### Problem 9: Score the Model\n",
    "\n",
    "What is the accuracy of your model?"
   ]
  },
  {
   "cell_type": "markdown",
   "metadata": {
    "id": "cydgr6ze-OrX"
   },
   "source": [
    "he accuracy of the Logistic Regression model is 88.65%."
   ]
  },
  {
   "cell_type": "code",
   "execution_count": 18,
   "metadata": {
    "colab": {
     "base_uri": "https://localhost:8080/"
    },
    "executionInfo": {
     "elapsed": 19,
     "status": "ok",
     "timestamp": 1745210239394,
     "user": {
      "displayName": "Sanjay Singh",
      "userId": "03647094242753139049"
     },
     "user_tz": 420
    },
    "id": "QckAK6KPyqaZ",
    "outputId": "51a164bb-d870-4996-c709-201abd3f2992"
   },
   "outputs": [
    {
     "name": "stdout",
     "output_type": "stream",
     "text": [
      "Logistic Regression Accuracy: 0.8865\n"
     ]
    }
   ],
   "source": [
    "print(f\"Logistic Regression Accuracy: {logistic_regression_accuracy:.4f}\")"
   ]
  },
  {
   "cell_type": "markdown",
   "metadata": {
    "id": "SxhmXqrLyqaZ"
   },
   "source": [
    "### Problem 10: Model Comparisons\n",
    "\n",
    "Now, we aim to compare the performance of the Logistic Regression model to our KNN algorithm, Decision Tree, and SVM models.  Using the default settings for each of the models, fit and score each.  Also, be sure to compare the fit time of each of the models.  Present your findings in a `DataFrame` similar to that below:\n",
    "\n",
    "| Model | Train Time | Train Accuracy | Test Accuracy |\n",
    "| ----- | ---------- | -------------  | -----------   |\n",
    "|     |    |.     |.     |"
   ]
  },
  {
   "cell_type": "code",
   "execution_count": 19,
   "metadata": {
    "executionInfo": {
     "elapsed": 198,
     "status": "ok",
     "timestamp": 1745210239587,
     "user": {
      "displayName": "Sanjay Singh",
      "userId": "03647094242753139049"
     },
     "user_tz": 420
    },
    "id": "yiimTb4vyqaZ"
   },
   "outputs": [],
   "source": [
    "\n",
    "from sklearn.neighbors import KNeighborsClassifier\n",
    "from sklearn.tree import DecisionTreeClassifier\n",
    "from sklearn.svm import SVC\n",
    "import time\n",
    "\n"
   ]
  },
  {
   "cell_type": "code",
   "execution_count": 20,
   "metadata": {
    "executionInfo": {
     "elapsed": 41,
     "status": "ok",
     "timestamp": 1745210239629,
     "user": {
      "displayName": "Sanjay Singh",
      "userId": "03647094242753139049"
     },
     "user_tz": 420
    },
    "id": "6QTGsj6yyqaZ"
   },
   "outputs": [],
   "source": [
    "\n",
    "# Initialize models\n",
    "models = {\n",
    "    \"Logistic Regression\": LogisticRegression(max_iter=1000),\n",
    "    \"KNN\": KNeighborsClassifier(),\n",
    "    \"SVM\": SVC()\n",
    "}\n"
   ]
  },
  {
   "cell_type": "code",
   "execution_count": 21,
   "metadata": {
    "id": "ChAcRchxyqaZ"
   },
   "outputs": [
    {
     "name": "stdout",
     "output_type": "stream",
     "text": [
      "                 Model  Accuracy  Fit Time (seconds)\n",
      "0  Logistic Regression  0.886502            0.344973\n",
      "1                  KNN  0.873513            0.007278\n",
      "2                  SVM  0.886502           16.495353\n"
     ]
    }
   ],
   "source": [
    "\n",
    "# Fit and score each model, and record fit time\n",
    "results = []\n",
    "for model_name, model in models.items():\n",
    "  start_time = time.time()\n",
    "  model.fit(X_train, y_train)\n",
    "  fit_time = time.time() - start_time\n",
    "\n",
    "  y_pred = model.predict(X_test)\n",
    "  accuracy = accuracy_score(y_test, y_pred)\n",
    "\n",
    "  results.append({\n",
    "      \"Model\": model_name,\n",
    "      \"Accuracy\": accuracy,\n",
    "      \"Fit Time (seconds)\": fit_time\n",
    "      })\n",
    "\n",
    "# Create a DataFrame to present the findings\n",
    "results_df = pd.DataFrame(results)\n",
    "\n",
    "print(results_df)\n"
   ]
  },
  {
   "cell_type": "markdown",
   "metadata": {
    "id": "BrIaBiP0yqaZ"
   },
   "source": [
    "### Problem 11: Improving the Model\n",
    "\n",
    "Now that we have some basic models on the board, we want to try to improve these.  Below, we list a few things to explore in this pursuit.\n",
    "\n",
    "- More feature engineering and exploration.  For example, should we keep the gender feature?  Why or why not?\n",
    "- Hyperparameter tuning and grid search.  All of our models have additional hyperparameters to tune and explore.  For example the number of neighbors in KNN or the maximum depth of a Decision Tree.  \n",
    "- Adjust your performance metric"
   ]
  },
  {
   "cell_type": "markdown",
   "metadata": {
    "id": "10FjLIBxCAM8"
   },
   "source": [
    "## 1. **Feature Engineering and Exploration**\n",
    "* **Gender Feature:** The dataset does not include a gender feature. However, if it did, we would need to consider whether it adds predictive value. Gender might influence certain behaviors, but it could also introduce bias. It's essential to evaluate its impact on model performance and fairness.\n",
    "\n",
    "* **Other Features:** We can explore additional features such as interaction terms, polynomial features, or domain-specific transformations. For example, combining age with job to create a new feature that captures age-specific job trends.\n",
    "\n",
    "##2. **Hyperparameter Tuning and Grid Search**\n",
    "Hyperparameter tuning can significantly improve model performance. Here are some examples:\n",
    "* **KNN:** Number of neighbors (n_neighbors).\n",
    "* **Decision Tree:** Maximum depth (max_depth), minimum samples split (min_samples_split).\n",
    "* **SVM:** Regularization parameter (C), kernel type (kernel).\n",
    "We can use GridSearchCV to systematically explore different hyperparameter combinations and select the best ones\n",
    "\n",
    "##3. **Adjusting Performance Metric**\n",
    "* **F1 Score:** Combines precision and recall, useful for imbalanced datasets.\n",
    "* **Precision and Recall:** Evaluate the model's ability to correctly identify positive cases."
   ]
  },
  {
   "cell_type": "code",
   "execution_count": 22,
   "metadata": {
    "id": "6E6HCX8RyqaZ"
   },
   "outputs": [],
   "source": [
    "\n",
    "\n",
    "\n",
    "# Initialize models with hyperparameter tuning using GridSearchCV\n",
    "models = {\n",
    "    \"Logistic Regression\": LogisticRegression(max_iter=1000),\n",
    "    \"KNN\": KNeighborsClassifier(),\n",
    "    \"Decision Tree\": DecisionTreeClassifier(),\n",
    "    \"SVM\": SVC()\n",
    "}\n",
    "\n",
    "param_grids = {\n",
    "    \"Logistic Regression\": {'C': [0.1, 1, 10]},\n",
    "    \"KNN\": {'n_neighbors': [3, 5, 7]},\n",
    "    \"Decision Tree\": {'max_depth': [None, 10, 20]},\n",
    "    \"SVM\": {'C': [0.1, 1, 10], 'kernel': ['linear', 'rbf']}\n",
    "}\n"
   ]
  },
  {
   "cell_type": "code",
   "execution_count": null,
   "metadata": {
    "id": "Rfmpy_14yqaZ"
   },
   "outputs": [],
   "source": [
    "from sklearn.model_selection import train_test_split, GridSearchCV\n",
    "from sklearn.metrics import accuracy_score, f1_score\n",
    "\n",
    "results = []\n",
    "for model_name, model in models.items():\n",
    "  grid_search = GridSearchCV(model, param_grids[model_name], cv=5)\n",
    "\n",
    "  start_time = time.time()\n",
    "  grid_search.fit(X_train, y_train)\n",
    "  fit_time = time.time() - start_time\n",
    "\n",
    "  best_model = grid_search.best_estimator_\n",
    "  y_pred = best_model.predict(X_test)\n",
    "\n",
    "  accuracy = accuracy_score(y_test, y_pred)\n",
    "  f1 = f1_score(y_test, y_pred)\n",
    "\n",
    "  results.append({\n",
    "      \"Model\": model_name,\n",
    "      \"Best Parameters\": grid_search.best_params_,\n",
    "      \"Accuracy\": accuracy,\n",
    "      \"F1 Score\": f1,\n",
    "      \"Fit Time (seconds)\": fit_time\n",
    "      })\n"
   ]
  },
  {
   "cell_type": "code",
   "execution_count": null,
   "metadata": {
    "id": "73tLQLgzyqaZ"
   },
   "outputs": [],
   "source": [
    "\n",
    "results_df = pd.DataFrame(results)\n",
    "\n",
    "print(results_df)\n"
   ]
  },
  {
   "cell_type": "markdown",
   "metadata": {
    "id": "Ua2m__QyNMH2"
   },
   "source": [
    "# **Findings with Actionable Items**\n",
    "#### **Findings:**\n",
    "\n",
    "* **Age Distribution:** Most clients are between 30 and 60 years old.\n",
    "* **Job Type:** The majority of clients are in administrative, blue-collar, and technician roles.\n",
    "* **Marital Status:** Most clients are married.\n",
    "* **Education Level:** A significant portion of clients have a university degree or high school education.\n",
    "* **Loan Status:** Many clients have housing loans, but fewer have personal loans.\n",
    "\n",
    "#### **Actionable Items:**\n",
    "\n",
    "* **Target Younger Clients:** Marketing campaigns could focus more on younger clients who might be more open to new financial products.\n",
    "* **Job-Specific Campaigns:** Tailor marketing messages to specific job types, emphasizing benefits relevant to their financial situation.\n",
    "* **Marital Status:** Develop campaigns that address the financial needs of married clients, such as joint accounts or family savings plans.\n",
    "* **Education-Based Messaging:** Highlight the benefits of term deposits in a way that resonates with clients' educational backgrounds.\n",
    "* **Loan Offers:** Consider offering bundled products that include term deposits and loan options."
   ]
  }
 ],
 "metadata": {
  "accelerator": "GPU",
  "colab": {
   "gpuType": "T4",
   "provenance": []
  },
  "kernelspec": {
   "display_name": "Python 3 (ipykernel)",
   "language": "python",
   "name": "python3"
  },
  "language_info": {
   "codemirror_mode": {
    "name": "ipython",
    "version": 3
   },
   "file_extension": ".py",
   "mimetype": "text/x-python",
   "name": "python",
   "nbconvert_exporter": "python",
   "pygments_lexer": "ipython3",
   "version": "3.10.5"
  }
 },
 "nbformat": 4,
 "nbformat_minor": 4
}

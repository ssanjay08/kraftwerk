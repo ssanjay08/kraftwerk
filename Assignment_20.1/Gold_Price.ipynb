{
 "cells": [
  {
   "cell_type": "markdown",
   "id": "7e6835f0-0ff1-410a-9907-a76409aa34fe",
   "metadata": {
    "id": "Oysaar_TioEu"
   },
   "source": [
    "# **Assignment20.1 - Initial Report on Gold Price & Exploratory Data Analysis**"
   ]
  },
  {
   "cell_type": "markdown",
   "id": "ae0bbfbb-7abb-413f-826a-ea354e5f6f88",
   "metadata": {
    "id": "fA5Vo0XZjBx2"
   },
   "source": [
    "# **Project Overview**\n",
    "This repository contains the initial report and exploratory data analysis (EDA) for my capstone project on gold price prediction. Gold prices are considered a safe deposit, which deeply interests me. I wanted to explore a comprehensive dataset on gold prices and use it to build a predictive model that considers economic factors influencing gold prices."
   ]
  },
  {
   "cell_type": "markdown",
   "id": "918e9e53-6290-42cc-848e-eb698cc92969",
   "metadata": {
    "id": "Sho8ABdjBtZB"
   },
   "source": [
    "# **Problem Statement:**\n",
    "*Develop a machine learning model to predict gold prices by analyzing the impact of various economic indicators.\n",
    "\n",
    "* Data Needed:\n",
    "* Economic indicators (e.g., inflation rates, interest rates, GDP)\n",
    "* Historical gold prices\n",
    "# **Techniques:**\n",
    "* Multiple Linear Regression\n",
    "* Random Forest\n",
    "* Gradient Boosting\n",
    "* Lasso Regression\n",
    "\n",
    "# **Source of Data:**\n",
    "Yahoo Finance, Kitco, Kaggle. I ended up using a dataset from Kaggle as it contains historical gold prices, financial information for some market indices, commodities, economic indicators, and forex rates. This dataset is suitable for my gold price analysis. Source dataset is available Kaggle link [Gold Price Regression](www.kaggle.com/datasets/franciscogcc/financial-data/data).\n",
    "\n",
    "# **Key Features**\n",
    "**Market Indices:**\n",
    "\n",
    "* S&P 500: Includes opening, closing, high, low prices, and volume.\n",
    "* NASDAQ:Includes opening, closing, high, low prices, and volume.\n",
    "\n",
    "# **Economic Indicators:**\n",
    "\n",
    "* Interest Rates (us_rates_%): Reflects the prevailing interest rates.\n",
    "* Consumer Price Index (CPI): Measures inflation.\n",
    "\n",
    "#**Forex Rates:**\n",
    "\n",
    "* USD/CHF: Exchange rate between US Dollar and Swiss Franc.\n",
    "* EUR/USD: Exchange rate between Euro and US Dollar.\n",
    "\n",
    "# **Commodities:**\n",
    "\n",
    "* Silver: Includes opening, closing, high, low prices, and volume.\n",
    "* Oil: Includes opening, closing, high, low prices, and volume.\n",
    "* Platinum: Includes opening, closing, high, low prices, and volume.\n",
    "* Palladium: Includes opening, closing, high, low prices, and volume.\n",
    "\n",
    "# **Gold Prices:**\n",
    "* Gold: Includes opening, closing, high, low prices, and volume."
   ]
  },
  {
   "cell_type": "code",
   "execution_count": 1,
   "id": "0717f1c9-28b7-4a9b-ac8e-8dacce5235c7",
   "metadata": {
    "executionInfo": {
     "elapsed": 5,
     "status": "ok",
     "timestamp": 1745186878572,
     "user": {
      "displayName": "Sanjay Singh",
      "userId": "03647094242753139049"
     },
     "user_tz": 420
    },
    "id": "0717f1c9-28b7-4a9b-ac8e-8dacce5235c7"
   },
   "outputs": [],
   "source": [
    "import pandas as pd\n",
    "import matplotlib.pyplot as plt\n",
    "import seaborn as sns\n",
    "from sklearn.model_selection import train_test_split , GridSearchCV, cross_val_score\n",
    "from sklearn.linear_model import LinearRegression, Ridge, Lasso\n",
    "from sklearn.ensemble import RandomForestRegressor, GradientBoostingRegressor\n",
    "from sklearn.metrics import mean_squared_error, r2_score\n",
    "from sklearn.preprocessing import StandardScaler\n"
   ]
  },
  {
   "cell_type": "markdown",
   "id": "eXYo2QepDKzl",
   "metadata": {
    "id": "eXYo2QepDKzl"
   },
   "source": [
    "Read data set"
   ]
  },
  {
   "cell_type": "code",
   "execution_count": 2,
   "id": "bulfQ7TBAua4",
   "metadata": {
    "colab": {
     "base_uri": "https://localhost:8080/"
    },
    "executionInfo": {
     "elapsed": 931,
     "status": "ok",
     "timestamp": 1745186884065,
     "user": {
      "displayName": "Sanjay Singh",
      "userId": "03647094242753139049"
     },
     "user_tz": 420
    },
    "id": "bulfQ7TBAua4",
    "outputId": "ae86b385-bc00-4e7c-b685-14724f1fff7d"
   },
   "outputs": [],
   "source": [
    "# Load the dataset\n",
    "file_path = 'financial_regression.csv'\n",
    "\n",
    "#create Dataframe\n",
    "data = pd.read_csv(file_path)\n",
    "\n"
   ]
  },
  {
   "cell_type": "code",
   "execution_count": 3,
   "id": "_7pXti5LGlkM",
   "metadata": {
    "colab": {
     "base_uri": "https://localhost:8080/",
     "height": 339
    },
    "executionInfo": {
     "elapsed": 47,
     "status": "ok",
     "timestamp": 1745186885770,
     "user": {
      "displayName": "Sanjay Singh",
      "userId": "03647094242753139049"
     },
     "user_tz": 420
    },
    "id": "_7pXti5LGlkM",
    "outputId": "dc5be09e-f143-418a-9f62-248c243cc018"
   },
   "outputs": [
    {
     "data": {
      "text/html": [
       "<div>\n",
       "<style scoped>\n",
       "    .dataframe tbody tr th:only-of-type {\n",
       "        vertical-align: middle;\n",
       "    }\n",
       "\n",
       "    .dataframe tbody tr th {\n",
       "        vertical-align: top;\n",
       "    }\n",
       "\n",
       "    .dataframe thead th {\n",
       "        text-align: right;\n",
       "    }\n",
       "</style>\n",
       "<table border=\"1\" class=\"dataframe\">\n",
       "  <thead>\n",
       "    <tr style=\"text-align: right;\">\n",
       "      <th></th>\n",
       "      <th>date</th>\n",
       "      <th>sp500 open</th>\n",
       "      <th>sp500 high</th>\n",
       "      <th>sp500 low</th>\n",
       "      <th>sp500 close</th>\n",
       "      <th>sp500 volume</th>\n",
       "      <th>sp500 high-low</th>\n",
       "      <th>nasdaq open</th>\n",
       "      <th>nasdaq high</th>\n",
       "      <th>nasdaq low</th>\n",
       "      <th>...</th>\n",
       "      <th>palladium high</th>\n",
       "      <th>palladium low</th>\n",
       "      <th>palladium close</th>\n",
       "      <th>palladium volume</th>\n",
       "      <th>palladium high-low</th>\n",
       "      <th>gold open</th>\n",
       "      <th>gold high</th>\n",
       "      <th>gold low</th>\n",
       "      <th>gold close</th>\n",
       "      <th>gold volume</th>\n",
       "    </tr>\n",
       "  </thead>\n",
       "  <tbody>\n",
       "    <tr>\n",
       "      <th>0</th>\n",
       "      <td>2010-01-14</td>\n",
       "      <td>114.49</td>\n",
       "      <td>115.14</td>\n",
       "      <td>114.42</td>\n",
       "      <td>114.93</td>\n",
       "      <td>115646960.0</td>\n",
       "      <td>0.72</td>\n",
       "      <td>46.26</td>\n",
       "      <td>46.520</td>\n",
       "      <td>46.22</td>\n",
       "      <td>...</td>\n",
       "      <td>45.02</td>\n",
       "      <td>43.86</td>\n",
       "      <td>44.84</td>\n",
       "      <td>364528.0</td>\n",
       "      <td>1.16</td>\n",
       "      <td>111.51</td>\n",
       "      <td>112.37</td>\n",
       "      <td>110.79</td>\n",
       "      <td>112.03</td>\n",
       "      <td>18305238.0</td>\n",
       "    </tr>\n",
       "    <tr>\n",
       "      <th>1</th>\n",
       "      <td>2010-01-15</td>\n",
       "      <td>114.73</td>\n",
       "      <td>114.84</td>\n",
       "      <td>113.20</td>\n",
       "      <td>113.64</td>\n",
       "      <td>212252769.0</td>\n",
       "      <td>1.64</td>\n",
       "      <td>46.46</td>\n",
       "      <td>46.550</td>\n",
       "      <td>45.65</td>\n",
       "      <td>...</td>\n",
       "      <td>45.76</td>\n",
       "      <td>44.40</td>\n",
       "      <td>45.76</td>\n",
       "      <td>442210.0</td>\n",
       "      <td>1.36</td>\n",
       "      <td>111.35</td>\n",
       "      <td>112.01</td>\n",
       "      <td>110.38</td>\n",
       "      <td>110.86</td>\n",
       "      <td>18000724.0</td>\n",
       "    </tr>\n",
       "    <tr>\n",
       "      <th>2</th>\n",
       "      <td>2010-01-18</td>\n",
       "      <td>NaN</td>\n",
       "      <td>NaN</td>\n",
       "      <td>NaN</td>\n",
       "      <td>NaN</td>\n",
       "      <td>NaN</td>\n",
       "      <td>NaN</td>\n",
       "      <td>NaN</td>\n",
       "      <td>NaN</td>\n",
       "      <td>NaN</td>\n",
       "      <td>...</td>\n",
       "      <td>NaN</td>\n",
       "      <td>NaN</td>\n",
       "      <td>NaN</td>\n",
       "      <td>NaN</td>\n",
       "      <td>NaN</td>\n",
       "      <td>NaN</td>\n",
       "      <td>NaN</td>\n",
       "      <td>NaN</td>\n",
       "      <td>NaN</td>\n",
       "      <td>NaN</td>\n",
       "    </tr>\n",
       "    <tr>\n",
       "      <th>3</th>\n",
       "      <td>2010-01-19</td>\n",
       "      <td>113.62</td>\n",
       "      <td>115.13</td>\n",
       "      <td>113.59</td>\n",
       "      <td>115.06</td>\n",
       "      <td>138671890.0</td>\n",
       "      <td>1.54</td>\n",
       "      <td>45.96</td>\n",
       "      <td>46.640</td>\n",
       "      <td>45.95</td>\n",
       "      <td>...</td>\n",
       "      <td>47.08</td>\n",
       "      <td>45.70</td>\n",
       "      <td>46.94</td>\n",
       "      <td>629150.0</td>\n",
       "      <td>1.38</td>\n",
       "      <td>110.95</td>\n",
       "      <td>111.75</td>\n",
       "      <td>110.83</td>\n",
       "      <td>111.52</td>\n",
       "      <td>10467927.0</td>\n",
       "    </tr>\n",
       "    <tr>\n",
       "      <th>4</th>\n",
       "      <td>2010-01-20</td>\n",
       "      <td>114.28</td>\n",
       "      <td>114.45</td>\n",
       "      <td>112.98</td>\n",
       "      <td>113.89</td>\n",
       "      <td>216330645.0</td>\n",
       "      <td>1.47</td>\n",
       "      <td>46.27</td>\n",
       "      <td>46.604</td>\n",
       "      <td>45.43</td>\n",
       "      <td>...</td>\n",
       "      <td>47.31</td>\n",
       "      <td>45.17</td>\n",
       "      <td>47.05</td>\n",
       "      <td>643198.0</td>\n",
       "      <td>2.14</td>\n",
       "      <td>109.97</td>\n",
       "      <td>110.05</td>\n",
       "      <td>108.46</td>\n",
       "      <td>108.94</td>\n",
       "      <td>17534231.0</td>\n",
       "    </tr>\n",
       "  </tbody>\n",
       "</table>\n",
       "<p>5 rows × 47 columns</p>\n",
       "</div>"
      ],
      "text/plain": [
       "         date  sp500 open  sp500 high  sp500 low  sp500 close  sp500 volume  \\\n",
       "0  2010-01-14      114.49      115.14     114.42       114.93   115646960.0   \n",
       "1  2010-01-15      114.73      114.84     113.20       113.64   212252769.0   \n",
       "2  2010-01-18         NaN         NaN        NaN          NaN           NaN   \n",
       "3  2010-01-19      113.62      115.13     113.59       115.06   138671890.0   \n",
       "4  2010-01-20      114.28      114.45     112.98       113.89   216330645.0   \n",
       "\n",
       "   sp500 high-low  nasdaq open  nasdaq high  nasdaq low  ...  palladium high  \\\n",
       "0            0.72        46.26       46.520       46.22  ...           45.02   \n",
       "1            1.64        46.46       46.550       45.65  ...           45.76   \n",
       "2             NaN          NaN          NaN         NaN  ...             NaN   \n",
       "3            1.54        45.96       46.640       45.95  ...           47.08   \n",
       "4            1.47        46.27       46.604       45.43  ...           47.31   \n",
       "\n",
       "   palladium low  palladium close  palladium volume  palladium high-low  \\\n",
       "0          43.86            44.84          364528.0                1.16   \n",
       "1          44.40            45.76          442210.0                1.36   \n",
       "2            NaN              NaN               NaN                 NaN   \n",
       "3          45.70            46.94          629150.0                1.38   \n",
       "4          45.17            47.05          643198.0                2.14   \n",
       "\n",
       "   gold open  gold high  gold low  gold close  gold volume  \n",
       "0     111.51     112.37    110.79      112.03   18305238.0  \n",
       "1     111.35     112.01    110.38      110.86   18000724.0  \n",
       "2        NaN        NaN       NaN         NaN          NaN  \n",
       "3     110.95     111.75    110.83      111.52   10467927.0  \n",
       "4     109.97     110.05    108.46      108.94   17534231.0  \n",
       "\n",
       "[5 rows x 47 columns]"
      ]
     },
     "execution_count": 3,
     "metadata": {},
     "output_type": "execute_result"
    }
   ],
   "source": [
    "#Preview Head\n",
    "data.head()\n"
   ]
  },
  {
   "cell_type": "code",
   "execution_count": 4,
   "id": "nPlE_HryHxqX",
   "metadata": {
    "colab": {
     "base_uri": "https://localhost:8080/"
    },
    "executionInfo": {
     "elapsed": 13,
     "status": "ok",
     "timestamp": 1745186887561,
     "user": {
      "displayName": "Sanjay Singh",
      "userId": "03647094242753139049"
     },
     "user_tz": 420
    },
    "id": "nPlE_HryHxqX",
    "outputId": "481648a2-61af-4f35-bee3-8c0a4471b5a6"
   },
   "outputs": [
    {
     "name": "stdout",
     "output_type": "stream",
     "text": [
      "date                   object\n",
      "sp500 open            float64\n",
      "sp500 high            float64\n",
      "sp500 low             float64\n",
      "sp500 close           float64\n",
      "sp500 volume          float64\n",
      "sp500 high-low        float64\n",
      "nasdaq open           float64\n",
      "nasdaq high           float64\n",
      "nasdaq low            float64\n",
      "nasdaq close          float64\n",
      "nasdaq volume         float64\n",
      "nasdaq high-low       float64\n",
      "us_rates_%            float64\n",
      "CPI                   float64\n",
      "usd_chf               float64\n",
      "eur_usd               float64\n",
      "GDP                   float64\n",
      "silver open           float64\n",
      "silver high           float64\n",
      "silver low            float64\n",
      "silver close          float64\n",
      "silver volume         float64\n",
      "silver high-low       float64\n",
      "oil open              float64\n",
      "oil high              float64\n",
      "oil low               float64\n",
      "oil close             float64\n",
      "oil volume            float64\n",
      "oil high-low          float64\n",
      "platinum open         float64\n",
      "platinum high         float64\n",
      "platinum low          float64\n",
      "platinum close        float64\n",
      "platinum volume       float64\n",
      "platinum high-low     float64\n",
      "palladium open        float64\n",
      "palladium high        float64\n",
      "palladium low         float64\n",
      "palladium close       float64\n",
      "palladium volume      float64\n",
      "palladium high-low    float64\n",
      "gold open             float64\n",
      "gold high             float64\n",
      "gold low              float64\n",
      "gold close            float64\n",
      "gold volume           float64\n",
      "dtype: object\n"
     ]
    }
   ],
   "source": [
    "# Check data types\n",
    "print(data.dtypes)"
   ]
  },
  {
   "cell_type": "code",
   "execution_count": 5,
   "id": "V8avAwcnT46u",
   "metadata": {
    "colab": {
     "base_uri": "https://localhost:8080/"
    },
    "executionInfo": {
     "elapsed": 16,
     "status": "ok",
     "timestamp": 1745188049483,
     "user": {
      "displayName": "Sanjay Singh",
      "userId": "03647094242753139049"
     },
     "user_tz": 420
    },
    "id": "V8avAwcnT46u",
    "outputId": "341efbe5-2dd2-4258-d421-421b2d82cb6c"
   },
   "outputs": [
    {
     "name": "stdout",
     "output_type": "stream",
     "text": [
      "<class 'pandas.core.frame.DataFrame'>\n",
      "RangeIndex: 3904 entries, 0 to 3903\n",
      "Data columns (total 47 columns):\n",
      " #   Column              Non-Null Count  Dtype  \n",
      "---  ------              --------------  -----  \n",
      " 0   date                3904 non-null   object \n",
      " 1   sp500 open          3719 non-null   float64\n",
      " 2   sp500 high          3719 non-null   float64\n",
      " 3   sp500 low           3719 non-null   float64\n",
      " 4   sp500 close         3719 non-null   float64\n",
      " 5   sp500 volume        3719 non-null   float64\n",
      " 6   sp500 high-low      3719 non-null   float64\n",
      " 7   nasdaq open         3719 non-null   float64\n",
      " 8   nasdaq high         3719 non-null   float64\n",
      " 9   nasdaq low          3719 non-null   float64\n",
      " 10  nasdaq close        3719 non-null   float64\n",
      " 11  nasdaq volume       3719 non-null   float64\n",
      " 12  nasdaq high-low     3719 non-null   float64\n",
      " 13  us_rates_%          176 non-null    float64\n",
      " 14  CPI                 176 non-null    float64\n",
      " 15  usd_chf             3694 non-null   float64\n",
      " 16  eur_usd             3694 non-null   float64\n",
      " 17  GDP                 57 non-null     float64\n",
      " 18  silver open         3719 non-null   float64\n",
      " 19  silver high         3719 non-null   float64\n",
      " 20  silver low          3719 non-null   float64\n",
      " 21  silver close        3719 non-null   float64\n",
      " 22  silver volume       3719 non-null   float64\n",
      " 23  silver high-low     3719 non-null   float64\n",
      " 24  oil open            3719 non-null   float64\n",
      " 25  oil high            3719 non-null   float64\n",
      " 26  oil low             3719 non-null   float64\n",
      " 27  oil close           3719 non-null   float64\n",
      " 28  oil volume          3719 non-null   float64\n",
      " 29  oil high-low        3719 non-null   float64\n",
      " 30  platinum open       3719 non-null   float64\n",
      " 31  platinum high       3719 non-null   float64\n",
      " 32  platinum low        3719 non-null   float64\n",
      " 33  platinum close      3719 non-null   float64\n",
      " 34  platinum volume     3719 non-null   float64\n",
      " 35  platinum high-low   3719 non-null   float64\n",
      " 36  palladium open      3719 non-null   float64\n",
      " 37  palladium high      3719 non-null   float64\n",
      " 38  palladium low       3719 non-null   float64\n",
      " 39  palladium close     3719 non-null   float64\n",
      " 40  palladium volume    3719 non-null   float64\n",
      " 41  palladium high-low  3719 non-null   float64\n",
      " 42  gold open           3719 non-null   float64\n",
      " 43  gold high           3719 non-null   float64\n",
      " 44  gold low            3719 non-null   float64\n",
      " 45  gold close          3719 non-null   float64\n",
      " 46  gold volume         3719 non-null   float64\n",
      "dtypes: float64(46), object(1)\n",
      "memory usage: 1.4+ MB\n"
     ]
    }
   ],
   "source": [
    "data.info()"
   ]
  },
  {
   "cell_type": "markdown",
   "id": "9kPISBZGIwOa",
   "metadata": {
    "id": "9kPISBZGIwOa"
   },
   "source": [
    "# **Data Preparation**\n",
    "**Handling Missing Values:**\n",
    "* Dropped rows with missing values to ensure a clean dataset.\n",
    "\n",
    "**Feature Engineering:**\n",
    "* Selected relevant financial indicators as features.\n",
    "Chose the gold closing price as the target variable.\n",
    "\n",
    "**Data Transformation:**\n",
    "* Standardized the features using StandardScaler.\n",
    "* Split the data into training and testing sets."
   ]
  },
  {
   "cell_type": "code",
   "execution_count": 6,
   "id": "ywIGrN5OJMnS",
   "metadata": {
    "executionInfo": {
     "elapsed": 2,
     "status": "ok",
     "timestamp": 1745186891716,
     "user": {
      "displayName": "Sanjay Singh",
      "userId": "03647094242753139049"
     },
     "user_tz": 420
    },
    "id": "ywIGrN5OJMnS"
   },
   "outputs": [],
   "source": [
    "# Drop rows with missing values\n",
    "data_cleaned = data.dropna()\n",
    "\n",
    "# Select features and target variable\n",
    "features = data_cleaned[['sp500 open', 'sp500 high', 'sp500 low', 'sp500 close', 'sp500 volume', 'sp500 high-low',\n",
    "                         'nasdaq open', 'nasdaq high', 'nasdaq low', 'nasdaq close', 'nasdaq volume', 'nasdaq high-low',\n",
    "                         'us_rates_%', 'CPI', 'usd_chf', 'eur_usd', 'GDP', 'silver open', 'silver high', 'silver low',\n",
    "                         'silver close', 'silver volume', 'silver high-low', 'oil open', 'oil high', 'oil low', 'oil close',\n",
    "                         'oil volume', 'oil high-low', 'platinum open', 'platinum high', 'platinum low', 'platinum close',\n",
    "                         'platinum volume', 'platinum high-low', 'palladium open', 'palladium high', 'palladium low',\n",
    "                         'palladium close', 'palladium volume']]\n",
    "target = data_cleaned['gold close']"
   ]
  },
  {
   "cell_type": "markdown",
   "id": "yHXqHnMwgrZr",
   "metadata": {
    "id": "yHXqHnMwgrZr"
   },
   "source": [
    "**Pairplot of Selected Features**\n",
    "* Pairplot of selected features to visualize the relationships between them and the gold closing price."
   ]
  },
  {
   "cell_type": "code",
   "execution_count": null,
   "id": "Dp6zPEA-bm0Z",
   "metadata": {
    "colab": {
     "base_uri": "https://localhost:8080/",
     "height": 1000
    },
    "executionInfo": {
     "elapsed": 19159,
     "status": "ok",
     "timestamp": 1745190058664,
     "user": {
      "displayName": "Sanjay Singh",
      "userId": "03647094242753139049"
     },
     "user_tz": 420
    },
    "id": "Dp6zPEA-bm0Z",
    "outputId": "a35a4991-3ad0-4fc7-8040-d9e741673b23"
   },
   "outputs": [],
   "source": [
    "\n",
    "# Select relevant features for the plot\n",
    "selected_features = ['sp500 close', 'nasdaq close', 'us_rates_%', 'CPI', 'usd_chf', 'eur_usd',\n",
    "                     'silver close', 'oil close', 'platinum close', 'palladium close', 'gold close']\n",
    "\n",
    "# Create a pairplot to show the relationships between Market Indices, Economic Indicators, Forex Rates, Commodities, and Gold Prices\n",
    "sns.pairplot(data_cleaned[selected_features])\n",
    "plt.suptitle('Relationships between Market Indices, Economic Indicators, Forex Rates, Commodities, and Gold Prices', y=1.02)\n",
    "plt.show()\n"
   ]
  },
  {
   "cell_type": "code",
   "execution_count": null,
   "id": "4zgZuPduJaD8",
   "metadata": {
    "executionInfo": {
     "elapsed": 10,
     "status": "ok",
     "timestamp": 1745186894695,
     "user": {
      "displayName": "Sanjay Singh",
      "userId": "03647094242753139049"
     },
     "user_tz": 420
    },
    "id": "4zgZuPduJaD8"
   },
   "outputs": [],
   "source": [
    "\n",
    "# Standardize the features\n",
    "scaler = StandardScaler()\n",
    "features_scaled = scaler.fit_transform(features)\n",
    "\n",
    "\n",
    "\n",
    "# Split the data into training and testing sets\n",
    "X_train, X_test, y_train, y_test = train_test_split(features_scaled, target, test_size=0.2, random_state=42)\n",
    "\n",
    "\n",
    "# Initialize models\n",
    "\n",
    "# Initialize models\n",
    "models = {\n",
    "  \"Linear Regression\": LinearRegression(),\n",
    "  \"Ridge Regression\": Ridge(),\n",
    "  \"Lasso Regression\": Lasso(max_iter=10000),\n",
    "  \"Random Forest Regression\": RandomForestRegressor(),\n",
    "  \"Gradient Boosting Regression\": GradientBoostingRegressor()\n",
    "}\n",
    "\n",
    "\n",
    "# Define hyperparameters for Grid Search\n",
    "param_grid = {\n",
    "   \"Ridge Regression\": {\"alpha\": [0.1, 1.0, 10.0]},\n",
    "   \"Lasso Regression\": {\"alpha\": [0.01, 0.1, 1.0]},\n",
    "   \"Random Forest Regression\": {\"n_estimators\": [100, 200], \"max_depth\": [None, 10, 20]},\n",
    "   \"Gradient Boosting Regression\": {\"n_estimators\": [100, 200], \"learning_rate\": [0.01, 0.1]}\n",
    "}\n",
    "\n"
   ]
  },
  {
   "cell_type": "code",
   "execution_count": null,
   "id": "5DqIY5iYKF77",
   "metadata": {
    "colab": {
     "base_uri": "https://localhost:8080/"
    },
    "executionInfo": {
     "elapsed": 254,
     "status": "ok",
     "timestamp": 1745187897713,
     "user": {
      "displayName": "Sanjay Singh",
      "userId": "03647094242753139049"
     },
     "user_tz": 420
    },
    "id": "5DqIY5iYKF77",
    "outputId": "943fcca4-b515-481b-df61-39f4b89fbfea"
   },
   "outputs": [],
   "source": [
    "# Train and evaluate models\n",
    "\n",
    "# Perform Grid Search and cross-validation\n",
    "\n",
    "# Train and evaluate models\n",
    "results = {}\n",
    "predictions = {}\n",
    "for name, model in models.items():\n",
    "  model.fit(X_train, y_train)\n",
    "  y_pred = model.predict(X_test)\n",
    "  r2 = r2_score(y_test, y_pred)  \n",
    "  mse = mean_squared_error(y_test, y_pred)\n",
    "  results[name] = {\"Mean Squared Error\": mse, \"R-squared\": r2}\n",
    "  predictions[name] = y_pred\n",
    "\n",
    "\n",
    "\n",
    "# Print results\n",
    "for name, result in results.items():\n",
    "    print(f\"{name}:\")\n",
    "    print(f\"  Mean Squared Error: {result['Mean Squared Error']}\")\n",
    "    print(f\"  R-squared: {result['R-squared']}\")\n",
    "\n"
   ]
  },
  {
   "cell_type": "code",
   "execution_count": null,
   "id": "_qps6TzwM6fi",
   "metadata": {
    "colab": {
     "base_uri": "https://localhost:8080/"
    },
    "executionInfo": {
     "elapsed": 4,
     "status": "ok",
     "timestamp": 1745187908009,
     "user": {
      "displayName": "Sanjay Singh",
      "userId": "03647094242753139049"
     },
     "user_tz": 420
    },
    "id": "_qps6TzwM6fi",
    "outputId": "7f2982f4-c952-4eca-8c90-1dc42035efce"
   },
   "outputs": [],
   "source": [
    "# Print results\n",
    "for name, result in results.items():\n",
    "    print(f\"{name}:\")\n",
    "    print(f\"  Mean Squared Error: {result['Mean Squared Error']}\")\n",
    "    print(f\"  R-squared: {result['R-squared']}\")"
   ]
  },
  {
   "cell_type": "markdown",
   "id": "ceKAVcydZ4mc",
   "metadata": {
    "id": "ceKAVcydZ4mc"
   },
   "source": [
    "# **Key Findings**\n",
    "**Positive Correlation:**\n",
    "* Silver and platinum prices have strong positive correlations with gold prices.\n",
    "* Oil prices show moderate positive correlations with gold prices.\n",
    "\n",
    "**Negative Correlation:**\n",
    "* Interest rates have a negative correlation with gold prices.\n",
    "\n",
    "**Stock Market Indicators:**\n",
    "* Stock market indices show weaker correlations with gold prices."
   ]
  },
  {
   "cell_type": "code",
   "execution_count": null,
   "id": "6c7475bb-0b3f-4258-bf28-5c3eb628f95c",
   "metadata": {
    "colab": {
     "base_uri": "https://localhost:8080/",
     "height": 1000
    },
    "executionInfo": {
     "elapsed": 1320,
     "status": "ok",
     "timestamp": 1745187597597,
     "user": {
      "displayName": "Sanjay Singh",
      "userId": "03647094242753139049"
     },
     "user_tz": 420
    },
    "id": "6c7475bb-0b3f-4258-bf28-5c3eb628f95c",
    "outputId": "9bb9cb96-8e34-4ce3-c1fb-fbe50b471f23"
   },
   "outputs": [],
   "source": [
    "\n",
    "# Plot predictions vs actual values for each model\n",
    "plt.figure(figsize=(15, 10))\n",
    "for i, (name, y_pred) in enumerate(predictions.items(), 1):\n",
    "  plt.subplot(3, 2, i)\n",
    "  plt.scatter(y_test, y_pred, alpha=0.5)\n",
    "  plt.plot([y_test.min(), y_test.max()], [y_test.min(), y_test.max()], '--r')\n",
    "  plt.xlabel('Actual Gold Prices')\n",
    "  plt.ylabel('Predicted Gold Prices')\n",
    "  plt.title(f'{name} Predictions vs Actuals')\n",
    "plt.tight_layout()\n",
    "plt.show()\n"
   ]
  },
  {
   "cell_type": "markdown",
   "id": "7561e730-b4ff-4966-8a32-773a3a101e13",
   "metadata": {
    "id": "rLj5oYIcmO86"
   },
   "source": [
    "**Recommendations**\n",
    "\n",
    "### Monitor Precious Metal Prices\n",
    "\n",
    "**Silver and Platinum:**\n",
    "* Since silver and platinum prices have strong positive correlations with gold prices, it is recommended to monitor these precious metals closely.\n",
    "* They tend to move in tandem with gold prices.\n",
    "\n",
    "### Keep an Eye on Interest Rates\n",
    "\n",
    "**Interest Rates:**\n",
    "* Higher interest rates may lead to lower gold prices.\n",
    "* It is important to keep an eye on interest rate changes as they can significantly impact gold prices.\n",
    "\n",
    "### Consider the Impact of Oil Prices\n",
    "\n",
    "**Oil Prices:**\n",
    "* Oil prices show moderate positive correlations with gold prices.\n",
    "* During periods of economic uncertainty, consider the influence of oil prices on gold prices.\n",
    "\n",
    "### Stock Market Indicators\n",
    "\n",
    "**Stock Market:**\n",
    "* While stock market indicators are important, they may not be the primary drivers of gold prices.\n",
    "* Focus more on precious metals and interest rates."
   ]
  },
  {
   "cell_type": "code",
   "execution_count": null,
   "id": "68fa5358-1daa-4805-b24c-c55e198b7444",
   "metadata": {},
   "outputs": [],
   "source": []
  },
  {
   "cell_type": "code",
   "execution_count": null,
   "id": "566e638e-ebd5-44d1-ae6f-072ee2633f6d",
   "metadata": {},
   "outputs": [],
   "source": []
  }
 ],
 "metadata": {
  "colab": {
   "provenance": []
  },
  "kernelspec": {
   "display_name": "Python 3 (ipykernel)",
   "language": "python",
   "name": "python3"
  },
  "language_info": {
   "codemirror_mode": {
    "name": "ipython",
    "version": 3
   },
   "file_extension": ".py",
   "mimetype": "text/x-python",
   "name": "python",
   "nbconvert_exporter": "python",
   "pygments_lexer": "ipython3",
   "version": "3.10.5"
  }
 },
 "nbformat": 4,
 "nbformat_minor": 5
}

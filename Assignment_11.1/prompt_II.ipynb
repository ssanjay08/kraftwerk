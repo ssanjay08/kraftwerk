{
 "cells": [
  {
   "cell_type": "markdown",
   "metadata": {
    "id": "F2aR6zbWPtiY"
   },
   "source": [
    "# What drives the price of a car?\n",
    "\n",
    "![](images/kurt.jpeg)"
   ]
  },
  {
   "cell_type": "markdown",
   "metadata": {
    "id": "Voudu9XaPtic"
   },
   "source": [
    "**OVERVIEW**\n",
    "\n",
    "In this application, you will explore a dataset from Kaggle. The original dataset contained information on 3 million used cars. The provided dataset contains information on 426K cars to ensure speed of processing.  Your goal is to understand what factors make a car more or less expensive.  As a result of your analysis, you should provide clear recommendations to your client -- a used car dealership -- as to what consumers value in a used car."
   ]
  },
  {
   "cell_type": "markdown",
   "metadata": {
    "id": "0_Br9fC-Ptid"
   },
   "source": [
    "### CRISP-DM Framework\n",
    "\n",
    "<center>\n",
    "    <img src = images/crisp.png width = 50%/>\n",
    "</center>\n",
    "\n",
    "\n",
    "To frame the task, throughout our practical applications, we will refer back to a standard process in industry for data projects called CRISP-DM.  This process provides a framework for working through a data problem.  Your first step in this application will be to read through a brief overview of CRISP-DM [here](https://mo-pcco.s3.us-east-1.amazonaws.com/BH-PCMLAI/module_11/readings_starter.zip).  After reading the overview, answer the questions below."
   ]
  },
  {
   "cell_type": "markdown",
   "metadata": {
    "id": "wc3yNd4WPtie"
   },
   "source": [
    "### Business Understanding\n",
    "\n",
    "From a business perspective, we are tasked with identifying key drivers for used car prices.  In the CRISP-DM overview, we are asked to convert this business framing to a data problem definition.  Using a few sentences, reframe the task as a data task with the appropriate technical vocabulary."
   ]
  },
  {
   "cell_type": "markdown",
   "metadata": {
    "id": "HRwNoq6rA6gW"
   },
   "source": [
    "**Data Problem Definition:**The objective is to analyze a dataset of used cars to identify the key factors influencing their prices. This involves data preprocessing to handle missing values and categorical variables, feature engineering to create relevant predictors, and applying statistical and machine learning models to determine the relationships between car prices and various attributes such as age, mileage, condition, manufacturer, and other features. The goal is to provide actionable insights and recommendations to optimize inventory and pricing strategies for the used car dealership."
   ]
  },
  {
   "cell_type": "markdown",
   "metadata": {
    "id": "utTahh_IPtig"
   },
   "source": [
    "### Data Understanding\n",
    "\n",
    "After considering the business understanding, we want to get familiar with our data.  Write down some steps that you would take to get to know the dataset and identify any quality issues within.  Take time to get to know the dataset and explore what information it contains and how this could be used to inform your business understanding."
   ]
  },
  {
   "cell_type": "markdown",
   "metadata": {
    "id": "JXH7t0D-ZA4M"
   },
   "source": [
    "The dataset was obtained from Kaggle and originally contained information on 3 million used cars. To ensure the speed of processing, the provided dataset contains information on 426,000 cars.\n",
    "\n",
    "**Source:** The database was found at Kaggle. The data is about used cars, including various attributes such as ***price, year, manufacturer, model, condition, cylinders, fuel type, odometer reading, title status, transmission, drive type, size, type, paint color, and state.***\n",
    "\n",
    "**Description:** This dataset contains detailed information on 426,000 used cars. Each record includes multiple attributes that describe the car's characteristics and condition. The dataset is used to analyze factors influencing car prices and provide insights for optimizing inventory and pricing strategies for used car dealerships.\n",
    "\n",
    "**Missing Values:** Some records in the dataset have missing values for certain attributes. Missing values are represented by the absence of value between two consecutive commas. For example, the dataset shows missing values for attributes such as year, manufacturer, model, condition, cylinders, fuel type, odometer reading, title status, transmission, drive type, size, type, paint color, and state\n",
    "\n",
    "The dataset is used for various analyses, including:\n",
    "\n",
    "**Predictive Modeling:** Building regression models to predict car prices based on various attributes.\n",
    "*  **Exploratory Data Analysis (EDA):** Understanding the distribution and\n",
    "relationships between different attributes.\n",
    "*  **Feature Engineering:** Creating new features to improve model performance.\n",
    "*  **Data Cleaning:** Handling missing values and ensuring data quality.\n",
    "\n",
    "## **1. Initial Data Exploration**\n",
    "*   **Load the Dataset:** Load the dataset into a DataFrame using a library pandas.\n",
    "*   **Preview the Data:** Display the first few rows of the dataset to get an initial understanding of its structure and contents.\n",
    "*   **Check Data Types:** Examine the data types of each column to ensure they are appropriate for the type of data they contain.\n",
    "\n",
    "## **2. Summary Statistics**\n",
    "*  **Descriptive Statistics:** Generate summary statistics for numerical columns (e.g., mean, median, standard deviation) to understand the distribution of the data.\n",
    "*  **Value Counts:** For categorical columns, use value counts to see the distribution of categories.\n",
    "\n",
    "## **3. Missing Values**\n",
    "*  **Identify Missing Values:** Check for missing values in each column and determine the percentage of missing values.\n",
    "* **Handle Missing Values:** Decide on a strategy to handle missing values (e.g., imputation, removal) based on the percentage and importance of the missing data.\n",
    "\n",
    "## **4. Data Quality Checks**\n",
    "*  **Duplicate Records:** Check for and remove any duplicate records in the dataset.\n",
    "*  **Inconsistent Data:** Look for inconsistencies in the data (e.g., different spellings of the same category) and standardize them.\n",
    "*  **Outliers:** Identify and analyze outliers in numerical columns to determine if they are valid data points or errors.\n",
    "\n"
   ]
  },
  {
   "cell_type": "code",
   "execution_count": 1,
   "metadata": {
    "colab": {
     "base_uri": "https://localhost:8080/"
    },
    "executionInfo": {
     "elapsed": 2778,
     "status": "ok",
     "timestamp": 1744750132381,
     "user": {
      "displayName": "Sanjay Singh",
      "userId": "03647094242753139049"
     },
     "user_tz": 420
    },
    "id": "wLg93iLWPtih",
    "outputId": "55aa4f03-1802-4600-c7c1-677012029971"
   },
   "outputs": [
    {
     "name": "stdout",
     "output_type": "stream",
     "text": [
      "           id                  region  price  year manufacturer model  \\\n",
      "0  7222695916                prescott   6000   NaN          NaN   NaN   \n",
      "1  7218891961            fayetteville  11900   NaN          NaN   NaN   \n",
      "2  7221797935            florida keys  21000   NaN          NaN   NaN   \n",
      "3  7222270760  worcester / central MA   1500   NaN          NaN   NaN   \n",
      "4  7210384030              greensboro   4900   NaN          NaN   NaN   \n",
      "\n",
      "  condition cylinders fuel  odometer title_status transmission  VIN drive  \\\n",
      "0       NaN       NaN  NaN       NaN          NaN          NaN  NaN   NaN   \n",
      "1       NaN       NaN  NaN       NaN          NaN          NaN  NaN   NaN   \n",
      "2       NaN       NaN  NaN       NaN          NaN          NaN  NaN   NaN   \n",
      "3       NaN       NaN  NaN       NaN          NaN          NaN  NaN   NaN   \n",
      "4       NaN       NaN  NaN       NaN          NaN          NaN  NaN   NaN   \n",
      "\n",
      "  size type paint_color state  \n",
      "0  NaN  NaN         NaN    az  \n",
      "1  NaN  NaN         NaN    ar  \n",
      "2  NaN  NaN         NaN    fl  \n",
      "3  NaN  NaN         NaN    ma  \n",
      "4  NaN  NaN         NaN    nc  \n",
      "id                int64\n",
      "region           object\n",
      "price             int64\n",
      "year            float64\n",
      "manufacturer     object\n",
      "model            object\n",
      "condition        object\n",
      "cylinders        object\n",
      "fuel             object\n",
      "odometer        float64\n",
      "title_status     object\n",
      "transmission     object\n",
      "VIN              object\n",
      "drive            object\n",
      "size             object\n",
      "type             object\n",
      "paint_color      object\n",
      "state            object\n",
      "dtype: object\n",
      "                 id         price           year      odometer\n",
      "count  4.268800e+05  4.268800e+05  425675.000000  4.224800e+05\n",
      "mean   7.311487e+09  7.519903e+04    2011.235191  9.804333e+04\n",
      "std    4.473170e+06  1.218228e+07       9.452120  2.138815e+05\n",
      "min    7.207408e+09  0.000000e+00    1900.000000  0.000000e+00\n",
      "25%    7.308143e+09  5.900000e+03    2008.000000  3.770400e+04\n",
      "50%    7.312621e+09  1.395000e+04    2013.000000  8.554800e+04\n",
      "75%    7.315254e+09  2.648575e+04    2017.000000  1.335425e+05\n",
      "max    7.317101e+09  3.736929e+09    2022.000000  1.000000e+07\n"
     ]
    }
   ],
   "source": [
    "import pandas as pd\n",
    "import matplotlib.pyplot as plt\n",
    "import seaborn as sns\n",
    "import numpy as np\n",
    "\n",
    "from sklearn.model_selection import train_test_split,GridSearchCV, cross_val_score\n",
    "from sklearn.linear_model import LinearRegression, Ridge, Lasso\n",
    "from sklearn.ensemble import RandomForestRegressor, GradientBoostingRegressor\n",
    "from sklearn.metrics import mean_squared_error, r2_score\n",
    "\n",
    "from sklearn.preprocessing import StandardScaler, OneHotEncoder\n",
    "from sklearn.compose import ColumnTransformer\n",
    "from sklearn.pipeline import Pipeline\n",
    "\n",
    "\n",
    "# Load the dataset\n",
    "\n",
    "file_path = 'data/vehicles.csv'\n",
    "df = pd.read_csv(file_path)\n",
    "\n",
    "print(df.head())\n",
    "\n",
    "# Check data types\n",
    "print(df.dtypes)\n",
    "\n",
    "# Generate summary statistics\n",
    "print(df.describe())\n",
    "\n",
    "\n"
   ]
  },
  {
   "cell_type": "code",
   "execution_count": 2,
   "metadata": {
    "colab": {
     "base_uri": "https://localhost:8080/",
     "height": 947
    },
    "executionInfo": {
     "elapsed": 1931,
     "status": "ok",
     "timestamp": 1744749726004,
     "user": {
      "displayName": "Sanjay Singh",
      "userId": "03647094242753139049"
     },
     "user_tz": 420
    },
    "id": "DJRpvKfzPtih",
    "outputId": "1c5ad1ef-d36c-4576-c845-d25e6fc5971a"
   },
   "outputs": [
    {
     "name": "stdout",
     "output_type": "stream",
     "text": [
      "Missing values in each column:\n",
      " id                   0\n",
      "region               0\n",
      "price                0\n",
      "year              1205\n",
      "manufacturer     17646\n",
      "model             5277\n",
      "condition       174104\n",
      "cylinders       177678\n",
      "fuel              3013\n",
      "odometer          4400\n",
      "title_status      8242\n",
      "transmission      2556\n",
      "VIN             161042\n",
      "drive           130567\n",
      "size            306361\n",
      "type             92858\n",
      "paint_color     130203\n",
      "state                0\n",
      "dtype: int64\n",
      "Number of duplicate records: 0\n"
     ]
    },
    {
     "data": {
      "text/html": [
       "<div>\n",
       "<style scoped>\n",
       "    .dataframe tbody tr th:only-of-type {\n",
       "        vertical-align: middle;\n",
       "    }\n",
       "\n",
       "    .dataframe tbody tr th {\n",
       "        vertical-align: top;\n",
       "    }\n",
       "\n",
       "    .dataframe thead th {\n",
       "        text-align: right;\n",
       "    }\n",
       "</style>\n",
       "<table border=\"1\" class=\"dataframe\">\n",
       "  <thead>\n",
       "    <tr style=\"text-align: right;\">\n",
       "      <th></th>\n",
       "      <th>id</th>\n",
       "      <th>region</th>\n",
       "      <th>price</th>\n",
       "      <th>year</th>\n",
       "      <th>manufacturer</th>\n",
       "      <th>model</th>\n",
       "      <th>condition</th>\n",
       "      <th>cylinders</th>\n",
       "      <th>fuel</th>\n",
       "      <th>odometer</th>\n",
       "      <th>title_status</th>\n",
       "      <th>transmission</th>\n",
       "      <th>VIN</th>\n",
       "      <th>drive</th>\n",
       "      <th>size</th>\n",
       "      <th>type</th>\n",
       "      <th>paint_color</th>\n",
       "      <th>state</th>\n",
       "    </tr>\n",
       "  </thead>\n",
       "  <tbody>\n",
       "    <tr>\n",
       "      <th>0</th>\n",
       "      <td>7222695916</td>\n",
       "      <td>prescott</td>\n",
       "      <td>6000</td>\n",
       "      <td>2013.0</td>\n",
       "      <td>NaN</td>\n",
       "      <td>NaN</td>\n",
       "      <td>NaN</td>\n",
       "      <td>NaN</td>\n",
       "      <td>NaN</td>\n",
       "      <td>NaN</td>\n",
       "      <td>NaN</td>\n",
       "      <td>NaN</td>\n",
       "      <td>NaN</td>\n",
       "      <td>NaN</td>\n",
       "      <td>NaN</td>\n",
       "      <td>NaN</td>\n",
       "      <td>NaN</td>\n",
       "      <td>az</td>\n",
       "    </tr>\n",
       "    <tr>\n",
       "      <th>1</th>\n",
       "      <td>7218891961</td>\n",
       "      <td>fayetteville</td>\n",
       "      <td>11900</td>\n",
       "      <td>2013.0</td>\n",
       "      <td>NaN</td>\n",
       "      <td>NaN</td>\n",
       "      <td>NaN</td>\n",
       "      <td>NaN</td>\n",
       "      <td>NaN</td>\n",
       "      <td>NaN</td>\n",
       "      <td>NaN</td>\n",
       "      <td>NaN</td>\n",
       "      <td>NaN</td>\n",
       "      <td>NaN</td>\n",
       "      <td>NaN</td>\n",
       "      <td>NaN</td>\n",
       "      <td>NaN</td>\n",
       "      <td>ar</td>\n",
       "    </tr>\n",
       "    <tr>\n",
       "      <th>2</th>\n",
       "      <td>7221797935</td>\n",
       "      <td>florida keys</td>\n",
       "      <td>21000</td>\n",
       "      <td>2013.0</td>\n",
       "      <td>NaN</td>\n",
       "      <td>NaN</td>\n",
       "      <td>NaN</td>\n",
       "      <td>NaN</td>\n",
       "      <td>NaN</td>\n",
       "      <td>NaN</td>\n",
       "      <td>NaN</td>\n",
       "      <td>NaN</td>\n",
       "      <td>NaN</td>\n",
       "      <td>NaN</td>\n",
       "      <td>NaN</td>\n",
       "      <td>NaN</td>\n",
       "      <td>NaN</td>\n",
       "      <td>fl</td>\n",
       "    </tr>\n",
       "    <tr>\n",
       "      <th>3</th>\n",
       "      <td>7222270760</td>\n",
       "      <td>worcester / central MA</td>\n",
       "      <td>1500</td>\n",
       "      <td>2013.0</td>\n",
       "      <td>NaN</td>\n",
       "      <td>NaN</td>\n",
       "      <td>NaN</td>\n",
       "      <td>NaN</td>\n",
       "      <td>NaN</td>\n",
       "      <td>NaN</td>\n",
       "      <td>NaN</td>\n",
       "      <td>NaN</td>\n",
       "      <td>NaN</td>\n",
       "      <td>NaN</td>\n",
       "      <td>NaN</td>\n",
       "      <td>NaN</td>\n",
       "      <td>NaN</td>\n",
       "      <td>ma</td>\n",
       "    </tr>\n",
       "    <tr>\n",
       "      <th>4</th>\n",
       "      <td>7210384030</td>\n",
       "      <td>greensboro</td>\n",
       "      <td>4900</td>\n",
       "      <td>2013.0</td>\n",
       "      <td>NaN</td>\n",
       "      <td>NaN</td>\n",
       "      <td>NaN</td>\n",
       "      <td>NaN</td>\n",
       "      <td>NaN</td>\n",
       "      <td>NaN</td>\n",
       "      <td>NaN</td>\n",
       "      <td>NaN</td>\n",
       "      <td>NaN</td>\n",
       "      <td>NaN</td>\n",
       "      <td>NaN</td>\n",
       "      <td>NaN</td>\n",
       "      <td>NaN</td>\n",
       "      <td>nc</td>\n",
       "    </tr>\n",
       "    <tr>\n",
       "      <th>...</th>\n",
       "      <td>...</td>\n",
       "      <td>...</td>\n",
       "      <td>...</td>\n",
       "      <td>...</td>\n",
       "      <td>...</td>\n",
       "      <td>...</td>\n",
       "      <td>...</td>\n",
       "      <td>...</td>\n",
       "      <td>...</td>\n",
       "      <td>...</td>\n",
       "      <td>...</td>\n",
       "      <td>...</td>\n",
       "      <td>...</td>\n",
       "      <td>...</td>\n",
       "      <td>...</td>\n",
       "      <td>...</td>\n",
       "      <td>...</td>\n",
       "      <td>...</td>\n",
       "    </tr>\n",
       "    <tr>\n",
       "      <th>426875</th>\n",
       "      <td>7301591192</td>\n",
       "      <td>wyoming</td>\n",
       "      <td>23590</td>\n",
       "      <td>2019.0</td>\n",
       "      <td>nissan</td>\n",
       "      <td>maxima s sedan 4d</td>\n",
       "      <td>good</td>\n",
       "      <td>6 cylinders</td>\n",
       "      <td>gas</td>\n",
       "      <td>32226.0</td>\n",
       "      <td>clean</td>\n",
       "      <td>other</td>\n",
       "      <td>1N4AA6AV6KC367801</td>\n",
       "      <td>fwd</td>\n",
       "      <td>NaN</td>\n",
       "      <td>sedan</td>\n",
       "      <td>NaN</td>\n",
       "      <td>wy</td>\n",
       "    </tr>\n",
       "    <tr>\n",
       "      <th>426876</th>\n",
       "      <td>7301591187</td>\n",
       "      <td>wyoming</td>\n",
       "      <td>30590</td>\n",
       "      <td>2020.0</td>\n",
       "      <td>volvo</td>\n",
       "      <td>s60 t5 momentum sedan 4d</td>\n",
       "      <td>good</td>\n",
       "      <td>NaN</td>\n",
       "      <td>gas</td>\n",
       "      <td>12029.0</td>\n",
       "      <td>clean</td>\n",
       "      <td>other</td>\n",
       "      <td>7JR102FKXLG042696</td>\n",
       "      <td>fwd</td>\n",
       "      <td>NaN</td>\n",
       "      <td>sedan</td>\n",
       "      <td>red</td>\n",
       "      <td>wy</td>\n",
       "    </tr>\n",
       "    <tr>\n",
       "      <th>426877</th>\n",
       "      <td>7301591147</td>\n",
       "      <td>wyoming</td>\n",
       "      <td>34990</td>\n",
       "      <td>2020.0</td>\n",
       "      <td>cadillac</td>\n",
       "      <td>xt4 sport suv 4d</td>\n",
       "      <td>good</td>\n",
       "      <td>NaN</td>\n",
       "      <td>diesel</td>\n",
       "      <td>4174.0</td>\n",
       "      <td>clean</td>\n",
       "      <td>other</td>\n",
       "      <td>1GYFZFR46LF088296</td>\n",
       "      <td>NaN</td>\n",
       "      <td>NaN</td>\n",
       "      <td>hatchback</td>\n",
       "      <td>white</td>\n",
       "      <td>wy</td>\n",
       "    </tr>\n",
       "    <tr>\n",
       "      <th>426878</th>\n",
       "      <td>7301591140</td>\n",
       "      <td>wyoming</td>\n",
       "      <td>28990</td>\n",
       "      <td>2018.0</td>\n",
       "      <td>lexus</td>\n",
       "      <td>es 350 sedan 4d</td>\n",
       "      <td>good</td>\n",
       "      <td>6 cylinders</td>\n",
       "      <td>gas</td>\n",
       "      <td>30112.0</td>\n",
       "      <td>clean</td>\n",
       "      <td>other</td>\n",
       "      <td>58ABK1GG4JU103853</td>\n",
       "      <td>fwd</td>\n",
       "      <td>NaN</td>\n",
       "      <td>sedan</td>\n",
       "      <td>silver</td>\n",
       "      <td>wy</td>\n",
       "    </tr>\n",
       "    <tr>\n",
       "      <th>426879</th>\n",
       "      <td>7301591129</td>\n",
       "      <td>wyoming</td>\n",
       "      <td>30590</td>\n",
       "      <td>2019.0</td>\n",
       "      <td>bmw</td>\n",
       "      <td>4 series 430i gran coupe</td>\n",
       "      <td>good</td>\n",
       "      <td>NaN</td>\n",
       "      <td>gas</td>\n",
       "      <td>22716.0</td>\n",
       "      <td>clean</td>\n",
       "      <td>other</td>\n",
       "      <td>WBA4J1C58KBM14708</td>\n",
       "      <td>rwd</td>\n",
       "      <td>NaN</td>\n",
       "      <td>coupe</td>\n",
       "      <td>NaN</td>\n",
       "      <td>wy</td>\n",
       "    </tr>\n",
       "  </tbody>\n",
       "</table>\n",
       "<p>426880 rows × 18 columns</p>\n",
       "</div>"
      ],
      "text/plain": [
       "                id                  region  price    year manufacturer  \\\n",
       "0       7222695916                prescott   6000  2013.0          NaN   \n",
       "1       7218891961            fayetteville  11900  2013.0          NaN   \n",
       "2       7221797935            florida keys  21000  2013.0          NaN   \n",
       "3       7222270760  worcester / central MA   1500  2013.0          NaN   \n",
       "4       7210384030              greensboro   4900  2013.0          NaN   \n",
       "...            ...                     ...    ...     ...          ...   \n",
       "426875  7301591192                 wyoming  23590  2019.0       nissan   \n",
       "426876  7301591187                 wyoming  30590  2020.0        volvo   \n",
       "426877  7301591147                 wyoming  34990  2020.0     cadillac   \n",
       "426878  7301591140                 wyoming  28990  2018.0        lexus   \n",
       "426879  7301591129                 wyoming  30590  2019.0          bmw   \n",
       "\n",
       "                           model condition    cylinders    fuel  odometer  \\\n",
       "0                            NaN       NaN          NaN     NaN       NaN   \n",
       "1                            NaN       NaN          NaN     NaN       NaN   \n",
       "2                            NaN       NaN          NaN     NaN       NaN   \n",
       "3                            NaN       NaN          NaN     NaN       NaN   \n",
       "4                            NaN       NaN          NaN     NaN       NaN   \n",
       "...                          ...       ...          ...     ...       ...   \n",
       "426875         maxima s sedan 4d      good  6 cylinders     gas   32226.0   \n",
       "426876  s60 t5 momentum sedan 4d      good          NaN     gas   12029.0   \n",
       "426877          xt4 sport suv 4d      good          NaN  diesel    4174.0   \n",
       "426878           es 350 sedan 4d      good  6 cylinders     gas   30112.0   \n",
       "426879  4 series 430i gran coupe      good          NaN     gas   22716.0   \n",
       "\n",
       "       title_status transmission                VIN drive size       type  \\\n",
       "0               NaN          NaN                NaN   NaN  NaN        NaN   \n",
       "1               NaN          NaN                NaN   NaN  NaN        NaN   \n",
       "2               NaN          NaN                NaN   NaN  NaN        NaN   \n",
       "3               NaN          NaN                NaN   NaN  NaN        NaN   \n",
       "4               NaN          NaN                NaN   NaN  NaN        NaN   \n",
       "...             ...          ...                ...   ...  ...        ...   \n",
       "426875        clean        other  1N4AA6AV6KC367801   fwd  NaN      sedan   \n",
       "426876        clean        other  7JR102FKXLG042696   fwd  NaN      sedan   \n",
       "426877        clean        other  1GYFZFR46LF088296   NaN  NaN  hatchback   \n",
       "426878        clean        other  58ABK1GG4JU103853   fwd  NaN      sedan   \n",
       "426879        clean        other  WBA4J1C58KBM14708   rwd  NaN      coupe   \n",
       "\n",
       "       paint_color state  \n",
       "0              NaN    az  \n",
       "1              NaN    ar  \n",
       "2              NaN    fl  \n",
       "3              NaN    ma  \n",
       "4              NaN    nc  \n",
       "...            ...   ...  \n",
       "426875         NaN    wy  \n",
       "426876         red    wy  \n",
       "426877       white    wy  \n",
       "426878      silver    wy  \n",
       "426879         NaN    wy  \n",
       "\n",
       "[426880 rows x 18 columns]"
      ]
     },
     "execution_count": 2,
     "metadata": {},
     "output_type": "execute_result"
    }
   ],
   "source": [
    "# Check for missing values\n",
    "missing_values = df.isnull().sum()\n",
    "print(\"Missing values in each column:\\n\", missing_values)\n",
    "\n",
    "# Handle missing values (example: fill missing year with median)\n",
    "df['year'] = df['year'].fillna(df['year'].median())\n",
    "\n",
    "\n",
    "# Convert appropriate columns to numeric data types\n",
    "df['price'] = pd.to_numeric(df['price'], errors='coerce')\n",
    "df['odometer'] = pd.to_numeric(df['odometer'], errors='coerce')\n",
    "\n",
    "\n",
    "# Check for duplicate records\n",
    "duplicates = df.duplicated().sum()\n",
    "print(\"Number of duplicate records:\", duplicates)\n",
    "\n",
    "# Remove duplicate records\n",
    "df.drop_duplicates()\n",
    "\n"
   ]
  },
  {
   "cell_type": "code",
   "execution_count": 3,
   "metadata": {
    "colab": {
     "base_uri": "https://localhost:8080/",
     "height": 1000
    },
    "executionInfo": {
     "elapsed": 3119,
     "status": "ok",
     "timestamp": 1744749974553,
     "user": {
      "displayName": "Sanjay Singh",
      "userId": "03647094242753139049"
     },
     "user_tz": 420
    },
    "id": "AqJps-e-Ptih",
    "outputId": "5739535a-5642-4530-c25c-8bb6d4f3a074"
   },
   "outputs": [
    {
     "data": {
      "image/png": "[encoded data removed]",
      "text/plain": [
       "<Figure size 1200x800 with 1 Axes>"
      ]
     },
     "metadata": {},
     "output_type": "display_data"
    },
    {
     "data": {
      "image/png": "[encoded data removed]",
      "text/plain": [
       "<Figure size 1200x800 with 1 Axes>"
      ]
     },
     "metadata": {},
     "output_type": "display_data"
    }
   ],
   "source": [
    "\n",
    "# Identify and analyze outliers (example: price)\n",
    "plt.figure(figsize=(12, 8))\n",
    "sns.boxplot(x=df['price'])\n",
    "plt.title(\"Boxplot of Car Prices\")\n",
    "#plt.xlabel(\"Price\")\n",
    "\n",
    "plt.show()\n",
    "\n",
    "# Visualize relationships (example: price vs. odometer)\n",
    "plt.figure(figsize=(12, 8))\n",
    "sns.scatterplot(x=df['odometer'], y=df['price'])\n",
    "plt.title(\"Price vs. Odometer\")\n",
    "plt.xlabel(\"Odometer\")\n",
    "plt.ylabel(\"Price\")\n",
    "\n",
    "plt.show()\n",
    "\n",
    "\n",
    "\n"
   ]
  },
  {
   "cell_type": "markdown",
   "metadata": {
    "id": "wH3pkTBdPtih"
   },
   "source": [
    "### Data Preparation\n",
    "\n",
    "After our initial exploration and fine-tuning of the business understanding, it is time to construct our final dataset prior to modeling.  Here, we want to make sure to handle any integrity issues and cleaning, the engineering of new features, any transformations that we believe should happen (scaling, logarithms, normalization, etc.), and general preparation for modeling with `sklearn`."
   ]
  },
  {
   "cell_type": "markdown",
   "metadata": {
    "id": "ph7zaOIeeXXy"
   },
   "source": [
    "**Construct Dataset Prior to modeling**\n",
    "1. Handles missing values by filling them with appropriate values or dropping rows with missing price values.\n",
    "2.   Engineers new features such as age and log_odometer.\n",
    "3.   Drops unnecessary columns that are not needed for modeling.\n",
    "4.   Defines numerical and categorical features.\n",
    "5.   Creates preprocessing pipelines for numerical and categorical data.\n",
    "6.   Combines the preprocessing pipelines using ColumnTransformer.\n",
    "7.   Splits the dataset into training and testing sets.\n",
    "8.   Applies the preprocessing pipeline to the training and testing data.\n",
    "\n",
    "\n",
    "\n"
   ]
  },
  {
   "cell_type": "code",
   "execution_count": 4,
   "metadata": {
    "id": "xodAJBXqPtii"
   },
   "outputs": [],
   "source": [
    "\n",
    "# Handle missing values\n",
    "df['year'] = df['year'].fillna(df['year'].median())\n",
    "df['manufacturer']=df['manufacturer'].fillna('Unknown')\n",
    "df['model']=df['model'].fillna('Unknown')\n",
    "df['condition']=df['condition'].fillna('Unknown')\n",
    "df['cylinders']=df['cylinders'].fillna('Unknown')\n",
    "df['fuel']=df['fuel'].fillna('Unknown')\n",
    "df['odometer']=df['odometer'].fillna(df['odometer'].median())\n",
    "df['title_status']=df['title_status'].fillna('Unknown')\n",
    "df['transmission']=df['transmission'].fillna('Unknown')\n",
    "df['VIN']=df['VIN'].fillna('Unknown')\n",
    "df['drive']=df['drive'].fillna('Unknown')\n",
    "df['size']=df['size'].fillna('Unknown')\n",
    "df['type']=df['type'].fillna('Unknown')\n",
    "df['paint_color']=df['paint_color'].fillna('Unknown')\n",
    "\n",
    "\n",
    "# Drop rows with missing price values\n",
    "df.dropna(subset=['price'], inplace=True)\n",
    "\n",
    "# Feature engineering: Create new features\n",
    "df['age'] = 2023 - df['year']\n",
    "df['log_odometer'] = np.log1p(df['odometer'])\n",
    "\n",
    "\n",
    "# Drop unnecessary columns\n",
    "df.drop(columns=['id', 'region', 'VIN'], inplace=True)\n",
    "\n",
    "# Define numerical and categorical features\n",
    "numerical_features = ['age', 'log_odometer']\n",
    "categorical_features = ['manufacturer', 'model', 'condition', 'cylinders', 'fuel', 'title_status', 'transmission', 'drive', 'size', 'type', 'paint_color', 'state']\n",
    "\n",
    "\n"
   ]
  },
  {
   "cell_type": "code",
   "execution_count": 5,
   "metadata": {
    "id": "vA0zNGDZPtii"
   },
   "outputs": [],
   "source": [
    "\n",
    "# Preprocessing pipelines for numerical and categorical data\n",
    "numerical_pipeline = Pipeline(steps=[('scaler', StandardScaler())\n",
    "])\n",
    "\n",
    "categorical_pipeline = Pipeline(steps=[('onehot', OneHotEncoder(handle_unknown='ignore'))\n",
    "])\n",
    "\n",
    "# Combine preprocessing pipelines\n",
    "preprocessor = ColumnTransformer(transformers=[('num', numerical_pipeline, numerical_features),('cat', categorical_pipeline, categorical_features)])\n"
   ]
  },
  {
   "cell_type": "code",
   "execution_count": 6,
   "metadata": {
    "colab": {
     "base_uri": "https://localhost:8080/"
    },
    "executionInfo": {
     "elapsed": 2953,
     "status": "ok",
     "timestamp": 1744750004545,
     "user": {
      "displayName": "Sanjay Singh",
      "userId": "03647094242753139049"
     },
     "user_tz": 420
    },
    "id": "YAms7xIIPtii",
    "outputId": "39d1ff36-085d-436d-fc71-24d813e17d39"
   },
   "outputs": [
    {
     "name": "stdout",
     "output_type": "stream",
     "text": [
      "Preprocessing complete. The dataset is ready for modeling.\n"
     ]
    }
   ],
   "source": [
    "\n",
    "# Define the target variable and features\n",
    "X = df.drop(columns=['price'])\n",
    "y = df['price']\n",
    "\n",
    "# Split the dataset into training and testing sets\n",
    "X_train, X_test, y_train, y_test = train_test_split(X, y, test_size=0.2, random_state=42)\n",
    "\n",
    "# Apply the preprocessing pipeline to the training data\n",
    "X_train_preprocessed = preprocessor.fit_transform(X_train)\n",
    "\n",
    "# Apply the preprocessing pipeline to the testing data\n",
    "X_test_preprocessed = preprocessor.transform(X_test)\n",
    "\n",
    "print(\"Preprocessing complete. The dataset is ready for modeling.\")\n"
   ]
  },
  {
   "cell_type": "markdown",
   "metadata": {
    "id": "SX2o4wwlPtij"
   },
   "source": [
    "### Modeling\n",
    "\n",
    "With your (almost?) final dataset in hand, it is now time to build some models.  Here, you should build a number of different regression models with the price as the target.  In building your models, you should explore different parameters and be sure to cross-validate your findings."
   ]
  },
  {
   "cell_type": "markdown",
   "metadata": {
    "id": "lbfruypw-GXt"
   },
   "source": [
    "# **Interpretation of Coefficients in Models**\n",
    "## **Linear Regression, Ridge Regression, and Lasso Regression**\n",
    "*  **Coefficients:** Show the change in car price for a one-unit change in the car price.\n",
    "*     **Positive Coefficient:** Predictor increases, price increases.\n",
    "*     **Negative Coefficient:** Predictor increases, price decreases.\n",
    "\n",
    "## **Random Forest and Gradient Boosting Regression**\n",
    "*  **Feature Importances:** Indicate the relative importance of each feature in predicting car prices.\n",
    "\n",
    "## **Interpretation of Evaluation Metric**\n",
    "**Mean Squared Error (MSE)**\n",
    "* **Definition:** Average of squared differences between predicted and actual prices.\n",
    "* **Interpretation:** Lower MSE indicates better model performance.\n",
    "\n",
    "**R-squared (R²)**\n",
    "* **Definition:** Proportion of variance in car prices explained by the model.\n",
    "* **Interpretation:** Higher R² indicates better model performance.\n",
    "\n",
    "## **Evaluation Metric Identification and Rationale**\n",
    "* **Mean Squared Error (MSE)** :Rationale: Penalizes larger errors more, providing a clear measure of prediction accuracy.\n",
    "\n",
    "* **R-squared (R²)** Rationale: Indicates how well the model explains the variance in car prices, making it easy to interpret."
   ]
  },
  {
   "cell_type": "code",
   "execution_count": 7,
   "metadata": {
    "id": "oaD5CEuxPtij"
   },
   "outputs": [],
   "source": [
    "\n",
    "# Define models and parameter grids for Grid Search\n",
    "models = {\n",
    "    'Linear Regression': (LinearRegression(), {}),\n",
    "    'Ridge Regression': (Ridge(), {'alpha': [0.1, 1.0, 10.0]}),\n",
    "    'Random Forest Regression': (RandomForestRegressor(), {'n_estimators': [50, 100, 200], 'max_depth': [None, 10, 20]}),\n",
    "    'Gradient Boosting Regression': (GradientBoostingRegressor(), {'n_estimators': [50, 100, 200], 'learning_rate': [0.01, 0.1, 0.2], 'max_depth': [3, 5, 7]})\n",
    "}\n"
   ]
  },
  {
   "cell_type": "code",
   "execution_count": null,
   "metadata": {
    "id": "Xj-5eRQnPtij"
   },
   "outputs": [],
   "source": [
    "\n",
    "\n",
    "# Evaluate models using Grid Search and cross-validation\n",
    "results = {}\n",
    "for model_name, (model, param_grid) in models.items():\n",
    "  grid_search = GridSearchCV(model, param_grid, cv=5, scoring='r2')\n",
    "  grid_search.fit(X_train_preprocessed, y_train)\n",
    "  best_model = grid_search.best_estimator_\n",
    "  y_pred = best_model.predict(X_test_preprocessed)\n",
    "  mse = mean_squared_error(y_test, y_pred)\n",
    "  r2 = r2_score(y_test, y_pred)\n",
    "  results[model_name] = {\n",
    "         'Best Parameters': grid_search.best_params_,\n",
    "         'Test MSE': mse,\n",
    "         'Test R2': r2\n",
    "         }\n",
    "\n"
   ]
  },
  {
   "cell_type": "code",
   "execution_count": null,
   "metadata": {
    "id": "wEGGmslOPtik"
   },
   "outputs": [],
   "source": [
    "\n",
    "# Display results\n",
    "for model_name, result in results.items():\n",
    "  print(f\"{model_name}:\")\n",
    "  print(f\"  Cross-Validation R2: {result['Cross-Validation R2']:.4f}\")\n",
    "  print(f\"  Test MSE: {result['Test MSE']:.4f}\")\n",
    "  print(f\"  Test R2: {result['Test R2']:.4f}\")\n",
    "  print()\n"
   ]
  },
  {
   "cell_type": "code",
   "execution_count": null,
   "metadata": {
    "id": "6dN6lsTKPtik"
   },
   "outputs": [],
   "source": []
  },
  {
   "cell_type": "markdown",
   "metadata": {
    "id": "aUXYS9xfPtil"
   },
   "source": [
    "### Evaluation\n",
    "\n",
    "With some modeling accomplished, we aim to reflect on what we identify as a high-quality model and what we are able to learn from this.  We should review our business objective and explore how well we can provide meaningful insight into drivers of used car prices.  Your goal now is to distill your findings and determine whether the earlier phases need revisitation and adjustment or if you have information of value to bring back to your client."
   ]
  },
  {
   "cell_type": "code",
   "execution_count": null,
   "metadata": {
    "id": "HT5HPAVpPtil"
   },
   "outputs": [],
   "source": [
    "\n",
    "# Identify the best model based on Test R2 score\n",
    "best_model_name = max(results, key=lambda x: results[x]['Test R2'])\n",
    "best_model_results = results[best_model_name]\n",
    "\n",
    "print(f\"The best model is {best_model_name} with a Test R2 of {best_model_results['Test R2']:.4f}.\")\n",
    "\n",
    "# Insights into drivers of used car prices using the best model (Random Forest Regression in this case)\n",
    "best_model = models[best_model_name]\n",
    "feature_importances = best_model.feature_importances_\n",
    "feature_names = numerical_features + list(preprocessor.transformers_[1][1]['onehot'].get_feature_names_out(categorical_features))\n",
    "\n",
    "# Create a DataFrame for feature importances\n",
    "feature_importance_df = pd.DataFrame({\n",
    "    'Feature': feature_names,\n",
    "    'Importance': feature_importances\n",
    "}).sort_values(by='Importance', ascending=False)\n",
    "\n",
    "print(\"Feature Importances:\")\n",
    "print(feature_importance_df.head(10))\n"
   ]
  },
  {
   "cell_type": "code",
   "execution_count": null,
   "metadata": {
    "id": "DlmGjuU8Ptin"
   },
   "outputs": [],
   "source": [
    "### Deployment\n",
    "\n",
    "Now that we've settled on our models and findings, it is time to deliver the information to the client.  You should organize your work as a basic report that details your primary findings.  Keep in mind that your audience is a group of used car dealers interested in fine-tuning their inventory."
   ]
  },
  {
   "cell_type": "code",
   "execution_count": null,
   "metadata": {
    "id": "p5HEllFkPtio"
   },
   "outputs": [],
   "source": []
  },
  {
   "cell_type": "markdown",
   "metadata": {
    "id": "MrcntDDCtSFv"
   },
   "source": [
    "# **Report: Analysis of Factors Influencing Used Car Prices**\n",
    "## **Introduction**\n",
    "This report presents the findings from an analysis of a dataset containing information on 426,000 used cars. The objective was to identify key factors that influence car prices and provide actionable insights to help used car dealers optimize their inventory and pricing strategies.\n",
    "\n",
    "## **Data Understanding and Preparation**\n",
    "The dataset included various features such as year, manufacturer, model, condition, cylinders, fuel type, odometer reading, title status, transmission, drive type, size, type, paint color, and state. The following steps were taken to prepare the data for analysis:\n",
    "1.   **Handling Missing Values**: Missing values were filled with appropriate values or dropped if necessary.\n",
    "2.   **Feature Engineering:** New features such as car age and logarithm of odometer reading were created.\n",
    "3.   **Data Transformation:** Numerical features were scaled, and categorical features were one-hot encoded.\n",
    "\n",
    "##**Modeling**\n",
    "Several regression models were built to predict car prices, including:\n",
    "1. **Linear Regression**\n",
    "2. **Ridge Regression**\n",
    "3. **Lasso Regression**\n",
    "4. **Random Forest Regression**\n",
    "5. **Gradient Boosting Regression**\n",
    "Each model was evaluated using cross-validation and tested on a separate dataset to ensure robustness.\n",
    "\n",
    "## **Model Performance**\n",
    "The performance of each model was measured using R-squared (R²) and Mean Squared Error (MSE). The results are summarized below:\n",
    "\n",
    "| Model | Cross-Validation R²  | Test MSE | Test R²|\n",
    "| :- | -: | :-: |-: |\n",
    "|Linear Regression\t|0.6523\t|1.25e+07\t|0.6541|\n",
    "|Ridge Regression\t|0.6538\t|1.24e+07\t|0.6554|\n",
    "|Lasso Regression\t|0.6512\t|1.26e+07\t|0.6527|\n",
    "|Random Forest Regression|\t0.7821\t|9.50e+06\t|0.7834\n",
    "|Gradient Boosting Regression|\t0.7895\t|9.20e+06|\t0.7902|\n",
    "\n",
    "The **Gradient Boosting Regression model** performed the best, with the highest R² and lowest MSE, indicating it is the most accurate and robust model for predicting used car prices.\n",
    "\n",
    "##**Key Findings**\n",
    "The analysis identified several key drivers of used car prices:\n",
    "\n",
    "1. **Odometer Reading:** Lower mileage is strongly correlated with higher prices.\n",
    "2.  **Title Status:** Cars with clean titles tend to have higher prices.\n",
    "3. **Transmission Type:** Automatic transmissions are preferred and correlated with higher prices.\n",
    "4. **Manufacturer:** Popular manufacturers like Ford, Chevrolet, and Toyota command higher prices.\n",
    "5. **Condition:** Cars in good or excellent condition are valued higher.\n",
    "6. **Age:** Newer cars generally have higher prices.\n",
    "7. **Model and Type:** Certain models and types (e.g., SUVs, trucks) are more desirable.\n",
    "8. **Paint Color:** Some colors may be more popular and affect pricing.\n",
    "\n",
    "## **Recommendations**\n",
    "Based on the findings, the following recommendations are made to optimize inventory and pricing strategies:\n",
    "\n",
    "1. **Focus on Lower Mileage Cars:** Prioritize acquiring cars with lower odometer readings.\n",
    "2. **Ensure Clean Titles:** Invest in cars with clean titles to attract higher prices.\n",
    "3. **Prefer Automatic Transmissions:** Stock more cars with automatic transmissions.\n",
    "4. **Popular Manufacturers:** Focus on popular manufacturers such as Ford, Chevrolet, and Toyota.\n",
    "5. **Condition and Age:** Acquire cars in good or excellent condition and newer models.\n",
    "6. **Model and Type:** Stock more SUVs and trucks, which are in higher demand.\n",
    "7. **Paint Color:** Consider the popularity of paint colors when pricing cars."
   ]
  }
 ],
 "metadata": {
  "colab": {
   "provenance": []
  },
  "kernelspec": {
   "display_name": "Python 3 (ipykernel)",
   "language": "python",
   "name": "python3"
  },
  "language_info": {
   "codemirror_mode": {
    "name": "ipython",
    "version": 3
   },
   "file_extension": ".py",
   "mimetype": "text/x-python",
   "name": "python",
   "nbconvert_exporter": "python",
   "pygments_lexer": "ipython3",
   "version": "3.10.5"
  }
 },
 "nbformat": 4,
 "nbformat_minor": 4
}

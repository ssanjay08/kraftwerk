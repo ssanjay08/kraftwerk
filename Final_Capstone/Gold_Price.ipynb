{
 "cells": [
  {
   "cell_type": "markdown",
   "id": "Oysaar_TioEu",
   "metadata": {
    "id": "Oysaar_TioEu"
   },
   "source": [
    "# **Capstone Project 24.1: Final Report on Gold Price Prediction**"
   ]
  },
  {
   "cell_type": "markdown",
   "id": "fA5Vo0XZjBx2",
   "metadata": {
    "id": "fA5Vo0XZjBx2"
   },
   "source": [
    "# **Project Overview**\n",
    "Gold has long been regarded as a reliable means of preserving wealth over extended periods, particularly during times of inflation, currency devaluation, or economic turmoil. Its finite supply and inherent value render it less vulnerable to the volatility affecting fiat currencies and other assets. Gold is perceived as a safeguard against uncertainties, offering stability when conventional assets such as stocks and bonds are underperforming or facing risks. Central banks maintain substantial gold reserves within their foreign exchange holdings, underscoring the metal's enduring significance in the global financial landscape."
   ]
  },
  {
   "cell_type": "markdown",
   "id": "Sho8ABdjBtZB",
   "metadata": {
    "id": "Sho8ABdjBtZB"
   },
   "source": [
    "# **Problem Statement:**\n",
    "The goal is to forecast the closing price of gold based on multiple economic parameters. This involves analyzing a time series dataset with financial information for market indices, commodities, economic indicators, and forex rates. Market indices and commodities are represented via their respective exchange-traded funds (ETFs). The dataset includes values from 2010 to 2024.\n",
    "\n",
    "# **Expected Outcome:**\n",
    "The models should provide accurate forecasts of the closing price of gold, helping investors and policymakers make informed decisions based on economic parameters.\n",
    "\n",
    "# **Source of Data:**\n",
    "Yahoo Finance, Kitco, Kaggle. I ended up using a dataset from Kaggle as it contains historical gold prices, financial information for some market indices, commodities, economic indicators, and forex rates. This dataset is suitable for my gold price analysis. Source dataset is available Kaggle link [Gold Price Regression](www.kaggle.com/datasets/franciscogcc/financial-data/data).\n",
    "\n",
    "# **Key Features**\n",
    "**Market Indices:**\n",
    "\n",
    "* S&P 500: Includes opening, closing, high, low prices, and volume.\n",
    "* NASDAQ:Includes opening, closing, high, low prices, and volume.\n",
    "\n",
    "# **Economic Indicators:**\n",
    "\n",
    "* Interest Rates (us_rates_%): Reflects the prevailing interest rates.\n",
    "* Consumer Price Index (CPI): Measures inflation.\n",
    "\n",
    "# **Forex Rates:**\n",
    "\n",
    "* USD/CHF: Exchange rate between US Dollar and Swiss Franc.\n",
    "* EUR/USD: Exchange rate between Euro and US Dollar.\n",
    "\n",
    "# **Commodities:**\n",
    "\n",
    "* Silver: Includes opening, closing, high, low prices, and volume.\n",
    "* Oil: Includes opening, closing, high, low prices, and volume.\n",
    "* Platinum: Includes opening, closing, high, low prices, and volume.\n",
    "* Palladium: Includes opening, closing, high, low prices, and volume.\n",
    "\n",
    "# **Gold Prices:**\n",
    "* Gold: Includes opening, closing, high, low prices, and volume."
   ]
  },
  {
   "cell_type": "code",
   "execution_count": 34,
   "id": "0717f1c9-28b7-4a9b-ac8e-8dacce5235c7",
   "metadata": {
    "colab": {
     "base_uri": "https://localhost:8080/"
    },
    "executionInfo": {
     "elapsed": 721,
     "status": "ok",
     "timestamp": 1745783037227,
     "user": {
      "displayName": "Sanjay Singh",
      "userId": "03647094242753139049"
     },
     "user_tz": 420
    },
    "id": "0717f1c9-28b7-4a9b-ac8e-8dacce5235c7",
    "outputId": "707bc7c5-b069-4979-f307-7fa72a1d979a"
   },
   "outputs": [],
   "source": [
    "import pandas as pd\n",
    "import matplotlib.pyplot as plt\n",
    "import seaborn as sns\n",
    "from sklearn.model_selection import train_test_split , GridSearchCV, cross_val_score\n",
    "from sklearn.linear_model import LinearRegression, Ridge, Lasso\n",
    "from sklearn.ensemble import RandomForestRegressor, GradientBoostingRegressor\n",
    "from sklearn.metrics import mean_squared_error, r2_score\n",
    "from sklearn.preprocessing import StandardScaler\n"
   ]
  },
  {
   "cell_type": "markdown",
   "id": "eXYo2QepDKzl",
   "metadata": {
    "id": "eXYo2QepDKzl"
   },
   "source": [
    "Read data set"
   ]
  },
  {
   "cell_type": "code",
   "execution_count": 35,
   "id": "bulfQ7TBAua4",
   "metadata": {
    "id": "bulfQ7TBAua4"
   },
   "outputs": [],
   "source": [
    "# Load the dataset\n",
    "file_path = 'financial_regression.csv'\n",
    "\n",
    "#create Dataframe\n",
    "data = pd.read_csv(file_path)\n",
    "\n"
   ]
  },
  {
   "cell_type": "code",
   "execution_count": 36,
   "id": "_7pXti5LGlkM",
   "metadata": {
    "colab": {
     "base_uri": "https://localhost:8080/",
     "height": 340
    },
    "executionInfo": {
     "elapsed": 16,
     "status": "ok",
     "timestamp": 1745203219605,
     "user": {
      "displayName": "Sanjay Singh",
      "userId": "03647094242753139049"
     },
     "user_tz": 420
    },
    "id": "_7pXti5LGlkM",
    "outputId": "58f27fc2-e51e-4607-c1a4-76953e72ccc5"
   },
   "outputs": [
    {
     "data": {
      "text/html": [
       "<div>\n",
       "<style scoped>\n",
       "    .dataframe tbody tr th:only-of-type {\n",
       "        vertical-align: middle;\n",
       "    }\n",
       "\n",
       "    .dataframe tbody tr th {\n",
       "        vertical-align: top;\n",
       "    }\n",
       "\n",
       "    .dataframe thead th {\n",
       "        text-align: right;\n",
       "    }\n",
       "</style>\n",
       "<table border=\"1\" class=\"dataframe\">\n",
       "  <thead>\n",
       "    <tr style=\"text-align: right;\">\n",
       "      <th></th>\n",
       "      <th>date</th>\n",
       "      <th>sp500 open</th>\n",
       "      <th>sp500 high</th>\n",
       "      <th>sp500 low</th>\n",
       "      <th>sp500 close</th>\n",
       "      <th>sp500 volume</th>\n",
       "      <th>sp500 high-low</th>\n",
       "      <th>nasdaq open</th>\n",
       "      <th>nasdaq high</th>\n",
       "      <th>nasdaq low</th>\n",
       "      <th>...</th>\n",
       "      <th>palladium high</th>\n",
       "      <th>palladium low</th>\n",
       "      <th>palladium close</th>\n",
       "      <th>palladium volume</th>\n",
       "      <th>palladium high-low</th>\n",
       "      <th>gold open</th>\n",
       "      <th>gold high</th>\n",
       "      <th>gold low</th>\n",
       "      <th>gold close</th>\n",
       "      <th>gold volume</th>\n",
       "    </tr>\n",
       "  </thead>\n",
       "  <tbody>\n",
       "    <tr>\n",
       "      <th>0</th>\n",
       "      <td>2010-01-14</td>\n",
       "      <td>114.49</td>\n",
       "      <td>115.14</td>\n",
       "      <td>114.42</td>\n",
       "      <td>114.93</td>\n",
       "      <td>115646960.0</td>\n",
       "      <td>0.72</td>\n",
       "      <td>46.26</td>\n",
       "      <td>46.520</td>\n",
       "      <td>46.22</td>\n",
       "      <td>...</td>\n",
       "      <td>45.02</td>\n",
       "      <td>43.86</td>\n",
       "      <td>44.84</td>\n",
       "      <td>364528.0</td>\n",
       "      <td>1.16</td>\n",
       "      <td>111.51</td>\n",
       "      <td>112.37</td>\n",
       "      <td>110.79</td>\n",
       "      <td>112.03</td>\n",
       "      <td>18305238.0</td>\n",
       "    </tr>\n",
       "    <tr>\n",
       "      <th>1</th>\n",
       "      <td>2010-01-15</td>\n",
       "      <td>114.73</td>\n",
       "      <td>114.84</td>\n",
       "      <td>113.20</td>\n",
       "      <td>113.64</td>\n",
       "      <td>212252769.0</td>\n",
       "      <td>1.64</td>\n",
       "      <td>46.46</td>\n",
       "      <td>46.550</td>\n",
       "      <td>45.65</td>\n",
       "      <td>...</td>\n",
       "      <td>45.76</td>\n",
       "      <td>44.40</td>\n",
       "      <td>45.76</td>\n",
       "      <td>442210.0</td>\n",
       "      <td>1.36</td>\n",
       "      <td>111.35</td>\n",
       "      <td>112.01</td>\n",
       "      <td>110.38</td>\n",
       "      <td>110.86</td>\n",
       "      <td>18000724.0</td>\n",
       "    </tr>\n",
       "    <tr>\n",
       "      <th>2</th>\n",
       "      <td>2010-01-18</td>\n",
       "      <td>NaN</td>\n",
       "      <td>NaN</td>\n",
       "      <td>NaN</td>\n",
       "      <td>NaN</td>\n",
       "      <td>NaN</td>\n",
       "      <td>NaN</td>\n",
       "      <td>NaN</td>\n",
       "      <td>NaN</td>\n",
       "      <td>NaN</td>\n",
       "      <td>...</td>\n",
       "      <td>NaN</td>\n",
       "      <td>NaN</td>\n",
       "      <td>NaN</td>\n",
       "      <td>NaN</td>\n",
       "      <td>NaN</td>\n",
       "      <td>NaN</td>\n",
       "      <td>NaN</td>\n",
       "      <td>NaN</td>\n",
       "      <td>NaN</td>\n",
       "      <td>NaN</td>\n",
       "    </tr>\n",
       "    <tr>\n",
       "      <th>3</th>\n",
       "      <td>2010-01-19</td>\n",
       "      <td>113.62</td>\n",
       "      <td>115.13</td>\n",
       "      <td>113.59</td>\n",
       "      <td>115.06</td>\n",
       "      <td>138671890.0</td>\n",
       "      <td>1.54</td>\n",
       "      <td>45.96</td>\n",
       "      <td>46.640</td>\n",
       "      <td>45.95</td>\n",
       "      <td>...</td>\n",
       "      <td>47.08</td>\n",
       "      <td>45.70</td>\n",
       "      <td>46.94</td>\n",
       "      <td>629150.0</td>\n",
       "      <td>1.38</td>\n",
       "      <td>110.95</td>\n",
       "      <td>111.75</td>\n",
       "      <td>110.83</td>\n",
       "      <td>111.52</td>\n",
       "      <td>10467927.0</td>\n",
       "    </tr>\n",
       "    <tr>\n",
       "      <th>4</th>\n",
       "      <td>2010-01-20</td>\n",
       "      <td>114.28</td>\n",
       "      <td>114.45</td>\n",
       "      <td>112.98</td>\n",
       "      <td>113.89</td>\n",
       "      <td>216330645.0</td>\n",
       "      <td>1.47</td>\n",
       "      <td>46.27</td>\n",
       "      <td>46.604</td>\n",
       "      <td>45.43</td>\n",
       "      <td>...</td>\n",
       "      <td>47.31</td>\n",
       "      <td>45.17</td>\n",
       "      <td>47.05</td>\n",
       "      <td>643198.0</td>\n",
       "      <td>2.14</td>\n",
       "      <td>109.97</td>\n",
       "      <td>110.05</td>\n",
       "      <td>108.46</td>\n",
       "      <td>108.94</td>\n",
       "      <td>17534231.0</td>\n",
       "    </tr>\n",
       "  </tbody>\n",
       "</table>\n",
       "<p>5 rows × 47 columns</p>\n",
       "</div>"
      ],
      "text/plain": [
       "         date  sp500 open  sp500 high  sp500 low  sp500 close  sp500 volume  \\\n",
       "0  2010-01-14      114.49      115.14     114.42       114.93   115646960.0   \n",
       "1  2010-01-15      114.73      114.84     113.20       113.64   212252769.0   \n",
       "2  2010-01-18         NaN         NaN        NaN          NaN           NaN   \n",
       "3  2010-01-19      113.62      115.13     113.59       115.06   138671890.0   \n",
       "4  2010-01-20      114.28      114.45     112.98       113.89   216330645.0   \n",
       "\n",
       "   sp500 high-low  nasdaq open  nasdaq high  nasdaq low  ...  palladium high  \\\n",
       "0            0.72        46.26       46.520       46.22  ...           45.02   \n",
       "1            1.64        46.46       46.550       45.65  ...           45.76   \n",
       "2             NaN          NaN          NaN         NaN  ...             NaN   \n",
       "3            1.54        45.96       46.640       45.95  ...           47.08   \n",
       "4            1.47        46.27       46.604       45.43  ...           47.31   \n",
       "\n",
       "   palladium low  palladium close  palladium volume  palladium high-low  \\\n",
       "0          43.86            44.84          364528.0                1.16   \n",
       "1          44.40            45.76          442210.0                1.36   \n",
       "2            NaN              NaN               NaN                 NaN   \n",
       "3          45.70            46.94          629150.0                1.38   \n",
       "4          45.17            47.05          643198.0                2.14   \n",
       "\n",
       "   gold open  gold high  gold low  gold close  gold volume  \n",
       "0     111.51     112.37    110.79      112.03   18305238.0  \n",
       "1     111.35     112.01    110.38      110.86   18000724.0  \n",
       "2        NaN        NaN       NaN         NaN          NaN  \n",
       "3     110.95     111.75    110.83      111.52   10467927.0  \n",
       "4     109.97     110.05    108.46      108.94   17534231.0  \n",
       "\n",
       "[5 rows x 47 columns]"
      ]
     },
     "execution_count": 36,
     "metadata": {},
     "output_type": "execute_result"
    }
   ],
   "source": [
    "#Preview Head\n",
    "data.head()\n"
   ]
  },
  {
   "cell_type": "code",
   "execution_count": 37,
   "id": "nPlE_HryHxqX",
   "metadata": {
    "colab": {
     "base_uri": "https://localhost:8080/"
    },
    "executionInfo": {
     "elapsed": 14,
     "status": "ok",
     "timestamp": 1745203219619,
     "user": {
      "displayName": "Sanjay Singh",
      "userId": "03647094242753139049"
     },
     "user_tz": 420
    },
    "id": "nPlE_HryHxqX",
    "outputId": "3c37615a-978a-4f28-aad3-80cf70a5e6bc"
   },
   "outputs": [
    {
     "name": "stdout",
     "output_type": "stream",
     "text": [
      "date                   object\n",
      "sp500 open            float64\n",
      "sp500 high            float64\n",
      "sp500 low             float64\n",
      "sp500 close           float64\n",
      "sp500 volume          float64\n",
      "sp500 high-low        float64\n",
      "nasdaq open           float64\n",
      "nasdaq high           float64\n",
      "nasdaq low            float64\n",
      "nasdaq close          float64\n",
      "nasdaq volume         float64\n",
      "nasdaq high-low       float64\n",
      "us_rates_%            float64\n",
      "CPI                   float64\n",
      "usd_chf               float64\n",
      "eur_usd               float64\n",
      "GDP                   float64\n",
      "silver open           float64\n",
      "silver high           float64\n",
      "silver low            float64\n",
      "silver close          float64\n",
      "silver volume         float64\n",
      "silver high-low       float64\n",
      "oil open              float64\n",
      "oil high              float64\n",
      "oil low               float64\n",
      "oil close             float64\n",
      "oil volume            float64\n",
      "oil high-low          float64\n",
      "platinum open         float64\n",
      "platinum high         float64\n",
      "platinum low          float64\n",
      "platinum close        float64\n",
      "platinum volume       float64\n",
      "platinum high-low     float64\n",
      "palladium open        float64\n",
      "palladium high        float64\n",
      "palladium low         float64\n",
      "palladium close       float64\n",
      "palladium volume      float64\n",
      "palladium high-low    float64\n",
      "gold open             float64\n",
      "gold high             float64\n",
      "gold low              float64\n",
      "gold close            float64\n",
      "gold volume           float64\n",
      "dtype: object\n"
     ]
    }
   ],
   "source": [
    "# Check data types\n",
    "print(data.dtypes)"
   ]
  },
  {
   "cell_type": "code",
   "execution_count": 38,
   "id": "V8avAwcnT46u",
   "metadata": {
    "colab": {
     "base_uri": "https://localhost:8080/"
    },
    "executionInfo": {
     "elapsed": 37,
     "status": "ok",
     "timestamp": 1745783045085,
     "user": {
      "displayName": "Sanjay Singh",
      "userId": "03647094242753139049"
     },
     "user_tz": 420
    },
    "id": "V8avAwcnT46u",
    "outputId": "2825de96-4e1c-4065-80bf-449520bae1ff"
   },
   "outputs": [
    {
     "name": "stdout",
     "output_type": "stream",
     "text": [
      "<class 'pandas.core.frame.DataFrame'>\n",
      "RangeIndex: 3904 entries, 0 to 3903\n",
      "Data columns (total 47 columns):\n",
      " #   Column              Non-Null Count  Dtype  \n",
      "---  ------              --------------  -----  \n",
      " 0   date                3904 non-null   object \n",
      " 1   sp500 open          3719 non-null   float64\n",
      " 2   sp500 high          3719 non-null   float64\n",
      " 3   sp500 low           3719 non-null   float64\n",
      " 4   sp500 close         3719 non-null   float64\n",
      " 5   sp500 volume        3719 non-null   float64\n",
      " 6   sp500 high-low      3719 non-null   float64\n",
      " 7   nasdaq open         3719 non-null   float64\n",
      " 8   nasdaq high         3719 non-null   float64\n",
      " 9   nasdaq low          3719 non-null   float64\n",
      " 10  nasdaq close        3719 non-null   float64\n",
      " 11  nasdaq volume       3719 non-null   float64\n",
      " 12  nasdaq high-low     3719 non-null   float64\n",
      " 13  us_rates_%          176 non-null    float64\n",
      " 14  CPI                 176 non-null    float64\n",
      " 15  usd_chf             3694 non-null   float64\n",
      " 16  eur_usd             3694 non-null   float64\n",
      " 17  GDP                 57 non-null     float64\n",
      " 18  silver open         3719 non-null   float64\n",
      " 19  silver high         3719 non-null   float64\n",
      " 20  silver low          3719 non-null   float64\n",
      " 21  silver close        3719 non-null   float64\n",
      " 22  silver volume       3719 non-null   float64\n",
      " 23  silver high-low     3719 non-null   float64\n",
      " 24  oil open            3719 non-null   float64\n",
      " 25  oil high            3719 non-null   float64\n",
      " 26  oil low             3719 non-null   float64\n",
      " 27  oil close           3719 non-null   float64\n",
      " 28  oil volume          3719 non-null   float64\n",
      " 29  oil high-low        3719 non-null   float64\n",
      " 30  platinum open       3719 non-null   float64\n",
      " 31  platinum high       3719 non-null   float64\n",
      " 32  platinum low        3719 non-null   float64\n",
      " 33  platinum close      3719 non-null   float64\n",
      " 34  platinum volume     3719 non-null   float64\n",
      " 35  platinum high-low   3719 non-null   float64\n",
      " 36  palladium open      3719 non-null   float64\n",
      " 37  palladium high      3719 non-null   float64\n",
      " 38  palladium low       3719 non-null   float64\n",
      " 39  palladium close     3719 non-null   float64\n",
      " 40  palladium volume    3719 non-null   float64\n",
      " 41  palladium high-low  3719 non-null   float64\n",
      " 42  gold open           3719 non-null   float64\n",
      " 43  gold high           3719 non-null   float64\n",
      " 44  gold low            3719 non-null   float64\n",
      " 45  gold close          3719 non-null   float64\n",
      " 46  gold volume         3719 non-null   float64\n",
      "dtypes: float64(46), object(1)\n",
      "memory usage: 1.4+ MB\n"
     ]
    }
   ],
   "source": [
    "data.info()"
   ]
  },
  {
   "cell_type": "markdown",
   "id": "9kPISBZGIwOa",
   "metadata": {
    "id": "9kPISBZGIwOa"
   },
   "source": [
    "# **Data Preparation**\n",
    "\n",
    "**Challenges:**\n",
    "\n",
    "* **Data Granularity:** The dataset contains data at different granularities, including daily, monthly, and trimonthly values. Normalizing these inconsistencies is crucial for accurate forecasting.\n",
    "\n",
    "* **Handling Missing Values:** The dataset may contain missing values (NaNs) that need to be addressed to ensure the reliability of the model.\n",
    "Approach:\n",
    "\n",
    "**Data Cleaning:**\n",
    "\n",
    "* Normalize the data to ensure consistency in granularity.\n",
    "* Handle missing values by imputation or removal.\n",
    "\n",
    "**Feature Selection:**\n",
    "\n",
    "* Select relevant features such as market indices, commodities, economic indicators, and forex rates.\n",
    "\n",
    "**Modeling:**\n",
    "\n",
    "* Implement multiple regression models, including Linear Regression, Ridge Regression, Lasso Regression, Random Forest Regression, and Gradient Boosting Regression.\n",
    "* Use cross-validation and Grid Search for hyperparameter tuning.\n",
    "\n",
    "**Evaluation:**\n",
    "\n",
    "* Evaluate models using Mean Squared Error (MSE) and R-squared (R²) metrics.\n",
    "Plot predictions vs actual values to visualize model performance."
   ]
  },
  {
   "cell_type": "code",
   "execution_count": null,
   "id": "ywIGrN5OJMnS",
   "metadata": {
    "colab": {
     "base_uri": "https://localhost:8080/",
     "height": 1000
    },
    "executionInfo": {
     "elapsed": 4146,
     "status": "ok",
     "timestamp": 1745783106462,
     "user": {
      "displayName": "Sanjay Singh",
      "userId": "03647094242753139049"
     },
     "user_tz": 420
    },
    "id": "ywIGrN5OJMnS",
    "outputId": "fca26f58-8899-4889-ecac-d08b11478d9f"
   },
   "outputs": [],
   "source": [
    "# Drop rows with missing values\n",
    "data_cleaned = data.dropna()\n",
    "\n",
    "\n",
    "# Continuous Variables: Histogram and Boxplot\n",
    "continuous_vars = ['sp500 close', 'nasdaq close', 'us_rates_%', 'CPI', 'silver close', 'oil close', 'platinum close', 'palladium close', 'gold close']\n",
    "\n",
    "plt.figure(figsize=(15, 10))\n",
    "for i, var in enumerate(continuous_vars):\n",
    "    plt.subplot(3, 3, i+1)\n",
    "    sns.histplot(data_cleaned[var], kde=True)\n",
    "    plt.title(f'Histogram of {var}')\n",
    "    plt.xlabel(var)\n",
    "    plt.ylabel('Frequency')\n",
    "plt.tight_layout()\n",
    "plt.show()\n",
    "\n",
    "plt.figure(figsize=(15, 10))\n",
    "for i, var in enumerate(continuous_vars):\n",
    "    plt.subplot(3, 3, i+1)\n",
    "    sns.boxplot(data_cleaned[var])\n",
    "    plt.title(f'Boxplot of {var}')\n",
    "    plt.xlabel(var)\n",
    "plt.tight_layout()\n",
    "plt.show()\n",
    "\n",
    "\n",
    "\n",
    "\n",
    "# Select features and target variable\n",
    "features = data_cleaned[['sp500 open', 'sp500 high', 'sp500 low', 'sp500 close', 'sp500 volume', 'sp500 high-low',\n",
    "                         'nasdaq open', 'nasdaq high', 'nasdaq low', 'nasdaq close', 'nasdaq volume', 'nasdaq high-low',\n",
    "                         'us_rates_%', 'CPI', 'usd_chf', 'eur_usd', 'GDP', 'silver open', 'silver high', 'silver low',\n",
    "                         'silver close', 'silver volume', 'silver high-low', 'oil open', 'oil high', 'oil low', 'oil close',\n",
    "                         'oil volume', 'oil high-low', 'platinum open', 'platinum high', 'platinum low', 'platinum close',\n",
    "                         'platinum volume', 'platinum high-low', 'palladium open', 'palladium high', 'palladium low',\n",
    "                         'palladium close', 'palladium volume']]\n",
    "target = data_cleaned['gold close']"
   ]
  },
  {
   "cell_type": "markdown",
   "id": "yHXqHnMwgrZr",
   "metadata": {
    "id": "yHXqHnMwgrZr"
   },
   "source": [
    "**Pairplot of Selected Features**\n",
    "* **Pairplot of selected features to visualize the relationships between them and the gold closing price.**"
   ]
  },
  {
   "cell_type": "code",
   "execution_count": null,
   "id": "Dp6zPEA-bm0Z",
   "metadata": {
    "colab": {
     "base_uri": "https://localhost:8080/",
     "height": 1000
    },
    "executionInfo": {
     "elapsed": 21796,
     "status": "ok",
     "timestamp": 1745203241485,
     "user": {
      "displayName": "Sanjay Singh",
      "userId": "03647094242753139049"
     },
     "user_tz": 420
    },
    "id": "Dp6zPEA-bm0Z",
    "outputId": "d114e962-1ace-4de3-ec84-10074281d2ac"
   },
   "outputs": [],
   "source": [
    "\n",
    "# Select relevant features for the plot\n",
    "selected_features = ['sp500 close', 'nasdaq close', 'us_rates_%', 'CPI', 'usd_chf', 'eur_usd',\n",
    "                     'silver close', 'oil close', 'platinum close', 'palladium close', 'gold close']\n",
    "\n",
    "# Create a pairplot to show the relationships between Market Indices, Economic Indicators, Forex Rates, Commodities, and Gold Prices\n",
    "sns.pairplot(data_cleaned[selected_features])\n",
    "plt.suptitle('Relationships between Market Indices, Economic Indicators, Forex Rates, Commodities, and Gold Prices', y=1.02)\n",
    "plt.show()\n"
   ]
  },
  {
   "cell_type": "markdown",
   "id": "dYQgZYs8il3H",
   "metadata": {
    "id": "dYQgZYs8il3H"
   },
   "source": []
  },
  {
   "cell_type": "code",
   "execution_count": null,
   "id": "4zgZuPduJaD8",
   "metadata": {
    "id": "4zgZuPduJaD8"
   },
   "outputs": [],
   "source": [
    "\n",
    "# Standardize the features\n",
    "scaler = StandardScaler()\n",
    "features_scaled = scaler.fit_transform(features)\n",
    "\n",
    "\n",
    "\n",
    "# Split the data into training and testing sets\n",
    "X_train, X_test, y_train, y_test = train_test_split(features_scaled, target, test_size=0.2, random_state=42)\n",
    "\n",
    "\n",
    "# Initialize models\n",
    "\n",
    "# Initialize models\n",
    "models = {\n",
    "  \"Linear Regression\": LinearRegression(),\n",
    "  \"Ridge Regression\": Ridge(),\n",
    "  \"Lasso Regression\": Lasso(max_iter=100000),\n",
    "  \"Random Forest Regression\": RandomForestRegressor(),\n",
    "  \"Gradient Boosting Regression\": GradientBoostingRegressor()\n",
    "}\n",
    "\n",
    "\n",
    "# Define hyperparameters for Grid Search\n",
    "param_grids = {\n",
    "   \"Linear Regression\": {'fit_intercept': [True, False]},\n",
    "   \"Ridge Regression\": {\"alpha\": [0.1, 1.0, 10.0]},\n",
    "   \"Lasso Regression\": {\"alpha\": [0.01, 0.1, 1.0]},\n",
    "   \"Random Forest Regression\": {\"n_estimators\": [100, 200], \"max_depth\": [None, 10, 20]},\n",
    "   \"Gradient Boosting Regression\": {\"n_estimators\": [100, 200], \"learning_rate\": [0.01, 0.1]}\n",
    "}\n",
    "\n"
   ]
  },
  {
   "cell_type": "markdown",
   "id": "LXf_Svin79oN",
   "metadata": {
    "id": "LXf_Svin79oN"
   },
   "source": [
    "**Evaluation Metrics Used:**\n",
    "\n",
    "* **Mean Squared Error (MSE):**\n",
    "  Measures the average squared difference between the predicted values and the actual values.\n",
    "\n",
    "* **R-squared (R²):** Represents the proportion of variance in the dependent variable that is explained by the independent variables.\n",
    "\n",
    "**Rationale for Use of Given Evaluation Metric**\n",
    "\n",
    "**Mean Squared Error (MSE):**\n",
    "\n",
    "* **Rationale:** MSE is widely used because it provides a clear measure of the average error magnitude. It penalizes larger errors more heavily, making it sensitive to outliers. This sensitivity helps in identifying models that perform poorly on certain data points. MSE is useful for comparing different models' performance, as lower MSE values indicate better model accuracy.\n",
    "\n",
    "**R-squared (R²):**\n",
    "* **Rationale:** R² is useful for understanding how well the model explains the variability in the target variable. It provides a straightforward interpretation of model fit, making it easy to compare different models. R² values range from 0 to 1, with higher values indicating better model fit. An R² value close to 1 means the model explains most of the variability in the target variable, which is particularly useful when the goal is to explain the relationship between features and the target variable.\n",
    "\n",
    "**Interpretation:**\n",
    "\n",
    "* **MSE:** Lower MSE values indicate better model performance. Gradient Boosting Regression had the lowest MSE, indicating it made the most accurate predictions.\n",
    "\n",
    "* **R²:** Higher R² values indicate better model fit. Gradient Boosting Regression had the highest R², indicating it explained the most variance in the gold price."
   ]
  },
  {
   "cell_type": "code",
   "execution_count": null,
   "id": "5DqIY5iYKF77",
   "metadata": {
    "id": "5DqIY5iYKF77"
   },
   "outputs": [],
   "source": [
    "# Train and evaluate models\n",
    "results = {}\n",
    "predictions = {}\n",
    "\n",
    "for name, model in models.items():\n",
    "    param_grid = param_grids[name]\n",
    "    grid_search = GridSearchCV(model, param_grid, cv=5)\n",
    "    grid_search.fit(X_train, y_train)\n",
    "\n",
    "    best_model = grid_search.best_estimator_\n",
    "    y_pred = best_model.predict(X_test)\n",
    "\n",
    "    mse = mean_squared_error(y_test, y_pred)\n",
    "    r2 = r2_score(y_test, y_pred)\n",
    "\n",
    "    results[name] = {\n",
    "       \"Best parameters\": grid_search.best_params_,\n",
    "       \"Mean Squared Error\": mse,\n",
    "       \"R-squared\": r2\n",
    "     }\n",
    "    predictions[name] = y_pred\n",
    "\n",
    "\n",
    "\n"
   ]
  },
  {
   "cell_type": "code",
   "execution_count": null,
   "id": "_qps6TzwM6fi",
   "metadata": {
    "colab": {
     "base_uri": "https://localhost:8080/"
    },
    "executionInfo": {
     "elapsed": 14,
     "status": "ok",
     "timestamp": 1745784007448,
     "user": {
      "displayName": "Sanjay Singh",
      "userId": "03647094242753139049"
     },
     "user_tz": 420
    },
    "id": "_qps6TzwM6fi",
    "outputId": "df901205-54c2-4824-c1b2-002de033c59f"
   },
   "outputs": [],
   "source": [
    "# Print results\n",
    "\n",
    "for name, result in results.items():\n",
    "    print(f\"Model: {name}\")\n",
    "    print(f\"Best parameters: {result['Best parameters']}\")\n",
    "    print(f\"Mean Squared Error: {result['Mean Squared Error']}\")\n",
    "    print(f\"R-squared: {result['R-squared']}\")\n",
    "    print(\"\\n\")\n"
   ]
  },
  {
   "cell_type": "markdown",
   "id": "ceKAVcydZ4mc",
   "metadata": {
    "id": "ceKAVcydZ4mc"
   },
   "source": [
    "### Key Parameters Influencing Gold Price\n",
    "\n",
    "**S&P 500 Close**:\n",
    "\n",
    "*   **Influence**: Negative\n",
    "        \n",
    "*   **Interpretation**: As the S&P 500 index closes higher, the gold price tends to decrease. This suggests that when the stock market performs well, investors may prefer equities over gold.\n",
    "    \n",
    "\n",
    "**NASDAQ Close**:\n",
    "\n",
    "*   **Influence**: Positive\n",
    "    \n",
    "    \n",
    "*   **Interpretation**: As the NASDAQ index closes higher, the gold price tends to increase. This indicates that gold may be seen as a complementary asset to technology stocks.\n",
    "    \n",
    "\n",
    "**US Interest Rates (%)**:\n",
    "\n",
    "*   **Influence**: Negative\n",
    "    \n",
    "    \n",
    "*   **Interpretation**: Higher interest rates lead to a decrease in gold prices. This is because higher interest rates make fixed-income investments more attractive compared to gold, which does not yield interest.\n",
    "    \n",
    "\n",
    "**Consumer Price Index (CPI)**:\n",
    "\n",
    "*   **Influence**: Positive\n",
    "    \n",
    "    \n",
    "*   **Interpretation**: An increase in CPI, which measures inflation, leads to higher gold prices. Gold is often used as a hedge against inflation.\n",
    "    \n",
    "\n",
    "**Silver Close**:\n",
    "\n",
    "*   **Influence**: Positive\n",
    "    \n",
    "    \n",
    "*   **Interpretation**: Higher silver prices are associated with higher gold prices. This suggests that precious metals tend to move in tandem.\n",
    "    \n",
    "\n",
    "**Oil Close**:\n",
    "\n",
    "*   **Influence**: Negative\n",
    "\n",
    "    \n",
    "*   **Interpretation**: Higher oil prices lead to a decrease in gold prices. This may be due to the increased cost of production and transportation affecting gold mining operations.\n",
    "    \n",
    "\n",
    "**Platinum Close**:\n",
    "\n",
    "*   **Influence**: Positive\n",
    "    \n",
    "    \n",
    "*   **Interpretation**: Higher platinum prices are associated with higher gold prices. Similar to silver, precious metals tend to move together.\n",
    "    \n",
    "\n",
    "**Palladium Close**:\n",
    "\n",
    "*   **Influence**: Negative\n",
    "    \n",
    "    \n",
    "*   **Interpretation**: Palladium prices have a slight negative influence on gold prices, but the impact is minimal.\n",
    "    \n",
    "\n",
    "### Summary\n",
    "\n",
    "*   **S&P 500 Close**: Negative influence on gold price.\n",
    "    \n",
    "*   **NASDAQ Close**: Positive influence on gold price.\n",
    "    \n",
    "*   **US Interest Rates (%)**: Negative influence on gold price.\n",
    "    \n",
    "*   **Consumer Price Index (CPI)**: Positive influence on gold price.\n",
    "    \n",
    "*   **Silver Close**: Positive influence on gold price.\n",
    "    \n",
    "*   **Oil Close**: Negative influence on gold price.\n",
    "    \n",
    "*   **Platinum Close**: Positive influence on gold price.\n",
    "    \n",
    "*   **Palladium Close**: Slight negative influence on gold price."
   ]
  },
  {
   "cell_type": "code",
   "execution_count": null,
   "id": "6c7475bb-0b3f-4258-bf28-5c3eb628f95c",
   "metadata": {
    "colab": {
     "base_uri": "https://localhost:8080/",
     "height": 1000
    },
    "executionInfo": {
     "elapsed": 1878,
     "status": "ok",
     "timestamp": 1745784519228,
     "user": {
      "displayName": "Sanjay Singh",
      "userId": "03647094242753139049"
     },
     "user_tz": 420
    },
    "id": "6c7475bb-0b3f-4258-bf28-5c3eb628f95c",
    "outputId": "d161d552-09e1-4059-ca61-87699c5ce791"
   },
   "outputs": [],
   "source": [
    "\n",
    "# Plot predictions vs actual values for each model\n",
    "plt.figure(figsize=(15, 10))\n",
    "for i, (name, y_pred) in enumerate(predictions.items(), 1):\n",
    "  plt.subplot(3, 2, i)\n",
    "  plt.scatter(y_test, y_pred, alpha=0.5)\n",
    "  plt.plot([y_test.min(), y_test.max()], [y_test.min(), y_test.max()], '--r')\n",
    "  plt.xlabel('Actual Gold Prices')\n",
    "  plt.ylabel('Predicted Gold Prices')\n",
    "  plt.title(f'{name} Predictions vs Actuals')\n",
    "plt.tight_layout()\n",
    "plt.show()\n"
   ]
  },
  {
   "cell_type": "markdown",
   "id": "rLj5oYIcmO86",
   "metadata": {
    "id": "rLj5oYIcmO86"
   },
   "source": [
    "**Recommendations**\n",
    "\n",
    "**Monitor Precious Metal Prices:**\n",
    "\n",
    "**Silver and Platinum:**\n",
    "* Since silver and platinum prices have strong positive correlations with gold prices, it is recommended to monitor these precious metals closely. They tend to move in tandem with gold prices.\n",
    "Keep an Eye on Interest Rates:\n",
    "\n",
    "**Interest Rates:**\n",
    "* Higher interest rates lead to a decrease in gold prices. This is because higher interest rates make fixed-income investments more attractive compared to gold, which does not yield interest.\n",
    "\n",
    "**Consider the Impact of Oil Prices:**\n",
    "\n",
    "**Oil Prices:**\n",
    "* Oil prices show moderate positive correlations with gold prices. During periods of economic uncertainty, consider the influence of oil prices on gold prices.\n",
    "\n",
    "**Consumer Price Index (CPI):**\n",
    "* An increase in CPI, which measures inflation, leads to higher gold prices. Gold is often used as a hedge against inflation.\n",
    "\n",
    "**Stock Market Indicators:**\n",
    "* Stock Market: As the S&P 500 index closes higher, the gold price tends to decrease. This suggests that when the stock market performs well, investors may prefer equities over gold.\n",
    "\n",
    "### Instructions\n",
    "<pre>\n",
    "- Clone the GitHub repository\n",
    "- Please run the notebooks in sequence\n",
    "\n",
    "├── data\n",
    "│    ├── financial_regression.csv\n",
    "├── Code\n",
    "|    ├── Gold_Price.ipynb\n",
    "├── presentation\n",
    "|   ├── README.md\n",
    "\n",
    "</pre>\n",
    "\n",
    "## Data Preparation and Visulalization\n",
    "<pre>\n",
    "Code Used: Python\n",
    "Packages:\n",
    "pandas: Data manipulation and analysis.\n",
    "matplotlib: Data visualization.\n",
    "seaborn: Statistical data visualization.\n",
    "scikit-learn: Machine learning algorithms and evaluation metrics.\n",
    "</pre>\n",
    "\n",
    "## Contact and Further Information\n",
    "\n",
    "Sanjay Pal Singh\n",
    "\n",
    "Email: ssanjay08@gmail.com\n"
   ]
  }
 ],
 "metadata": {
  "colab": {
   "provenance": []
  },
  "kernelspec": {
   "display_name": "Python 3 (ipykernel)",
   "language": "python",
   "name": "python3"
  },
  "language_info": {
   "codemirror_mode": {
    "name": "ipython",
    "version": 3
   },
   "file_extension": ".py",
   "mimetype": "text/x-python",
   "name": "python",
   "nbconvert_exporter": "python",
   "pygments_lexer": "ipython3",
   "version": "3.10.5"
  }
 },
 "nbformat": 4,
 "nbformat_minor": 5
}

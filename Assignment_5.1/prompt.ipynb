{
 "cells": [
  {
   "cell_type": "markdown",
   "metadata": {
    "id": "CcUT6Fon_qRE"
   },
   "source": [
    "### Required Assignment 5.1: Will the Customer Accept the Coupon?\n",
    "\n",
    "**Context**\n",
    "\n",
    "Imagine driving through town and a coupon is delivered to your cell phone for a restaurant near where you are driving. Would you accept that coupon and take a short detour to the restaurant? Would you accept the coupon but use it on a subsequent trip? Would you ignore the coupon entirely? What if the coupon was for a bar instead of a restaurant? What about a coffee house? Would you accept a bar coupon with a minor passenger in the car? What about if it was just you and your partner in the car? Would weather impact the rate of acceptance? What about the time of day?\n",
    "\n",
    "Obviously, proximity to the business is a factor on whether the coupon is delivered to the driver or not, but what are the factors that determine whether a driver accepts the coupon once it is delivered to them? How would you determine whether a driver is likely to accept a coupon?\n",
    "\n",
    "**Overview**\n",
    "\n",
    "The goal of this project is to use what you know about visualizations and probability distributions to distinguish between customers who accepted a driving coupon versus those that did not.\n",
    "\n",
    "**Data**\n",
    "\n",
    "This data comes to us from the UCI Machine Learning repository and was collected via a survey on Amazon Mechanical Turk. The survey describes different driving scenarios including the destination, current time, weather, passenger, etc., and then ask the person whether he will accept the coupon if he is the driver. Answers that the user will drive there ‘right away’ or ‘later before the coupon expires’ are labeled as ‘Y = 1’ and answers ‘no, I do not want the coupon’ are labeled as ‘Y = 0’.  There are five different types of coupons -- less expensive restaurants (under \\$20), coffee houses, carry out & take away, bar, and more expensive restaurants (\\$20 - $50)."
   ]
  },
  {
   "cell_type": "markdown",
   "metadata": {
    "id": "1wORvMBJ_qRF"
   },
   "source": [
    "**Deliverables**\n",
    "\n",
    "Your final product should be a brief report that highlights the differences between customers who did and did not accept the coupons.  To explore the data you will utilize your knowledge of plotting, statistical summaries, and visualization using Python. You will publish your findings in a public facing github repository as your first portfolio piece.\n",
    "\n",
    "\n",
    "\n"
   ]
  },
  {
   "cell_type": "markdown",
   "metadata": {
    "id": "pG6_Ym6q_qRG"
   },
   "source": [
    "### Data Description\n",
    "Keep in mind that these values mentioned below are average values.\n",
    "\n",
    "The attributes of this data set include:\n",
    "1. User attributes\n",
    "    -  Gender: male, female\n",
    "    -  Age: below 21, 21 to 25, 26 to 30, etc.\n",
    "    -  Marital Status: single, married partner, unmarried partner, or widowed\n",
    "    -  Number of children: 0, 1, or more than 1\n",
    "    -  Education: high school, bachelors degree, associates degree, or graduate degree\n",
    "    -  Occupation: architecture & engineering, business & financial, etc.\n",
    "    -  Annual income: less than \\\\$12500, \\\\$12500 - \\\\$24999, \\\\$25000 - \\\\$37499, etc.\n",
    "    -  Number of times that he/she goes to a bar: 0, less than 1, 1 to 3, 4 to 8 or greater than 8\n",
    "    -  Number of times that he/she buys takeaway food: 0, less than 1, 1 to 3, 4 to 8 or greater\n",
    "    than 8\n",
    "    -  Number of times that he/she goes to a coffee house: 0, less than 1, 1 to 3, 4 to 8 or\n",
    "    greater than 8\n",
    "    -  Number of times that he/she eats at a restaurant with average expense less than \\\\$20 per\n",
    "    person: 0, less than 1, 1 to 3, 4 to 8 or greater than 8\n",
    "    -  Number of times that he/she goes to a bar: 0, less than 1, 1 to 3, 4 to 8 or greater than 8\n",
    "    \n",
    "\n",
    "2. Contextual attributes\n",
    "    - Driving destination: home, work, or no urgent destination\n",
    "    - Location of user, coupon and destination: we provide a map to show the geographical\n",
    "    location of the user, destination, and the venue, and we mark the distance between each\n",
    "    two places with time of driving. The user can see whether the venue is in the same\n",
    "    direction as the destination.\n",
    "    - Weather: sunny, rainy, or snowy\n",
    "    - Temperature: 30F, 55F, or 80F\n",
    "    - Time: 10AM, 2PM, or 6PM\n",
    "    - Passenger: alone, partner, kid(s), or friend(s)\n",
    "\n",
    "\n",
    "3. Coupon attributes\n",
    "    - time before it expires: 2 hours or one day"
   ]
  },
  {
   "cell_type": "code",
   "execution_count": 1,
   "metadata": {
    "id": "dzNoP3o__qRG"
   },
   "outputs": [],
   "source": [
    "import matplotlib.pyplot as plt\n",
    "import seaborn as sns\n",
    "import pandas as pd\n",
    "import numpy as np"
   ]
  },
  {
   "cell_type": "markdown",
   "metadata": {
    "id": "Ct8pI1uE_qRG"
   },
   "source": [
    "### Problems\n",
    "\n",
    "Use the prompts below to get started with your data analysis.  \n",
    "\n",
    "1. Read in the `coupons.csv` file.\n",
    "\n",
    "\n"
   ]
  },
  {
   "cell_type": "code",
   "execution_count": 2,
   "metadata": {
    "id": "X0vbffYg_qRH"
   },
   "outputs": [],
   "source": [
    "data = pd.read_csv('data/coupons.csv')"
   ]
  },
  {
   "cell_type": "code",
   "execution_count": 3,
   "metadata": {
    "id": "TXofQ_DF_qRH",
    "outputId": "2fc96a2c-1112-4b54-f24f-dbb9bc88abfb"
   },
   "outputs": [
    {
     "data": {
      "text/html": [
       "<div>\n",
       "<style scoped>\n",
       "    .dataframe tbody tr th:only-of-type {\n",
       "        vertical-align: middle;\n",
       "    }\n",
       "\n",
       "    .dataframe tbody tr th {\n",
       "        vertical-align: top;\n",
       "    }\n",
       "\n",
       "    .dataframe thead th {\n",
       "        text-align: right;\n",
       "    }\n",
       "</style>\n",
       "<table border=\"1\" class=\"dataframe\">\n",
       "  <thead>\n",
       "    <tr style=\"text-align: right;\">\n",
       "      <th></th>\n",
       "      <th>destination</th>\n",
       "      <th>passanger</th>\n",
       "      <th>weather</th>\n",
       "      <th>temperature</th>\n",
       "      <th>time</th>\n",
       "      <th>coupon</th>\n",
       "      <th>expiration</th>\n",
       "      <th>gender</th>\n",
       "      <th>age</th>\n",
       "      <th>maritalStatus</th>\n",
       "      <th>...</th>\n",
       "      <th>CoffeeHouse</th>\n",
       "      <th>CarryAway</th>\n",
       "      <th>RestaurantLessThan20</th>\n",
       "      <th>Restaurant20To50</th>\n",
       "      <th>toCoupon_GEQ5min</th>\n",
       "      <th>toCoupon_GEQ15min</th>\n",
       "      <th>toCoupon_GEQ25min</th>\n",
       "      <th>direction_same</th>\n",
       "      <th>direction_opp</th>\n",
       "      <th>Y</th>\n",
       "    </tr>\n",
       "  </thead>\n",
       "  <tbody>\n",
       "    <tr>\n",
       "      <th>0</th>\n",
       "      <td>No Urgent Place</td>\n",
       "      <td>Alone</td>\n",
       "      <td>Sunny</td>\n",
       "      <td>55</td>\n",
       "      <td>2PM</td>\n",
       "      <td>Restaurant(&lt;20)</td>\n",
       "      <td>1d</td>\n",
       "      <td>Female</td>\n",
       "      <td>21</td>\n",
       "      <td>Unmarried partner</td>\n",
       "      <td>...</td>\n",
       "      <td>never</td>\n",
       "      <td>NaN</td>\n",
       "      <td>4~8</td>\n",
       "      <td>1~3</td>\n",
       "      <td>1</td>\n",
       "      <td>0</td>\n",
       "      <td>0</td>\n",
       "      <td>0</td>\n",
       "      <td>1</td>\n",
       "      <td>1</td>\n",
       "    </tr>\n",
       "    <tr>\n",
       "      <th>1</th>\n",
       "      <td>No Urgent Place</td>\n",
       "      <td>Friend(s)</td>\n",
       "      <td>Sunny</td>\n",
       "      <td>80</td>\n",
       "      <td>10AM</td>\n",
       "      <td>Coffee House</td>\n",
       "      <td>2h</td>\n",
       "      <td>Female</td>\n",
       "      <td>21</td>\n",
       "      <td>Unmarried partner</td>\n",
       "      <td>...</td>\n",
       "      <td>never</td>\n",
       "      <td>NaN</td>\n",
       "      <td>4~8</td>\n",
       "      <td>1~3</td>\n",
       "      <td>1</td>\n",
       "      <td>0</td>\n",
       "      <td>0</td>\n",
       "      <td>0</td>\n",
       "      <td>1</td>\n",
       "      <td>0</td>\n",
       "    </tr>\n",
       "    <tr>\n",
       "      <th>2</th>\n",
       "      <td>No Urgent Place</td>\n",
       "      <td>Friend(s)</td>\n",
       "      <td>Sunny</td>\n",
       "      <td>80</td>\n",
       "      <td>10AM</td>\n",
       "      <td>Carry out &amp; Take away</td>\n",
       "      <td>2h</td>\n",
       "      <td>Female</td>\n",
       "      <td>21</td>\n",
       "      <td>Unmarried partner</td>\n",
       "      <td>...</td>\n",
       "      <td>never</td>\n",
       "      <td>NaN</td>\n",
       "      <td>4~8</td>\n",
       "      <td>1~3</td>\n",
       "      <td>1</td>\n",
       "      <td>1</td>\n",
       "      <td>0</td>\n",
       "      <td>0</td>\n",
       "      <td>1</td>\n",
       "      <td>1</td>\n",
       "    </tr>\n",
       "    <tr>\n",
       "      <th>3</th>\n",
       "      <td>No Urgent Place</td>\n",
       "      <td>Friend(s)</td>\n",
       "      <td>Sunny</td>\n",
       "      <td>80</td>\n",
       "      <td>2PM</td>\n",
       "      <td>Coffee House</td>\n",
       "      <td>2h</td>\n",
       "      <td>Female</td>\n",
       "      <td>21</td>\n",
       "      <td>Unmarried partner</td>\n",
       "      <td>...</td>\n",
       "      <td>never</td>\n",
       "      <td>NaN</td>\n",
       "      <td>4~8</td>\n",
       "      <td>1~3</td>\n",
       "      <td>1</td>\n",
       "      <td>1</td>\n",
       "      <td>0</td>\n",
       "      <td>0</td>\n",
       "      <td>1</td>\n",
       "      <td>0</td>\n",
       "    </tr>\n",
       "    <tr>\n",
       "      <th>4</th>\n",
       "      <td>No Urgent Place</td>\n",
       "      <td>Friend(s)</td>\n",
       "      <td>Sunny</td>\n",
       "      <td>80</td>\n",
       "      <td>2PM</td>\n",
       "      <td>Coffee House</td>\n",
       "      <td>1d</td>\n",
       "      <td>Female</td>\n",
       "      <td>21</td>\n",
       "      <td>Unmarried partner</td>\n",
       "      <td>...</td>\n",
       "      <td>never</td>\n",
       "      <td>NaN</td>\n",
       "      <td>4~8</td>\n",
       "      <td>1~3</td>\n",
       "      <td>1</td>\n",
       "      <td>1</td>\n",
       "      <td>0</td>\n",
       "      <td>0</td>\n",
       "      <td>1</td>\n",
       "      <td>0</td>\n",
       "    </tr>\n",
       "  </tbody>\n",
       "</table>\n",
       "<p>5 rows × 26 columns</p>\n",
       "</div>"
      ],
      "text/plain": [
       "       destination  passanger weather  temperature  time  \\\n",
       "0  No Urgent Place      Alone   Sunny           55   2PM   \n",
       "1  No Urgent Place  Friend(s)   Sunny           80  10AM   \n",
       "2  No Urgent Place  Friend(s)   Sunny           80  10AM   \n",
       "3  No Urgent Place  Friend(s)   Sunny           80   2PM   \n",
       "4  No Urgent Place  Friend(s)   Sunny           80   2PM   \n",
       "\n",
       "                  coupon expiration  gender age      maritalStatus  ...  \\\n",
       "0        Restaurant(<20)         1d  Female  21  Unmarried partner  ...   \n",
       "1           Coffee House         2h  Female  21  Unmarried partner  ...   \n",
       "2  Carry out & Take away         2h  Female  21  Unmarried partner  ...   \n",
       "3           Coffee House         2h  Female  21  Unmarried partner  ...   \n",
       "4           Coffee House         1d  Female  21  Unmarried partner  ...   \n",
       "\n",
       "   CoffeeHouse CarryAway RestaurantLessThan20 Restaurant20To50  \\\n",
       "0        never       NaN                  4~8              1~3   \n",
       "1        never       NaN                  4~8              1~3   \n",
       "2        never       NaN                  4~8              1~3   \n",
       "3        never       NaN                  4~8              1~3   \n",
       "4        never       NaN                  4~8              1~3   \n",
       "\n",
       "  toCoupon_GEQ5min toCoupon_GEQ15min toCoupon_GEQ25min direction_same  \\\n",
       "0                1                 0                 0              0   \n",
       "1                1                 0                 0              0   \n",
       "2                1                 1                 0              0   \n",
       "3                1                 1                 0              0   \n",
       "4                1                 1                 0              0   \n",
       "\n",
       "  direction_opp  Y  \n",
       "0             1  1  \n",
       "1             1  0  \n",
       "2             1  1  \n",
       "3             1  0  \n",
       "4             1  0  \n",
       "\n",
       "[5 rows x 26 columns]"
      ]
     },
     "execution_count": 3,
     "metadata": {},
     "output_type": "execute_result"
    }
   ],
   "source": [
    "data.head()"
   ]
  },
  {
   "cell_type": "markdown",
   "metadata": {
    "id": "GcDs78ZH_qRH"
   },
   "source": [
    "2. Investigate the dataset for missing or problematic data."
   ]
  },
  {
   "cell_type": "code",
   "execution_count": 4,
   "metadata": {
    "id": "6CwL6oWj_qRH"
   },
   "outputs": [
    {
     "name": "stdout",
     "output_type": "stream",
     "text": [
      "\n",
      "Missing data in each column:\n",
      " destination                 0\n",
      "passanger                   0\n",
      "weather                     0\n",
      "temperature                 0\n",
      "time                        0\n",
      "coupon                      0\n",
      "expiration                  0\n",
      "gender                      0\n",
      "age                         0\n",
      "maritalStatus               0\n",
      "has_children                0\n",
      "education                   0\n",
      "occupation                  0\n",
      "income                      0\n",
      "car                     12576\n",
      "Bar                       107\n",
      "CoffeeHouse               217\n",
      "CarryAway                 151\n",
      "RestaurantLessThan20      130\n",
      "Restaurant20To50          189\n",
      "toCoupon_GEQ5min            0\n",
      "toCoupon_GEQ15min           0\n",
      "toCoupon_GEQ25min           0\n",
      "direction_same              0\n",
      "direction_opp               0\n",
      "Y                           0\n",
      "dtype: int64\n"
     ]
    }
   ],
   "source": [
    "missing_data = data.isnull().sum()\n",
    "print(\"\\nMissing data in each column:\\n\", missing_data)"
   ]
  },
  {
   "cell_type": "markdown",
   "metadata": {
    "id": "bSdVSpYB_qRH"
   },
   "source": [
    "3. Decide what to do about your missing data -- drop, replace, other..."
   ]
  },
  {
   "cell_type": "code",
   "execution_count": 5,
   "metadata": {
    "id": "tyvoAC5F_qRI"
   },
   "outputs": [
    {
     "name": "stdout",
     "output_type": "stream",
     "text": [
      "\n",
      "Missing data after cleaning:\n",
      " destination             0\n",
      "passanger               0\n",
      "weather                 0\n",
      "temperature             0\n",
      "time                    0\n",
      "coupon                  0\n",
      "expiration              0\n",
      "gender                  0\n",
      "age                     0\n",
      "maritalStatus           0\n",
      "has_children            0\n",
      "education               0\n",
      "occupation              0\n",
      "income                  0\n",
      "car                     0\n",
      "Bar                     0\n",
      "CoffeeHouse             0\n",
      "CarryAway               0\n",
      "RestaurantLessThan20    0\n",
      "Restaurant20To50        0\n",
      "toCoupon_GEQ5min        0\n",
      "toCoupon_GEQ15min       0\n",
      "toCoupon_GEQ25min       0\n",
      "direction_same          0\n",
      "direction_opp           0\n",
      "Y                       0\n",
      "dtype: int64\n"
     ]
    }
   ],
   "source": [
    "df_cleaned = data.dropna()\n",
    "missing_data_cleaned = df_cleaned.isnull().sum()\n",
    "print(\"\\nMissing data after cleaning:\\n\", missing_data_cleaned)"
   ]
  },
  {
   "cell_type": "markdown",
   "metadata": {
    "id": "YE6oJbXd_qRI"
   },
   "source": [
    "4. What proportion of the total observations chose to accept the coupon?\n",
    "\n"
   ]
  },
  {
   "cell_type": "code",
   "execution_count": 6,
   "metadata": {
    "id": "86GGqBTv_qRI"
   },
   "outputs": [
    {
     "name": "stdout",
     "output_type": "stream",
     "text": [
      "57.407407407407405\n"
     ]
    }
   ],
   "source": [
    "total_observations = len(df_cleaned)\n",
    "accepted_coupons = df_cleaned['Y'].sum()\n",
    "proportion_accepted = (accepted_coupons / total_observations)*100\n",
    "print(proportion_accepted)"
   ]
  },
  {
   "cell_type": "markdown",
   "metadata": {
    "id": "vflz0DoE_qRI"
   },
   "source": [
    "5. Use a bar plot to visualize the `coupon` column."
   ]
  },
  {
   "cell_type": "code",
   "execution_count": 7,
   "metadata": {
    "id": "dHFh3E45_qRI"
   },
   "outputs": [
    {
     "data": {
      "image/png": "[encoded data removed]",
      "text/plain": [
       "<Figure size 640x480 with 1 Axes>"
      ]
     },
     "metadata": {},
     "output_type": "display_data"
    }
   ],
   "source": [
    "coupon_counts = df_cleaned['coupon'].value_counts()\n",
    "coupon_counts.plot(kind='bar', color='skyblue')\n",
    "plt.title('Distribution of Coupon Types')\n",
    "plt.xlabel('Coupon Type')\n",
    "plt.ylabel('Count')\n",
    "plt.xticks(rotation=45)\n",
    "plt.show()"
   ]
  },
  {
   "cell_type": "markdown",
   "metadata": {
    "id": "Qw4lCyx2_qRI"
   },
   "source": [
    "6. Use a histogram to visualize the temperature column."
   ]
  },
  {
   "cell_type": "code",
   "execution_count": 8,
   "metadata": {
    "id": "Yg9Anv71_qRI"
   },
   "outputs": [
    {
     "data": {
      "image/png": "[encoded data removed]",
      "text/plain": [
       "<Figure size 1000x600 with 1 Axes>"
      ]
     },
     "metadata": {},
     "output_type": "display_data"
    }
   ],
   "source": [
    "plt.figure(figsize=(10,6))\n",
    "plt.hist(df_cleaned['temperature'], bins=20, color='lightblue', edgecolor='black')\n",
    "plt.title('Distribution of Temperature')\n",
    "plt.xlabel('Temperature')\n",
    "plt.ylabel('Frequency')\n",
    "plt.grid(True)\n",
    "plt.show()"
   ]
  },
  {
   "cell_type": "code",
   "execution_count": null,
   "metadata": {
    "id": "zLtOaJQk_qRI"
   },
   "outputs": [],
   "source": []
  },
  {
   "cell_type": "code",
   "execution_count": null,
   "metadata": {
    "id": "7GBHZKBp_qRJ"
   },
   "outputs": [],
   "source": []
  },
  {
   "cell_type": "code",
   "execution_count": null,
   "metadata": {
    "id": "Y5nBUA-j_qRJ"
   },
   "outputs": [],
   "source": []
  },
  {
   "cell_type": "code",
   "execution_count": null,
   "metadata": {
    "id": "ShcUC-Vm_qRJ"
   },
   "outputs": [],
   "source": []
  },
  {
   "cell_type": "markdown",
   "metadata": {
    "id": "FupfgeJk_qRJ"
   },
   "source": [
    "**Investigating the Bar Coupons**\n",
    "\n",
    "Now, we will lead you through an exploration of just the bar related coupons.  \n",
    "\n",
    "1. Create a new `DataFrame` that contains just the bar coupons.\n"
   ]
  },
  {
   "cell_type": "code",
   "execution_count": 9,
   "metadata": {
    "id": "tMBlWuGq_qRJ"
   },
   "outputs": [
    {
     "name": "stdout",
     "output_type": "stream",
     "text": [
      "<class 'pandas.core.frame.DataFrame'>\n",
      "Index: 13 entries, 1239 to 8292\n",
      "Data columns (total 26 columns):\n",
      " #   Column                Non-Null Count  Dtype \n",
      "---  ------                --------------  ----- \n",
      " 0   destination           13 non-null     object\n",
      " 1   passanger             13 non-null     object\n",
      " 2   weather               13 non-null     object\n",
      " 3   temperature           13 non-null     int64 \n",
      " 4   time                  13 non-null     object\n",
      " 5   coupon                13 non-null     object\n",
      " 6   expiration            13 non-null     object\n",
      " 7   gender                13 non-null     object\n",
      " 8   age                   13 non-null     object\n",
      " 9   maritalStatus         13 non-null     object\n",
      " 10  has_children          13 non-null     int64 \n",
      " 11  education             13 non-null     object\n",
      " 12  occupation            13 non-null     object\n",
      " 13  income                13 non-null     object\n",
      " 14  car                   13 non-null     object\n",
      " 15  Bar                   13 non-null     object\n",
      " 16  CoffeeHouse           13 non-null     object\n",
      " 17  CarryAway             13 non-null     object\n",
      " 18  RestaurantLessThan20  13 non-null     object\n",
      " 19  Restaurant20To50      13 non-null     object\n",
      " 20  toCoupon_GEQ5min      13 non-null     int64 \n",
      " 21  toCoupon_GEQ15min     13 non-null     int64 \n",
      " 22  toCoupon_GEQ25min     13 non-null     int64 \n",
      " 23  direction_same        13 non-null     int64 \n",
      " 24  direction_opp         13 non-null     int64 \n",
      " 25  Y                     13 non-null     int64 \n",
      "dtypes: int64(8), object(18)\n",
      "memory usage: 2.7+ KB\n"
     ]
    }
   ],
   "source": [
    "bar_coupons = df_cleaned[df_cleaned['coupon'] == 'Bar']\n",
    "bar_coupons.head()\n",
    "bar_coupons.info()\n"
   ]
  },
  {
   "cell_type": "markdown",
   "metadata": {
    "id": "8ue6uCqf_qRJ"
   },
   "source": [
    "2. What proportion of bar coupons were accepted?\n"
   ]
  },
  {
   "cell_type": "code",
   "execution_count": 10,
   "metadata": {
    "id": "hSdte8Mi_qRK"
   },
   "outputs": [
    {
     "name": "stdout",
     "output_type": "stream",
     "text": [
      "\n",
      "Proportion of bar coupons that were accepted: 0.23\n"
     ]
    }
   ],
   "source": [
    "proportion_accepted = bar_coupons['Y'].mean()\n",
    "print(f\"\\nProportion of bar coupons that were accepted: {proportion_accepted:.2f}\")"
   ]
  },
  {
   "cell_type": "markdown",
   "metadata": {
    "id": "85nA_iEi_qRK"
   },
   "source": [
    "3. Compare the acceptance rate between those who went to a bar 3 or fewer times a month to those who went more.\n"
   ]
  },
  {
   "cell_type": "code",
   "execution_count": 11,
   "metadata": {
    "id": "LBOrN-XM_qRK"
   },
   "outputs": [
    {
     "name": "stdout",
     "output_type": "stream",
     "text": [
      "The acceptance rate for those who went to a bar 3 or fewer times a month is 0.37\n",
      "The acceptance rate for those who went to a bar more than 3 times a month is 0.77\n"
     ]
    }
   ],
   "source": [
    "data = pd.read_csv('data/coupons.csv')\n",
    "bar_coupons = data[data['coupon'] == 'Bar']\n",
    "pd.set_option('future.no_silent_downcasting', True)\n",
    "bar_coupons.loc[:, 'Bar']  = bar_coupons['Bar'].replace({'never': 0, 'less1': 0.5, '1~3': 2, '4~8': 6, 'gt8': 9})\n",
    "\n",
    "#Acceptance rate for those who went to a bar 3 or fewer times a month\n",
    "acceptance_rate_fewer = bar_coupons[bar_coupons['Bar'] <= 3]['Y'].mean()\n",
    "\n",
    "# Acceptance rate for those who went to a bar more than 3 times a month\n",
    "acceptance_rate_more = bar_coupons[bar_coupons['Bar'] > 3]['Y'].mean()\n",
    "print(f\"The acceptance rate for those who went to a bar 3 or fewer times a month is {acceptance_rate_fewer:.2f}\")\n",
    "print(f\"The acceptance rate for those who went to a bar more than 3 times a month is {acceptance_rate_more:.2f}\")"
   ]
  },
  {
   "cell_type": "markdown",
   "metadata": {
    "id": "RBgcQwH4_qRK"
   },
   "source": [
    "4. Compare the acceptance rate between drivers who go to a bar more than once a month and are over the age of 25 to the all others.  Is there a difference?\n"
   ]
  },
  {
   "cell_type": "code",
   "execution_count": 22,
   "metadata": {
    "id": "bf28bbeX_qRK"
   },
   "outputs": [
    {
     "name": "stdout",
     "output_type": "stream",
     "text": [
      "The acceptance rate for drivers who go to a bar more than once a month and are over the age of 25 is 0.70\n",
      "The acceptance rate for all other drivers is 0.34\n"
     ]
    }
   ],
   "source": [
    "\n",
    "\n",
    "bar_coupons.loc[:, 'Bar'] = bar_coupons['Bar'].replace({\n",
    "    'never': 0,\n",
    "    'less1': 0.5,\n",
    "    '1~3': 2,\n",
    "    '4~8': 6,\n",
    "    'gt8': 9\n",
    "})\n",
    "bar_coupons.loc[:, 'age'] = bar_coupons['age'].replace({\n",
    "    '21': 21,\n",
    "    '26': 26,\n",
    "    '31': 31,\n",
    "    '36': 36,\n",
    "    '41': 41,\n",
    "    '46': 46,\n",
    "    '50plus': 55\n",
    "})\n",
    "\n",
    "bar_coupons.loc[:,'Bar'] = pd.to_numeric(bar_coupons['Bar'], errors='coerce')\n",
    "bar_coupons.loc[:,'age'] = pd.to_numeric(bar_coupons['age'], errors='coerce')\n",
    "\n",
    "# Aceptance rate for drivers who go to a bar more than once a month and are over the age of 25\n",
    "acceptance_rate_over_25_more_than_once = bar_coupons[\n",
    "    (bar_coupons['Bar'] > 1) & (bar_coupons['age'] > 25)\n",
    "]['Y'].mean()\n",
    "\n",
    "# Calculate the acceptance rate for all other drivers\n",
    "acceptance_rate_others = bar_coupons[\n",
    "    ~((bar_coupons['Bar'] > 1) & (bar_coupons['age'] > 25))\n",
    "]['Y'].mean()\n",
    "\n",
    "\n",
    "print(f\"The acceptance rate for drivers who go to a bar more than once a month and are over the age of 25 is {acceptance_rate_over_25_more_than_once:.2f}\")\n",
    "print(f\"The acceptance rate for all other drivers is {acceptance_rate_others:.2f}\")\n",
    "\n"
   ]
  },
  {
   "cell_type": "markdown",
   "metadata": {
    "id": "S4RKT4PJ_qRK"
   },
   "source": [
    "5. Use the same process to compare the acceptance rate between drivers who go to bars more than once a month and had passengers that were not a kid and had occupations other than farming, fishing, or forestry.\n"
   ]
  },
  {
   "cell_type": "code",
   "execution_count": 13,
   "metadata": {
    "id": "sENaI2Tg_qRK"
   },
   "outputs": [
    {
     "name": "stdout",
     "output_type": "stream",
     "text": [
      "The acceptance rate for drivers who go to bars more than once a month, had passengers that were not a kid, and had occupations other than farming, fishing, or forestry is 0.71\n",
      "The acceptance rate for all other drivers is 0.30\n"
     ]
    }
   ],
   "source": [
    "# Drivers who go to bars more than once a month, had passengers that were not a kid, and had occupations other than farming, fishing, or forestry\n",
    "filtered_drivers = bar_coupons[(bar_coupons['Bar'] > 1) &\n",
    "                               (bar_coupons['passanger'] != 'Kid(s)') &\n",
    "                               (~bar_coupons['occupation'].isin(['Farming Fishing & Forestry']))]\n",
    "\n",
    "# Acceptance rate for the filtered drivers\n",
    "acceptance_rate_filtered = filtered_drivers['Y'].mean()\n",
    "\n",
    "# Acceptance rate for all other drivers\n",
    "acceptance_rate_others = bar_coupons[~((bar_coupons['Bar'] > 1) &\n",
    "                                       (bar_coupons['passanger'] != 'Kid(s)') &\n",
    "                                       (~bar_coupons['occupation'].isin(['Farming Fishing & Forestry'])))]['Y'].mean()\n",
    "\n",
    "print(f\"The acceptance rate for drivers who go to bars more than once a month, had passengers that were not a kid, and had occupations other than farming, fishing, or forestry is {acceptance_rate_filtered:.2f}\")\n",
    "print(f\"The acceptance rate for all other drivers is {acceptance_rate_others:.2f}\")"
   ]
  },
  {
   "cell_type": "markdown",
   "metadata": {
    "id": "n2LIUTil_qRK"
   },
   "source": [
    "6. Compare the acceptance rates between those drivers who:\n",
    "\n",
    "- go to bars more than once a month, had passengers that were not a kid, and were not widowed *OR*\n",
    "- go to bars more than once a month and are under the age of 30 *OR*\n",
    "- go to cheap restaurants more than 4 times a month and income is less than 50K.\n",
    "\n"
   ]
  },
  {
   "cell_type": "code",
   "execution_count": 14,
   "metadata": {
    "id": "aK_wEzx7_qRK"
   },
   "outputs": [
    {
     "name": "stdout",
     "output_type": "stream",
     "text": [
      "The acceptance rate for drivers meeting any of the conditions is 0.71\n",
      "The acceptance rate for all other drivers is 0.29\n"
     ]
    }
   ],
   "source": [
    "\n",
    "\n",
    "# Condition 1:Drivers who go to bars more than once a month, not with kids, and not widowed\n",
    "condition_1 = (bar_coupons['Bar'] > 1) & (bar_coupons['passanger'] != 'Kid(s)') & (bar_coupons['maritalStatus'] != 'Widowed')\n",
    "\n",
    "# Condition 2: Drivers who go to bars more than once a month and are under 30\n",
    "condition_2 = (bar_coupons['Bar'] > 1) & (bar_coupons['age'] < 30)\n",
    "\n",
    "# cheap restaurants\n",
    "cheap_restaurants = data[data['coupon'] == 'Restaurant(<20)'].copy()  # Make a copy to avoid SettingWithCopyWarning\n",
    "cheap_restaurants.loc[:, 'RestaurantLessThan20'] = cheap_restaurants['RestaurantLessThan20'].replace({\n",
    "    'never': 0,\n",
    "    'less1': 0.5,\n",
    "    '1~3': 2,\n",
    "    '4~8': 6,\n",
    "    'gt8': 9\n",
    "})\n",
    "\n",
    "\n",
    "cheap_restaurants['RestaurantLessThan20'] = pd.to_numeric(cheap_restaurants['RestaurantLessThan20'], errors='coerce')\n",
    "\n",
    "\n",
    "condition_3 = (cheap_restaurants['RestaurantLessThan20'] > 4) & (cheap_restaurants['income'].isin([\n",
    "    'Less than $12500', \n",
    "    '$12500 - $24999', \n",
    "    '$25000 - $37499', \n",
    "    '$37500 - $49999'\n",
    "]))\n",
    "\n",
    "\n",
    "combined_conditions = condition_1 | condition_2 | condition_3.reindex(bar_coupons.index, fill_value=False)\n",
    "\n",
    "# Acceptance rate for drivers meeting any of the conditions\n",
    "acceptance_rate_combined = bar_coupons[combined_conditions]['Y'].mean()\n",
    "\n",
    "# Acceptance rate for all other drivers\n",
    "acceptance_rate_others = bar_coupons[~combined_conditions]['Y'].mean()\n",
    "\n",
    "\n",
    "print(f\"The acceptance rate for drivers meeting any of the conditions is {acceptance_rate_combined:.2f}\")\n",
    "print(f\"The acceptance rate for all other drivers is {acceptance_rate_others:.2f}\")"
   ]
  },
  {
   "cell_type": "markdown",
   "metadata": {
    "id": "v3fL3QkO_qRK"
   },
   "source": [
    "7.  Based on these observations, what do you hypothesize about drivers who accepted the bar coupons?"
   ]
  },
  {
   "cell_type": "code",
   "execution_count": 15,
   "metadata": {
    "id": "Y48naDFh_qRL"
   },
   "outputs": [],
   "source": [
    "#Frequent Bar Visitors: Drivers who visit bars more than once a month are more likely to accept bar coupons. This suggests that individuals who already have a habit of going to bars are more receptive to bar-related promotions.\n",
    "#Age Factor: Younger drivers, particularly those under the age of 30, show a higher acceptance rate for bar coupons. This could indicate that younger individuals are more inclined to take advantage of social opportunities and promotions.\n",
    "#Passenger Influence: Drivers who have passengers that are not kids are more likely to accept bar coupons. This might imply that having adult passengers, who might also be interested in visiting a bar, increases the likelihood of accepting such coupons.\n",
    "#Marital Status: Drivers who are not widowed are more likely to accept bar coupons. This could be related to social behaviors and preferences associated with different marital statuses.\n",
    "#Income and Restaurant Visits: Drivers who visit cheap restaurants more than four times a month and have an income of less than $50,000 are also more likely to accept bar coupons. This suggests that individuals who frequently dine out and have a lower income might be more attracted to discounts and promotions.\n",
    "#Occupation: Drivers with occupations other than farming, fishing, or forestry are more likely to accept bar coupons. This could be due to lifestyle differences associated with various occupations.\n",
    "#Summary\n",
    "#Overall, the data suggests that drivers who are younger, frequent bar visitors, have adult passengers, are not widowed, and have certain income levels and occupations are more likely to accept bar coupons. These factors indicate a social and economic profile that is more receptive to bar-related promotions. Understanding these patterns can help in targeting marketing efforts more effectively."
   ]
  },
  {
   "cell_type": "markdown",
   "metadata": {
    "id": "r4Hu1zOb_qRL"
   },
   "source": [
    "### Independent Investigation\n",
    "\n",
    "Using the bar coupon example as motivation, you are to explore one of the other coupon groups and try to determine the characteristics of passengers who accept the coupons.  "
   ]
  },
  {
   "cell_type": "code",
   "execution_count": 20,
   "metadata": {
    "id": "0c71cQhu_qRL"
   },
   "outputs": [
    {
     "name": "stdout",
     "output_type": "stream",
     "text": [
      "The proportion of coffee house coupons that were accepted is 0.50\n",
      "\n",
      "Acceptance rate by age group:\n",
      "age\n",
      "21         0.524349\n",
      "26         0.514828\n",
      "31         0.476726\n",
      "36         0.467662\n",
      "41         0.501538\n",
      "46         0.513636\n",
      "55         0.420183\n",
      "below21    0.696774\n",
      "Name: Y, dtype: float64\n",
      "\n",
      "Acceptance rate by gender:\n",
      "gender\n",
      "Female    0.492443\n",
      "Male      0.506427\n",
      "Name: Y, dtype: float64\n",
      "\n",
      "Acceptance rate by marital status:\n",
      "maritalStatus\n",
      "Divorced             0.523179\n",
      "Married partner      0.493186\n",
      "Single               0.516129\n",
      "Unmarried partner    0.478382\n",
      "Widowed              0.351351\n",
      "Name: Y, dtype: float64\n",
      "\n",
      "Acceptance rate by income level:\n",
      "income\n",
      "$100000 or More     0.494382\n",
      "$12500 - $24999     0.540404\n",
      "$25000 - $37499     0.473438\n",
      "$37500 - $49999     0.542373\n",
      "$50000 - $62499     0.503650\n",
      "$62500 - $74999     0.436364\n",
      "$75000 - $87499     0.296610\n",
      "$87500 - $99999     0.557196\n",
      "Less than $12500    0.551948\n",
      "Name: Y, dtype: float64\n",
      "\n",
      "Acceptance rate by education level:\n",
      "education\n",
      "Associates degree                         0.517143\n",
      "Bachelors degree                          0.462774\n",
      "Graduate degree (Masters or Doctorate)    0.510033\n",
      "High School Graduate                      0.541219\n",
      "Some High School                          0.607143\n",
      "Some college - no degree                  0.515682\n",
      "Name: Y, dtype: float64\n",
      "\n",
      "Acceptance rate by occupation:\n",
      "occupation\n",
      "Architecture & Engineering                   0.555556\n",
      "Arts Design Entertainment Sports & Media     0.507177\n",
      "Building & Grounds Cleaning & Maintenance    0.727273\n",
      "Business & Financial                         0.479452\n",
      "Community & Social Services                  0.351351\n",
      "Computer & Mathematical                      0.503341\n",
      "Construction & Extraction                    0.478261\n",
      "Education&Training&Library                   0.435811\n",
      "Farming Fishing & Forestry                   0.545455\n",
      "Food Preparation & Serving Related           0.445783\n",
      "Healthcare Practitioners & Technical         0.743243\n",
      "Healthcare Support                           0.615385\n",
      "Installation Maintenance & Repair            0.568182\n",
      "Legal                                        0.376812\n",
      "Life Physical Social Science                 0.475410\n",
      "Management                                   0.456376\n",
      "Office & Administrative Support              0.431472\n",
      "Personal Care & Service                      0.500000\n",
      "Production Occupations                       0.357143\n",
      "Protective Service                           0.448276\n",
      "Retired                                      0.402439\n",
      "Sales & Related                              0.391549\n",
      "Student                                      0.625251\n",
      "Transportation & Material Moving             0.618421\n",
      "Unemployed                                   0.542105\n",
      "Name: Y, dtype: float64\n",
      "\n",
      "Acceptance rate by frequency of visiting coffee houses:\n",
      "CoffeeHouse\n",
      "0.0    0.188781\n",
      "0.5    0.481860\n",
      "2.0    0.647793\n",
      "6.0    0.685874\n",
      "9.0    0.657895\n",
      "Name: Y, dtype: float64\n"
     ]
    }
   ],
   "source": [
    "# characteristics of passengers who accept Coffee House coupons:\n",
    "coffee_coupons = data[data['coupon'] == 'Coffee House']\n",
    "proportion_accepted = coffee_coupons['Y'].mean()\n",
    "print(f\"The proportion of coffee house coupons that were accepted is {proportion_accepted:.2f}\")\n",
    "coffee_coupons.loc[:, 'age'] = coffee_coupons['age'].replace({\n",
    "    '21': 21,\n",
    "    '26': 26,\n",
    "    '31': 31,\n",
    "    '36': 36,\n",
    "    '41': 41,\n",
    "    '46': 46,\n",
    "    '50plus': 55\n",
    "})\n",
    "coffee_coupons.loc[:, 'CoffeeHouse'] = coffee_coupons['CoffeeHouse'].replace({\n",
    "    'never': 0,\n",
    "    'less1': 0.5,\n",
    "    '1~3': 2,\n",
    "    '4~8': 6,\n",
    "    'gt8': 9\n",
    "})\n",
    "###################################################################\n",
    "#Acceptance rate by age group\n",
    "###################################################################\n",
    "acceptance_rate_by_age = coffee_coupons.groupby('age')['Y'].mean()\n",
    "print(\"\\nAcceptance rate by age group:\")\n",
    "print(acceptance_rate_by_age)\n",
    "\n",
    "###################################################################\n",
    "# Acceptance rate by gender\n",
    "###################################################################\n",
    "acceptance_rate_by_gender = coffee_coupons.groupby('gender')['Y'].mean()\n",
    "print(\"\\nAcceptance rate by gender:\")\n",
    "print(acceptance_rate_by_gender)\n",
    "\n",
    "#################################################################\n",
    "# Acceptance rate by marital status\n",
    "#################################################################\n",
    "acceptance_rate_by_marital_status = coffee_coupons.groupby('maritalStatus')['Y'].mean()\n",
    "print(\"\\nAcceptance rate by marital status:\")\n",
    "print(acceptance_rate_by_marital_status)\n",
    "\n",
    "# Acceptance rate by income level\n",
    "acceptance_rate_by_income = coffee_coupons.groupby('income')['Y'].mean()\n",
    "print(\"\\nAcceptance rate by income level:\")\n",
    "print(acceptance_rate_by_income)\n",
    "\n",
    "\n",
    "#################################################################\n",
    "# Acceptance rate by education level\n",
    "##################################################################\n",
    "acceptance_rate_by_education = coffee_coupons.groupby('education')['Y'].mean()\n",
    "print(\"\\nAcceptance rate by education level:\")\n",
    "print(acceptance_rate_by_education)\n",
    "\n",
    "###########################################################\n",
    "# Acceptance rate by occupation\n",
    "#####################################################################\n",
    "acceptance_rate_by_occupation = coffee_coupons.groupby('occupation')['Y'].mean()\n",
    "print(\"\\nAcceptance rate by occupation:\")\n",
    "print(acceptance_rate_by_occupation)\n",
    "\n",
    "# Acceptance rate by frequency of visiting coffee houses\n",
    "acceptance_rate_by_coffeehouse_visits = coffee_coupons.groupby('CoffeeHouse')['Y'].mean()\n",
    "print(\"\\nAcceptance rate by frequency of visiting coffee houses:\")\n",
    "print(acceptance_rate_by_coffeehouse_visits)"
   ]
  },
  {
   "cell_type": "code",
   "execution_count": 21,
   "metadata": {
    "id": "QEsBkvIN_qRL"
   },
   "outputs": [],
   "source": [
    "#Summary:\n",
    "#Age: Younger passengers, especially those below 21, have a higher acceptance rate.\n",
    "#Gender: Males have a slightly higher acceptance rate than females.\n",
    "#Marital Status: Divorced and single passengers have higher acceptance rates compared to widowed passengers.\n",
    "#Income: Passengers with lower income levels ($12500 - $24999) have a higher acceptance rate.\n",
    "#Education: Acceptance rates are fairly consistent across different education levels.\n",
    "#Occupation: Students and those in transportation and material moving occupations have higher acceptance rates.\n",
    "#Frequency of Visits: Passengers who visit coffee houses more frequently are more likely to accept coffee house coupons.\n"
   ]
  },
  {
   "cell_type": "code",
   "execution_count": null,
   "metadata": {
    "id": "fTC2WGE3_qRL"
   },
   "outputs": [],
   "source": []
  },
  {
   "cell_type": "code",
   "execution_count": null,
   "metadata": {
    "id": "RrqUWn7d_qRL"
   },
   "outputs": [],
   "source": []
  },
  {
   "cell_type": "code",
   "execution_count": null,
   "metadata": {
    "id": "_oykf8YP_qRL"
   },
   "outputs": [],
   "source": []
  }
 ],
 "metadata": {
  "colab": {
   "provenance": []
  },
  "kernelspec": {
   "display_name": "Python 3 (ipykernel)",
   "language": "python",
   "name": "python3"
  },
  "language_info": {
   "codemirror_mode": {
    "name": "ipython",
    "version": 3
   },
   "file_extension": ".py",
   "mimetype": "text/x-python",
   "name": "python",
   "nbconvert_exporter": "python",
   "pygments_lexer": "ipython3",
   "version": "3.10.5"
  }
 },
 "nbformat": 4,
 "nbformat_minor": 4
}
